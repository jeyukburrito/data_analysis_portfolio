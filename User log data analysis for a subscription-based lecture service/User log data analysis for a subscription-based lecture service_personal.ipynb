{
 "cells": [
  {
   "cell_type": "markdown",
   "id": "7432294f",
   "metadata": {},
   "source": [
    "## 1. 서론"
   ]
  },
  {
   "cell_type": "markdown",
   "id": "617bd694",
   "metadata": {},
   "source": [
    "### 1.1 분석 배경 및 목적"
   ]
  },
  {
   "cell_type": "markdown",
   "id": "d5e53164",
   "metadata": {},
   "source": [
    "## 1. 서론"
   ]
  },
  {
   "cell_type": "markdown",
   "id": "13809027",
   "metadata": {},
   "source": [
    "온라인 교육 콘텐츠 시장은 디지털 전환 가속화, 학습 주체의 자율성 확대, 그리고 시·공간 제약 없는 학습 환경 제공을 통해 매년 급격한 성장세를 기록하고 있다. 특히 코로나19 팬데믹을 계기로 오프라인 강의가 비대면 콘텐츠로 대거 전환되면서, 개별 학습자의 요구에 최적화된 맞춤형 강의 제공 및 학습 효과 측정에 대한 수요가 더욱 증대되었다. 본 분석의 목적은 서비스 이용자의 행동 패턴을 정밀히 진단하여, 운영 중인 교육 상품의 강·약점을 객관적으로 파악하고, 데이터 기반 인사이트를 도출함으로써 비즈니스 가치를 극대화하는 데 있다.\n",
    "\n",
    "연구 대상은 유저의 접속 및 학습 여정 전반에 걸친 로그 데이터로서, 메인페이지 진입, 회원가입, 강의 페이지 방문, 수강 시작·완료, 후기 확인 등 주요 접점이 포함된다. 특히 콘텐츠 난이도별 수강 전환율, 레슨별 이탈 구간, 무료 체험 유입 후 유료 전환 시점 등 핵심 지표를 중심으로 유저 행동을 세분화하여 분석한다. 이를 통해 ‘어떤 유형의 사용자’가 ‘어떤 경로로’ 서비스를 이용하며, ‘어느 시점에’ 이탈 또는 결제로 이어지는지를 체계적으로 규명할 것이다.\n",
    "\n",
    "이어서, 분석 결과를 토대로 구체적인 서비스 개선 방안을 제시한다. 예컨대 특정 난이도 구간에서 이탈률이 과도하게 발생할 경우, 레슨 구성 및 난이도 재조정 또는 보조 학습 자료 제공 여부를 검토하고, 무료 체험 후 유료 전환율 제고를 위해 체험 기간 중 핵심 가치 제안 강화 및 타깃별 맞춤 프로모션 설계 방안을 모색한다. 마지막으로 제안된 개선 과제에 대한 우선순위를 설정하고, 이후 A/B 테스트 및 전환율 모니터링 계획을 포함한 실행 로드맵을 제안함으로써 실질적 개선 성과를 확보하고자 한다."
   ]
  },
  {
   "cell_type": "markdown",
   "id": "0eef33db",
   "metadata": {},
   "source": [
    "## 2. 목표 설정 및 가설 정의\n"
   ]
  },
  {
   "cell_type": "markdown",
   "id": "cd80bfd5",
   "metadata": {},
   "source": [
    "### 2.1 주제"
   ]
  },
  {
   "cell_type": "markdown",
   "id": "40715829",
   "metadata": {},
   "source": [
    "구독 서비스 로그 데이터를 이용한 사용자 세그먼트 분석"
   ]
  },
  {
   "cell_type": "markdown",
   "id": "ca9356db",
   "metadata": {},
   "source": [
    "### 2.2 목표"
   ]
  },
  {
   "cell_type": "markdown",
   "id": "af8bf1ba",
   "metadata": {},
   "source": [
    "### 2.3 실험 가설"
   ]
  },
  {
   "cell_type": "markdown",
   "id": "7ead7a7f",
   "metadata": {},
   "source": [
    "### 2.4 AARRR 프레임 워크 정의"
   ]
  },
  {
   "cell_type": "markdown",
   "id": "62524323",
   "metadata": {},
   "source": [
    "| 구분 | 지표 | 설명 | 비고 |\n",
    "| --- | --- | --- | --- |\n",
    "| Acquisition | 2022년 이후 가입 유저 수 | 실험 대상 풀 정의 | 가입 발생 시점을 기준으로 추출 |\n",
    "| Activation (A-ha Moment) | 최소 1개 레슨 시작(`enter_lesson`) | ‘가치 체험’ 최초 시점 측정 | `enter_lesson` 이벤트 발생 |\n",
    "| Retention | Day 1 재방문율 (2022년 이후 Activation 기준) | Activation 다음 날에 서비스 접속 비율 | `client_event_time` 기준 |\n",
    "| Revenue | 실제 구독으로 이어진 유저 수 | 구독 관련 데이터에 로그가 남아 있는 유저 수 | `client_event_time` 기준 |"
   ]
  },
  {
   "cell_type": "markdown",
   "id": "0bbfc34d",
   "metadata": {},
   "source": [
    "## 3. 분석 환경 준비"
   ]
  },
  {
   "cell_type": "markdown",
   "id": "84712fca",
   "metadata": {},
   "source": [
    "### 3.1 분석 환경 설정"
   ]
  },
  {
   "cell_type": "code",
   "execution_count": 1,
   "id": "724a95c4",
   "metadata": {},
   "outputs": [],
   "source": [
    "import pandas as pd\n",
    "import numpy as np\n",
    "import os\n",
    "import matplotlib.pyplot as plt\n",
    "import seaborn as sns\n",
    "plt.rcParams['font.family'] ='Malgun Gothic'\n",
    "plt.rcParams['axes.unicode_minus'] = False\n",
    "os.chdir('C:/Users/Yoo/Desktop/codeit/중급 프로젝트/주제 2/Data')"
   ]
  },
  {
   "cell_type": "markdown",
   "id": "3ebdf7cd",
   "metadata": {},
   "source": [
    "### 3.2 데이터 정의"
   ]
  },
  {
   "cell_type": "markdown",
   "id": "9a501ce2",
   "metadata": {},
   "source": [
    "온라인 교육 콘텐츠 구독서비스의 2년 기간의 (2022.01.01 - 2023.12.31) 온라인 서비스 유저 행동 데이터"
   ]
  },
  {
   "cell_type": "markdown",
   "id": "d8dc3df4",
   "metadata": {},
   "source": [
    "- 데이터 정의서"
   ]
  },
  {
   "cell_type": "markdown",
   "id": "ee5dbbbc",
   "metadata": {},
   "source": [
    "| 구분 | 이벤트 키 | 설명 | 주요 파라미터 | 비고 |\n",
    "| --- | --- | --- | --- | --- |\n",
    "| 가입 | enter.main_page | 서비스 메인페이지 진입 |  |  |\n",
    "| 가입 | enter.signup_page | 회원가입 페이지 진입 |  |  |\n",
    "| 가입 | complete.signup | 회원가입 완료 | 로그인 방식 |  |\n",
    "| 수강 | click.content_page_start_content_button | 콘텐츠 수강하기 버튼 클릭 | 콘텐츠 id, 버튼 이름 |  |\n",
    "| 수강 | click.content_page_more_review_button | 콘텐츠 후기 더보기 버튼 클릭 | 콘텐츠 id |  |\n",
    "| 수강 | start.content | 콘텐츠 수강 시작 | 콘텐츠 id, 콘텐츠 이용가, 콘텐츠 난이도 | 22년 8월부터 수집된 테이블입니다. |\n",
    "| 수강 | enter.lesson_page | 레슨 시작 | 콘텐츠 id, 레슨 id, 무료체험 여부 | 콘텐츠는 여러 개의 레슨으로 구성되어 있습니다. |\n",
    "| 수강 | complete.lesson | 레슨 완료 | 콘텐츠 id, 레슨 id |  |\n",
    "| 수강 | click_lesson_page_related_question_box | 레슨 페이지 내 질문 목록 클릭 | 콘텐츠 id, 레슨 id, 댓글 id |  |\n",
    "| 수강 | end.content | 콘텐츠 수강 완료 | 콘텐츠 id | 콘텐츠 내 모든 레슨을 시청하면 로그가 쌓임 |\n",
    "| 수강 | enter.content_page | 콘텐츠 개별 페이지 진입 | 콘텐츠 id |  |\n",
    "| 구독 및 결제 | enter.payment_page | 결제 페이지 진입 |  |  |\n",
    "| 구독 및 결제 | complete.subscription | 첫 결제 완료 | 정상가, 할인가, 할인액, 결제수단 타입 | 첫 결제가 중복이면 환불 후 재결제한 케이스로 간주 |\n",
    "| 구독 및 결제 | renew.subscription | 정기 결제 완료 | 정상가, 할인가, 할인액, 결제수단 타입 |  |\n",
    "| 구독 및 결제 | resubscribe.subscription | 만료 후 재구독 완료 |  |  |\n",
    "| 구독 및 결제 | start.free_trial | 서비스 무료체험 시작 | 콘텐츠 id, 요금제 종류, 정상가 |  |\n",
    "| 구독 및 결제 | click.cancel_plan_button | 구독 취소 버튼 클릭 |  | 구독 취소 버튼을 클릭했다면 구독 취소가 이루어진 것으로 간주 |"
   ]
  },
  {
   "cell_type": "markdown",
   "id": "543e2ad9",
   "metadata": {},
   "source": [
    "- 공통 컬럼 (모든 데이터에 공통으로 존재하는 컬럼입니다.)"
   ]
  },
  {
   "cell_type": "markdown",
   "id": "6850765c",
   "metadata": {},
   "source": [
    "| 필드 | 설명 | 데이터 타입 | 비고 |\n",
    "| --- | --- | --- | --- |\n",
    "| city | 접속 위치 | Object | 국내 기준 “시” 단위로 제공하나, 서울의 경우 “구”가 특정이 되는 경우는 “구” 단위로 표기 |\n",
    "| client_event_time | 타임스탬프 | Object | UTC +0 기준 타임스탬프 |\n",
    "| country | 접속 국가 | Object |  |\n",
    "| device_carrier | 사용 이동통신사 | float64 |  |\n",
    "| device_family | 사용 기기 유형 | Object |  |\n",
    "| device_type | 사용 기기 | Object |  |\n",
    "| event_type | 이벤트 유형 | Object | 테이블명과 일치 |\n",
    "| language | 사용자 설정 언어 | Object |  |\n",
    "| os_name | 사용 브라우저 이름 | Object |  |\n",
    "| os_version | 사용 브라우저 버전 | Object |  |\n",
    "| platform | 사용 플랫폼 | Object |  |\n",
    "| user_id | 유저 id | Object |  |"
   ]
  },
  {
   "cell_type": "markdown",
   "id": "d49eea13",
   "metadata": {},
   "source": [
    "- 고유 컬럼"
   ]
  },
  {
   "cell_type": "markdown",
   "id": "792cbbb8",
   "metadata": {},
   "source": [
    "| 이벤트 키 | 설명 | 주요 파라미터 (변수명: 타입) | 비고 |\n",
    "| --- | --- | --- | --- |\n",
    "| enter.main_page | 서비스 메인페이지 진입 | – | – |\n",
    "| enter.signup_page | 회원가입 페이지 진입 | – | – |\n",
    "| complete.signup | 회원가입 완료 | type: object | 로그인 방식 |\n",
    "| enter.content_page | 콘텐츠 개별 페이지 진입 | content.id: object | 콘텐츠 ID |\n",
    "| click.content_page_start_content_button | 콘텐츠 수강하기 버튼 클릭 | content.id: object, button_name: object<br>button.name: object | `button_name`(페이지 개편 전) / `button.name`(페이지 개편 후) |\n",
    "| click.content_page_more_review_button | 콘텐츠 후기 더보기 버튼 클릭 | content.id: object | 콘텐츠 ID |\n",
    "| enter.payment_page | 결제 페이지 진입 | – | – |\n",
    "| complete.subscription | 첫 결제 완료 | plan.price: int64, paid_amount: int64,<br>coupon.discount_amount: int64, pg.type: object | `coupon.discount_amount` = 정상가 − 실제 결제 금액<br>`pg.type` A / B / C = 각기 다른 간편결제 수단 |\n",
    "| renew.subscription | 정기 결제 완료 | plan.price: int64, paid_amount: int64,<br>coupon.discount_amount: int64, pg.type: object | (위와 동일) |\n",
    "| resubscribe.subscription | 만료 후 재구독 완료 | plan.price: int64, paid_amount: int64,<br>coupon.discount_amount: int64, pg.type: object | (위와 동일) |\n",
    "| start.free_trial | 서비스 무료체험 시작 | plan.price: int64, plan.type: object | plan.type : 1 개월 / 12 개월 요금제 선택<br>모든 요금제는 7일 무료체험 가능 (결제수단 등록 필요)<br>7일 이내 해지하지 않으면 자동 결제 |\n",
    "| start.content | 콘텐츠 수강 시작 | content.id: object, content.difficulty: int64 | – |\n",
    "| enter.lesson_page | 레슨 시작 | content.id: object, lesson.id: object,<br>is_free_trial: boolean, is_trial: boolean | `is_trial` = 무료 레슨이면서 비구독자 여부 |\n",
    "| complete.lesson | 레슨 완료 | content.id: object, lesson.id: object | – |\n",
    "| click_lesson_page_related_question_box | 레슨 페이지 내 질문 목록 클릭 | content.id: object, lesson.id: object,<br>question.id: object | – |\n",
    "| end.content | 콘텐츠 수강 완료 | content.id: object | 콘텐츠 내 모든 레슨 시청 시 기록 |\n",
    "| click.cancel_plan_button | 구독 취소 버튼 클릭 | – | 구독 취소로 간주 |\n"
   ]
  },
  {
   "cell_type": "markdown",
   "id": "1d5af464",
   "metadata": {},
   "source": [
    "## 4. 데이터 전처리"
   ]
  },
  {
   "cell_type": "code",
   "execution_count": 2,
   "id": "bf0be679",
   "metadata": {},
   "outputs": [
    {
     "name": "stdout",
     "output_type": "stream",
     "text": [
      "전체 파일 리스트: ['aa.csv', 'churn.csv', 'click.cancel_plan_button.csv', 'click.content_page_more_review_button.csv', 'click.content_page_start_content_button.csv', 'click.lesson_page_related_question_box.csv', 'complete.lesson.csv', 'complete.signup.csv', 'complete.subscription.csv', 'end.content.csv', 'enter.content_page.csv', 'enter.lesson_page.csv', 'enter.main_page.csv', 'enter.payment_page.csv', 'enter.signup_page.csv', 'renew.subscription.csv', 'resubscribe.subscription.csv', 'start.content.csv', 'start.free_trial.csv', 'user_act.csv', 'user_features.csv', 'user_info.csv']\n",
      "[CSV] aa.csv 읽기 완료, shape: (7320, 45)\n",
      "[CSV] churn.csv 읽기 완료, shape: (145133, 25)\n",
      "[CSV] click.cancel_plan_button.csv 읽기 완료, shape: (17895, 12)\n",
      "[CSV] click.content_page_more_review_button.csv 읽기 완료, shape: (93962, 13)\n"
     ]
    },
    {
     "name": "stderr",
     "output_type": "stream",
     "text": [
      "C:\\Users\\Yoo\\AppData\\Local\\Temp\\ipykernel_145472\\3682976183.py:12: DtypeWarning: Columns (13) have mixed types. Specify dtype option on import or set low_memory=False.\n",
      "  df = pd.read_csv(file)\n"
     ]
    },
    {
     "name": "stdout",
     "output_type": "stream",
     "text": [
      "[CSV] click.content_page_start_content_button.csv 읽기 완료, shape: (172911, 15)\n",
      "[CSV] click.lesson_page_related_question_box.csv 읽기 완료, shape: (1379136, 15)\n",
      "[CSV] complete.lesson.csv 읽기 완료, shape: (5405069, 14)\n",
      "[CSV] complete.signup.csv 읽기 완료, shape: (145133, 13)\n",
      "[CSV] complete.subscription.csv 읽기 완료, shape: (14289, 16)\n",
      "[CSV] end.content.csv 읽기 완료, shape: (120582, 13)\n",
      "[CSV] enter.content_page.csv 읽기 완료, shape: (1914257, 13)\n"
     ]
    },
    {
     "name": "stderr",
     "output_type": "stream",
     "text": [
      "C:\\Users\\Yoo\\AppData\\Local\\Temp\\ipykernel_145472\\3682976183.py:12: DtypeWarning: Columns (9,13,15) have mixed types. Specify dtype option on import or set low_memory=False.\n",
      "  df = pd.read_csv(file)\n"
     ]
    },
    {
     "name": "stdout",
     "output_type": "stream",
     "text": [
      "[CSV] enter.lesson_page.csv 읽기 완료, shape: (21029707, 16)\n",
      "[CSV] enter.main_page.csv 읽기 완료, shape: (2133548, 12)\n",
      "[CSV] enter.payment_page.csv 읽기 완료, shape: (165061, 12)\n",
      "[CSV] enter.signup_page.csv 읽기 완료, shape: (596829, 12)\n",
      "[CSV] renew.subscription.csv 읽기 완료, shape: (15945, 16)\n",
      "[CSV] resubscribe.subscription.csv 읽기 완료, shape: (791, 16)\n",
      "[CSV] start.content.csv 읽기 완료, shape: (124917, 14)\n",
      "[CSV] start.free_trial.csv 읽기 완료, shape: (30621, 14)\n",
      "[CSV] user_act.csv 읽기 완료, shape: (15033460, 9)\n",
      "[CSV] user_features.csv 읽기 완료, shape: (145133, 23)\n",
      "[CSV] user_info.csv 읽기 완료, shape: (145133, 5)\n"
     ]
    }
   ],
   "source": [
    "import glob\n",
    "\n",
    "# 현재 디렉토리의 모든 파일 목록 확인\n",
    "all_files = os.listdir('.')\n",
    "print(\"전체 파일 리스트:\", all_files)\n",
    "\n",
    "dataframes = {}\n",
    "\n",
    "for file in all_files:\n",
    "    if file.endswith('.csv'):\n",
    "        try:\n",
    "            df = pd.read_csv(file)\n",
    "            dataframes[file] = df\n",
    "            print(f\"[CSV] {file} 읽기 완료, shape: {df.shape}\")\n",
    "        except Exception as e:\n",
    "            print(f\"[CSV] {file} 읽기 실패: {e}\")\n",
    "    elif file.endswith('.xlsx') or file.endswith('.xls'):\n",
    "        try:\n",
    "            df = pd.read_excel(file)\n",
    "            dataframes[file] = df\n",
    "            print(f\"[Excel] {file} 읽기 완료, shape: {df.shape}\")\n",
    "        except Exception as e:\n",
    "            print(f\"[Excel] {file} 읽기 실패: {e}\")\n",
    "    else:\n",
    "        print(f\"파일 스킵: {file}\")"
   ]
  },
  {
   "cell_type": "code",
   "execution_count": 3,
   "id": "e797fad5",
   "metadata": {},
   "outputs": [],
   "source": [
    "# 로그 데이터 불러오기\n",
    "\n",
    "click_content_page_start_content_button = dataframes['click.content_page_start_content_button.csv']\n",
    "complete_lesson = dataframes['complete.lesson.csv']\n",
    "complete_signup = dataframes['complete.signup.csv']\n",
    "complete_subscription = dataframes['complete.subscription.csv']\n",
    "enter_lesson = dataframes['enter.lesson_page.csv']\n",
    "\n",
    "renew_subscription = dataframes['renew.subscription.csv']\n",
    "resubscribe_subscription = dataframes['resubscribe.subscription.csv']\n",
    "start_content = dataframes['start.content.csv']\n",
    "start_free_trial = dataframes['start.free_trial.csv']\n",
    "enter_main_page = dataframes['enter.main_page.csv']\n",
    "\n",
    "start_content_click = dataframes['click.content_page_start_content_button.csv']\n",
    "content_review = dataframes['click.content_page_more_review_button.csv']\n",
    "question_box = dataframes['click.lesson_page_related_question_box.csv']\n",
    "enter_content_page = dataframes['enter.content_page.csv']\n",
    "click_cancel = dataframes['click.cancel_plan_button.csv']\n",
    "\n",
    "payment_page = dataframes['enter.payment_page.csv']\n",
    "enter_signup_page = dataframes['enter.signup_page.csv']\n",
    "end_content = dataframes['end.content.csv']"
   ]
  },
  {
   "cell_type": "code",
   "execution_count": 4,
   "id": "d7542791",
   "metadata": {},
   "outputs": [],
   "source": [
    "# 2022년 이전 데이터는 전부 삭제\n",
    "\n",
    "cutoff = pd.to_datetime('2022-01-01')\n",
    "\n",
    "dfs = [\n",
    "    click_content_page_start_content_button, complete_lesson,\n",
    "    complete_signup, complete_subscription, enter_lesson,\n",
    "    renew_subscription, resubscribe_subscription, start_content,\n",
    "    start_free_trial, enter_main_page, start_content_click,\n",
    "    content_review, question_box, enter_content_page,\n",
    "    click_cancel, payment_page, enter_signup_page, end_content\n",
    "]\n",
    "\n",
    "ts_col = 'client_event_time'  \n",
    "for i, df in enumerate(dfs):\n",
    "    df[ts_col] = pd.to_datetime(df[ts_col])\n",
    "    dfs[i] = df[df[ts_col] >= cutoff].reset_index(drop=True)\n",
    "\n",
    "# 변수명에 할당\n",
    "(\n",
    "    click_content_page_start_content_button, complete_lesson,\n",
    "    complete_signup, complete_subscription, enter_lesson,\n",
    "    renew_subscription, resubscribe_subscription, start_content,\n",
    "    start_free_trial, enter_main_page, start_content_click,\n",
    "    content_review, question_box, enter_content_page,\n",
    "    click_cancel, payment_page, enter_signup_page, end_content\n",
    ") = dfs"
   ]
  },
  {
   "cell_type": "code",
   "execution_count": 5,
   "id": "905bff00",
   "metadata": {},
   "outputs": [],
   "source": [
    "import numpy as np\n",
    "\n",
    "# PC 식별용 패턴\n",
    "pc_pattern = r'Windows|Mac|Linux|Chromium OS|Ubuntu'\n",
    "\n",
    "# 모든 DataFrame을 하나의 리스트에 모아두기\n",
    "dfs = [\n",
    "    click_content_page_start_content_button,\n",
    "    complete_lesson,\n",
    "    complete_signup,\n",
    "    complete_subscription,\n",
    "    enter_lesson,\n",
    "    renew_subscription,\n",
    "    resubscribe_subscription,\n",
    "    start_content,\n",
    "    start_free_trial,\n",
    "    enter_main_page,\n",
    "    start_content_click,\n",
    "    content_review,\n",
    "    question_box,\n",
    "    enter_content_page,\n",
    "    click_cancel,\n",
    "    payment_page,\n",
    "    enter_signup_page,\n",
    "    end_content\n",
    "]\n",
    "\n",
    "# 루프 돌면서 device_class 컬럼 생성\n",
    "for df in dfs:\n",
    "    df['device_class'] = np.where(\n",
    "        df['device_type'].str.contains(pc_pattern, case=False, na=False),\n",
    "        'PC',\n",
    "        'Mobile'\n",
    "    )\n"
   ]
  },
  {
   "cell_type": "code",
   "execution_count": 6,
   "id": "b31e2056",
   "metadata": {},
   "outputs": [],
   "source": [
    "# 삭제할 컬럼 리스트\n",
    "drop_cols = [\n",
    "    'city', 'country', 'device_carrier', 'language',\n",
    "    'os_name', 'os_version', 'platform', 'device_family', 'device_type'\n",
    "]\n",
    "\n",
    "\n",
    "dfs = [\n",
    "    click_content_page_start_content_button, complete_lesson,\n",
    "    complete_signup, complete_subscription, enter_lesson,\n",
    "    renew_subscription, resubscribe_subscription, start_content,\n",
    "    start_free_trial, enter_main_page, start_content_click,\n",
    "    content_review, question_box, enter_content_page,\n",
    "    click_cancel, payment_page, enter_signup_page, end_content\n",
    "]\n",
    "\n",
    "for df in dfs:\n",
    "    df.drop(columns=drop_cols, inplace=True, errors='ignore')\n"
   ]
  },
  {
   "cell_type": "markdown",
   "id": "ae7317b6",
   "metadata": {},
   "source": [
    "### 4.2 데이터 가공 "
   ]
  },
  {
   "cell_type": "code",
   "execution_count": 7,
   "id": "c9c3a5ca",
   "metadata": {},
   "outputs": [],
   "source": [
    "# 유저 정보 데이터 프레임 생성\n",
    "\n",
    "complete_signup\n",
    "\n",
    "user_info = complete_signup[['user_id', 'client_event_time']].copy()\n",
    "user_info.rename(columns={'client_event_time': 'signup_time'}, inplace=True)"
   ]
  },
  {
   "cell_type": "code",
   "execution_count": 8,
   "id": "c264aa8d",
   "metadata": {},
   "outputs": [
    {
     "data": {
      "text/html": [
       "<div>\n",
       "<style scoped>\n",
       "    .dataframe tbody tr th:only-of-type {\n",
       "        vertical-align: middle;\n",
       "    }\n",
       "\n",
       "    .dataframe tbody tr th {\n",
       "        vertical-align: top;\n",
       "    }\n",
       "\n",
       "    .dataframe thead th {\n",
       "        text-align: right;\n",
       "    }\n",
       "</style>\n",
       "<table border=\"1\" class=\"dataframe\">\n",
       "  <thead>\n",
       "    <tr style=\"text-align: right;\">\n",
       "      <th></th>\n",
       "      <th>user_id</th>\n",
       "      <th>signup_time</th>\n",
       "    </tr>\n",
       "  </thead>\n",
       "  <tbody>\n",
       "    <tr>\n",
       "      <th>0</th>\n",
       "      <td>74d17c27a41656e7788b0c81d9f76cda</td>\n",
       "      <td>2023-04-05 21:33:26.068</td>\n",
       "    </tr>\n",
       "    <tr>\n",
       "      <th>1</th>\n",
       "      <td>06b6868000a5d576180aca47896d6cce</td>\n",
       "      <td>2023-04-05 21:45:18.672</td>\n",
       "    </tr>\n",
       "    <tr>\n",
       "      <th>2</th>\n",
       "      <td>e131c319972bd580146c5a2faba26613</td>\n",
       "      <td>2023-04-10 14:47:56.424</td>\n",
       "    </tr>\n",
       "    <tr>\n",
       "      <th>3</th>\n",
       "      <td>e3b8bfa80d866f296aad139e09023ef3</td>\n",
       "      <td>2023-04-10 14:25:45.920</td>\n",
       "    </tr>\n",
       "    <tr>\n",
       "      <th>4</th>\n",
       "      <td>5208a60918f18562ac9d668a35b20303</td>\n",
       "      <td>2023-04-10 14:09:50.698</td>\n",
       "    </tr>\n",
       "    <tr>\n",
       "      <th>...</th>\n",
       "      <td>...</td>\n",
       "      <td>...</td>\n",
       "    </tr>\n",
       "    <tr>\n",
       "      <th>145128</th>\n",
       "      <td>0117038cc69fe8a40388ec19bb0a495e</td>\n",
       "      <td>2023-10-10 05:10:04.854</td>\n",
       "    </tr>\n",
       "    <tr>\n",
       "      <th>145129</th>\n",
       "      <td>bc1a28ff902daba9399e7f602cc86285</td>\n",
       "      <td>2023-10-10 05:16:31.995</td>\n",
       "    </tr>\n",
       "    <tr>\n",
       "      <th>145130</th>\n",
       "      <td>0d507104136f139cbc9f6fa1db365162</td>\n",
       "      <td>2023-10-10 05:27:53.140</td>\n",
       "    </tr>\n",
       "    <tr>\n",
       "      <th>145131</th>\n",
       "      <td>298e200203472e5bc0f9a14053e1dfe1</td>\n",
       "      <td>2023-10-10 05:33:30.471</td>\n",
       "    </tr>\n",
       "    <tr>\n",
       "      <th>145132</th>\n",
       "      <td>4252b7d6d08c1ba797ec2f5d0b244963</td>\n",
       "      <td>2023-10-10 05:50:07.380</td>\n",
       "    </tr>\n",
       "  </tbody>\n",
       "</table>\n",
       "<p>145133 rows × 2 columns</p>\n",
       "</div>"
      ],
      "text/plain": [
       "                                 user_id             signup_time\n",
       "0       74d17c27a41656e7788b0c81d9f76cda 2023-04-05 21:33:26.068\n",
       "1       06b6868000a5d576180aca47896d6cce 2023-04-05 21:45:18.672\n",
       "2       e131c319972bd580146c5a2faba26613 2023-04-10 14:47:56.424\n",
       "3       e3b8bfa80d866f296aad139e09023ef3 2023-04-10 14:25:45.920\n",
       "4       5208a60918f18562ac9d668a35b20303 2023-04-10 14:09:50.698\n",
       "...                                  ...                     ...\n",
       "145128  0117038cc69fe8a40388ec19bb0a495e 2023-10-10 05:10:04.854\n",
       "145129  bc1a28ff902daba9399e7f602cc86285 2023-10-10 05:16:31.995\n",
       "145130  0d507104136f139cbc9f6fa1db365162 2023-10-10 05:27:53.140\n",
       "145131  298e200203472e5bc0f9a14053e1dfe1 2023-10-10 05:33:30.471\n",
       "145132  4252b7d6d08c1ba797ec2f5d0b244963 2023-10-10 05:50:07.380\n",
       "\n",
       "[145133 rows x 2 columns]"
      ]
     },
     "execution_count": 8,
     "metadata": {},
     "output_type": "execute_result"
    }
   ],
   "source": [
    "user_info"
   ]
  },
  {
   "cell_type": "code",
   "execution_count": 9,
   "id": "a51cc12d",
   "metadata": {},
   "outputs": [],
   "source": [
    "# user_info에 aha_moment 컬럼 추가\n",
    "# aha_moment는 첫 레슨 수강 일\n",
    "aha_moment = enter_lesson.groupby('user_id')['client_event_time'].min().reset_index()\n",
    "aha_moment.rename(columns={'client_event_time': 'aha_moment'}, inplace=True)"
   ]
  },
  {
   "cell_type": "code",
   "execution_count": 10,
   "id": "bb8165cc",
   "metadata": {},
   "outputs": [],
   "source": [
    "aha_moment.sort_values(by='aha_moment')\n",
    "# user_info와 aha_moment 병합\n",
    "user_info = user_info.merge(aha_moment, on='user_id', how='left')\n"
   ]
  },
  {
   "cell_type": "code",
   "execution_count": 11,
   "id": "41a851cf",
   "metadata": {},
   "outputs": [
    {
     "data": {
      "text/html": [
       "<div>\n",
       "<style scoped>\n",
       "    .dataframe tbody tr th:only-of-type {\n",
       "        vertical-align: middle;\n",
       "    }\n",
       "\n",
       "    .dataframe tbody tr th {\n",
       "        vertical-align: top;\n",
       "    }\n",
       "\n",
       "    .dataframe thead th {\n",
       "        text-align: right;\n",
       "    }\n",
       "</style>\n",
       "<table border=\"1\" class=\"dataframe\">\n",
       "  <thead>\n",
       "    <tr style=\"text-align: right;\">\n",
       "      <th></th>\n",
       "      <th>user_id</th>\n",
       "      <th>signup_time</th>\n",
       "      <th>aha_moment</th>\n",
       "      <th>signup_cohort</th>\n",
       "    </tr>\n",
       "  </thead>\n",
       "  <tbody>\n",
       "    <tr>\n",
       "      <th>0</th>\n",
       "      <td>74d17c27a41656e7788b0c81d9f76cda</td>\n",
       "      <td>2023-04-05 21:33:26.068</td>\n",
       "      <td>NaT</td>\n",
       "      <td>2023-04</td>\n",
       "    </tr>\n",
       "    <tr>\n",
       "      <th>1</th>\n",
       "      <td>06b6868000a5d576180aca47896d6cce</td>\n",
       "      <td>2023-04-05 21:45:18.672</td>\n",
       "      <td>2023-04-05 21:50:20.141</td>\n",
       "      <td>2023-04</td>\n",
       "    </tr>\n",
       "    <tr>\n",
       "      <th>2</th>\n",
       "      <td>e131c319972bd580146c5a2faba26613</td>\n",
       "      <td>2023-04-10 14:47:56.424</td>\n",
       "      <td>2023-04-10 14:48:08.655</td>\n",
       "      <td>2023-04</td>\n",
       "    </tr>\n",
       "    <tr>\n",
       "      <th>3</th>\n",
       "      <td>e3b8bfa80d866f296aad139e09023ef3</td>\n",
       "      <td>2023-04-10 14:25:45.920</td>\n",
       "      <td>2023-04-10 14:28:18.546</td>\n",
       "      <td>2023-04</td>\n",
       "    </tr>\n",
       "    <tr>\n",
       "      <th>4</th>\n",
       "      <td>5208a60918f18562ac9d668a35b20303</td>\n",
       "      <td>2023-04-10 14:09:50.698</td>\n",
       "      <td>NaT</td>\n",
       "      <td>2023-04</td>\n",
       "    </tr>\n",
       "    <tr>\n",
       "      <th>...</th>\n",
       "      <td>...</td>\n",
       "      <td>...</td>\n",
       "      <td>...</td>\n",
       "      <td>...</td>\n",
       "    </tr>\n",
       "    <tr>\n",
       "      <th>145128</th>\n",
       "      <td>0117038cc69fe8a40388ec19bb0a495e</td>\n",
       "      <td>2023-10-10 05:10:04.854</td>\n",
       "      <td>2023-10-10 05:10:26.984</td>\n",
       "      <td>2023-10</td>\n",
       "    </tr>\n",
       "    <tr>\n",
       "      <th>145129</th>\n",
       "      <td>bc1a28ff902daba9399e7f602cc86285</td>\n",
       "      <td>2023-10-10 05:16:31.995</td>\n",
       "      <td>2023-10-10 05:17:45.578</td>\n",
       "      <td>2023-10</td>\n",
       "    </tr>\n",
       "    <tr>\n",
       "      <th>145130</th>\n",
       "      <td>0d507104136f139cbc9f6fa1db365162</td>\n",
       "      <td>2023-10-10 05:27:53.140</td>\n",
       "      <td>2023-11-07 12:30:01.670</td>\n",
       "      <td>2023-10</td>\n",
       "    </tr>\n",
       "    <tr>\n",
       "      <th>145131</th>\n",
       "      <td>298e200203472e5bc0f9a14053e1dfe1</td>\n",
       "      <td>2023-10-10 05:33:30.471</td>\n",
       "      <td>NaT</td>\n",
       "      <td>2023-10</td>\n",
       "    </tr>\n",
       "    <tr>\n",
       "      <th>145132</th>\n",
       "      <td>4252b7d6d08c1ba797ec2f5d0b244963</td>\n",
       "      <td>2023-10-10 05:50:07.380</td>\n",
       "      <td>2023-10-10 05:50:48.275</td>\n",
       "      <td>2023-10</td>\n",
       "    </tr>\n",
       "  </tbody>\n",
       "</table>\n",
       "<p>145133 rows × 4 columns</p>\n",
       "</div>"
      ],
      "text/plain": [
       "                                 user_id             signup_time  \\\n",
       "0       74d17c27a41656e7788b0c81d9f76cda 2023-04-05 21:33:26.068   \n",
       "1       06b6868000a5d576180aca47896d6cce 2023-04-05 21:45:18.672   \n",
       "2       e131c319972bd580146c5a2faba26613 2023-04-10 14:47:56.424   \n",
       "3       e3b8bfa80d866f296aad139e09023ef3 2023-04-10 14:25:45.920   \n",
       "4       5208a60918f18562ac9d668a35b20303 2023-04-10 14:09:50.698   \n",
       "...                                  ...                     ...   \n",
       "145128  0117038cc69fe8a40388ec19bb0a495e 2023-10-10 05:10:04.854   \n",
       "145129  bc1a28ff902daba9399e7f602cc86285 2023-10-10 05:16:31.995   \n",
       "145130  0d507104136f139cbc9f6fa1db365162 2023-10-10 05:27:53.140   \n",
       "145131  298e200203472e5bc0f9a14053e1dfe1 2023-10-10 05:33:30.471   \n",
       "145132  4252b7d6d08c1ba797ec2f5d0b244963 2023-10-10 05:50:07.380   \n",
       "\n",
       "                    aha_moment signup_cohort  \n",
       "0                          NaT       2023-04  \n",
       "1      2023-04-05 21:50:20.141       2023-04  \n",
       "2      2023-04-10 14:48:08.655       2023-04  \n",
       "3      2023-04-10 14:28:18.546       2023-04  \n",
       "4                          NaT       2023-04  \n",
       "...                        ...           ...  \n",
       "145128 2023-10-10 05:10:26.984       2023-10  \n",
       "145129 2023-10-10 05:17:45.578       2023-10  \n",
       "145130 2023-11-07 12:30:01.670       2023-10  \n",
       "145131                     NaT       2023-10  \n",
       "145132 2023-10-10 05:50:48.275       2023-10  \n",
       "\n",
       "[145133 rows x 4 columns]"
      ]
     },
     "execution_count": 11,
     "metadata": {},
     "output_type": "execute_result"
    }
   ],
   "source": [
    "# user_info에 각 회원가입 코호트 추가\n",
    "# 회원가입 코호트는 회원가입 날짜 기준으로 1개월 단위로 나누기\n",
    "user_info['signup_cohort'] = user_info['signup_time'].dt.to_period('M')\n",
    "\n",
    "user_info\n"
   ]
  },
  {
   "cell_type": "code",
   "execution_count": 12,
   "id": "987fb4c9",
   "metadata": {},
   "outputs": [
    {
     "data": {
      "text/html": [
       "<div>\n",
       "<style scoped>\n",
       "    .dataframe tbody tr th:only-of-type {\n",
       "        vertical-align: middle;\n",
       "    }\n",
       "\n",
       "    .dataframe tbody tr th {\n",
       "        vertical-align: top;\n",
       "    }\n",
       "\n",
       "    .dataframe thead th {\n",
       "        text-align: right;\n",
       "    }\n",
       "</style>\n",
       "<table border=\"1\" class=\"dataframe\">\n",
       "  <thead>\n",
       "    <tr style=\"text-align: right;\">\n",
       "      <th></th>\n",
       "      <th>user_id</th>\n",
       "      <th>signup_time</th>\n",
       "      <th>aha_moment</th>\n",
       "      <th>signup_cohort</th>\n",
       "      <th>is_aha_moment</th>\n",
       "    </tr>\n",
       "  </thead>\n",
       "  <tbody>\n",
       "    <tr>\n",
       "      <th>0</th>\n",
       "      <td>74d17c27a41656e7788b0c81d9f76cda</td>\n",
       "      <td>2023-04-05 21:33:26.068</td>\n",
       "      <td>NaT</td>\n",
       "      <td>2023-04</td>\n",
       "      <td>0</td>\n",
       "    </tr>\n",
       "    <tr>\n",
       "      <th>1</th>\n",
       "      <td>06b6868000a5d576180aca47896d6cce</td>\n",
       "      <td>2023-04-05 21:45:18.672</td>\n",
       "      <td>2023-04-05 21:50:20.141</td>\n",
       "      <td>2023-04</td>\n",
       "      <td>1</td>\n",
       "    </tr>\n",
       "    <tr>\n",
       "      <th>2</th>\n",
       "      <td>e131c319972bd580146c5a2faba26613</td>\n",
       "      <td>2023-04-10 14:47:56.424</td>\n",
       "      <td>2023-04-10 14:48:08.655</td>\n",
       "      <td>2023-04</td>\n",
       "      <td>1</td>\n",
       "    </tr>\n",
       "    <tr>\n",
       "      <th>3</th>\n",
       "      <td>e3b8bfa80d866f296aad139e09023ef3</td>\n",
       "      <td>2023-04-10 14:25:45.920</td>\n",
       "      <td>2023-04-10 14:28:18.546</td>\n",
       "      <td>2023-04</td>\n",
       "      <td>1</td>\n",
       "    </tr>\n",
       "    <tr>\n",
       "      <th>4</th>\n",
       "      <td>5208a60918f18562ac9d668a35b20303</td>\n",
       "      <td>2023-04-10 14:09:50.698</td>\n",
       "      <td>NaT</td>\n",
       "      <td>2023-04</td>\n",
       "      <td>0</td>\n",
       "    </tr>\n",
       "    <tr>\n",
       "      <th>...</th>\n",
       "      <td>...</td>\n",
       "      <td>...</td>\n",
       "      <td>...</td>\n",
       "      <td>...</td>\n",
       "      <td>...</td>\n",
       "    </tr>\n",
       "    <tr>\n",
       "      <th>145128</th>\n",
       "      <td>0117038cc69fe8a40388ec19bb0a495e</td>\n",
       "      <td>2023-10-10 05:10:04.854</td>\n",
       "      <td>2023-10-10 05:10:26.984</td>\n",
       "      <td>2023-10</td>\n",
       "      <td>1</td>\n",
       "    </tr>\n",
       "    <tr>\n",
       "      <th>145129</th>\n",
       "      <td>bc1a28ff902daba9399e7f602cc86285</td>\n",
       "      <td>2023-10-10 05:16:31.995</td>\n",
       "      <td>2023-10-10 05:17:45.578</td>\n",
       "      <td>2023-10</td>\n",
       "      <td>1</td>\n",
       "    </tr>\n",
       "    <tr>\n",
       "      <th>145130</th>\n",
       "      <td>0d507104136f139cbc9f6fa1db365162</td>\n",
       "      <td>2023-10-10 05:27:53.140</td>\n",
       "      <td>2023-11-07 12:30:01.670</td>\n",
       "      <td>2023-10</td>\n",
       "      <td>1</td>\n",
       "    </tr>\n",
       "    <tr>\n",
       "      <th>145131</th>\n",
       "      <td>298e200203472e5bc0f9a14053e1dfe1</td>\n",
       "      <td>2023-10-10 05:33:30.471</td>\n",
       "      <td>NaT</td>\n",
       "      <td>2023-10</td>\n",
       "      <td>0</td>\n",
       "    </tr>\n",
       "    <tr>\n",
       "      <th>145132</th>\n",
       "      <td>4252b7d6d08c1ba797ec2f5d0b244963</td>\n",
       "      <td>2023-10-10 05:50:07.380</td>\n",
       "      <td>2023-10-10 05:50:48.275</td>\n",
       "      <td>2023-10</td>\n",
       "      <td>1</td>\n",
       "    </tr>\n",
       "  </tbody>\n",
       "</table>\n",
       "<p>145133 rows × 5 columns</p>\n",
       "</div>"
      ],
      "text/plain": [
       "                                 user_id             signup_time  \\\n",
       "0       74d17c27a41656e7788b0c81d9f76cda 2023-04-05 21:33:26.068   \n",
       "1       06b6868000a5d576180aca47896d6cce 2023-04-05 21:45:18.672   \n",
       "2       e131c319972bd580146c5a2faba26613 2023-04-10 14:47:56.424   \n",
       "3       e3b8bfa80d866f296aad139e09023ef3 2023-04-10 14:25:45.920   \n",
       "4       5208a60918f18562ac9d668a35b20303 2023-04-10 14:09:50.698   \n",
       "...                                  ...                     ...   \n",
       "145128  0117038cc69fe8a40388ec19bb0a495e 2023-10-10 05:10:04.854   \n",
       "145129  bc1a28ff902daba9399e7f602cc86285 2023-10-10 05:16:31.995   \n",
       "145130  0d507104136f139cbc9f6fa1db365162 2023-10-10 05:27:53.140   \n",
       "145131  298e200203472e5bc0f9a14053e1dfe1 2023-10-10 05:33:30.471   \n",
       "145132  4252b7d6d08c1ba797ec2f5d0b244963 2023-10-10 05:50:07.380   \n",
       "\n",
       "                    aha_moment signup_cohort  is_aha_moment  \n",
       "0                          NaT       2023-04              0  \n",
       "1      2023-04-05 21:50:20.141       2023-04              1  \n",
       "2      2023-04-10 14:48:08.655       2023-04              1  \n",
       "3      2023-04-10 14:28:18.546       2023-04              1  \n",
       "4                          NaT       2023-04              0  \n",
       "...                        ...           ...            ...  \n",
       "145128 2023-10-10 05:10:26.984       2023-10              1  \n",
       "145129 2023-10-10 05:17:45.578       2023-10              1  \n",
       "145130 2023-11-07 12:30:01.670       2023-10              1  \n",
       "145131                     NaT       2023-10              0  \n",
       "145132 2023-10-10 05:50:48.275       2023-10              1  \n",
       "\n",
       "[145133 rows x 5 columns]"
      ]
     },
     "execution_count": 12,
     "metadata": {},
     "output_type": "execute_result"
    }
   ],
   "source": [
    "user_info['is_aha_moment'] = user_info['aha_moment'].notnull().astype(int) # yes: 1, no: 0\n",
    "user_info"
   ]
  },
  {
   "cell_type": "code",
   "execution_count": 13,
   "id": "07f91232",
   "metadata": {},
   "outputs": [],
   "source": [
    "# user_info에 있는 user_id만을 대상으로 모든 행동 로그 데이터 생성\n",
    "\n",
    "all_logs = []\n",
    "for df in dfs:\n",
    "    filtered_df = df[df['user_id'].isin(user_info['user_id'])]\n",
    "    all_logs.append(filtered_df)\n",
    "# 모든 로그 데이터 합치기\n",
    "all_logs_df = pd.concat(all_logs, ignore_index=True)\n",
    "# user_info와 all_logs_df를 user_id를 기준으로 병합\n"
   ]
  },
  {
   "cell_type": "code",
   "execution_count": 14,
   "id": "f3d4bef3",
   "metadata": {},
   "outputs": [],
   "source": [
    "user_act = all_logs_df.merge(user_info, on='user_id', how='left')"
   ]
  },
  {
   "cell_type": "code",
   "execution_count": 15,
   "id": "a5bd53f4",
   "metadata": {},
   "outputs": [
    {
     "data": {
      "text/html": [
       "<div>\n",
       "<style scoped>\n",
       "    .dataframe tbody tr th:only-of-type {\n",
       "        vertical-align: middle;\n",
       "    }\n",
       "\n",
       "    .dataframe tbody tr th {\n",
       "        vertical-align: top;\n",
       "    }\n",
       "\n",
       "    .dataframe thead th {\n",
       "        text-align: right;\n",
       "    }\n",
       "</style>\n",
       "<table border=\"1\" class=\"dataframe\">\n",
       "  <thead>\n",
       "    <tr style=\"text-align: right;\">\n",
       "      <th></th>\n",
       "      <th>client_event_time</th>\n",
       "      <th>event_type</th>\n",
       "      <th>user_id</th>\n",
       "      <th>content.id</th>\n",
       "      <th>button.name</th>\n",
       "      <th>button_name</th>\n",
       "      <th>device_class</th>\n",
       "      <th>lesson.id</th>\n",
       "      <th>type</th>\n",
       "      <th>plan.price</th>\n",
       "      <th>...</th>\n",
       "      <th>pg.type</th>\n",
       "      <th>is_trial</th>\n",
       "      <th>is_free_trial</th>\n",
       "      <th>content.difficulty</th>\n",
       "      <th>plan.type</th>\n",
       "      <th>question.id</th>\n",
       "      <th>signup_time</th>\n",
       "      <th>aha_moment</th>\n",
       "      <th>signup_cohort</th>\n",
       "      <th>is_aha_moment</th>\n",
       "    </tr>\n",
       "  </thead>\n",
       "  <tbody>\n",
       "    <tr>\n",
       "      <th>0</th>\n",
       "      <td>2023-04-05 21:14:38.432</td>\n",
       "      <td>click.content_page_start_content_button</td>\n",
       "      <td>41362ad5ebcade2bb1b78344a53e7ccf</td>\n",
       "      <td>445fac33232adcb3d1cdab7d8a579430</td>\n",
       "      <td>콘텐츠 구독하기</td>\n",
       "      <td>NaN</td>\n",
       "      <td>PC</td>\n",
       "      <td>NaN</td>\n",
       "      <td>NaN</td>\n",
       "      <td>NaN</td>\n",
       "      <td>...</td>\n",
       "      <td>NaN</td>\n",
       "      <td>NaN</td>\n",
       "      <td>NaN</td>\n",
       "      <td>NaN</td>\n",
       "      <td>NaN</td>\n",
       "      <td>NaN</td>\n",
       "      <td>2022-06-23 05:46:45.942</td>\n",
       "      <td>2022-06-23 05:46:47.189</td>\n",
       "      <td>2022-06</td>\n",
       "      <td>1</td>\n",
       "    </tr>\n",
       "    <tr>\n",
       "      <th>1</th>\n",
       "      <td>2023-04-10 14:09:30.564</td>\n",
       "      <td>click.content_page_start_content_button</td>\n",
       "      <td>353528475f2bd85934263421ccd579b3</td>\n",
       "      <td>a1eeebeb6c307641b75b94a2a1d5b9aa</td>\n",
       "      <td>콘텐츠 이어보기</td>\n",
       "      <td>NaN</td>\n",
       "      <td>PC</td>\n",
       "      <td>NaN</td>\n",
       "      <td>NaN</td>\n",
       "      <td>NaN</td>\n",
       "      <td>...</td>\n",
       "      <td>NaN</td>\n",
       "      <td>NaN</td>\n",
       "      <td>NaN</td>\n",
       "      <td>NaN</td>\n",
       "      <td>NaN</td>\n",
       "      <td>NaN</td>\n",
       "      <td>2023-01-24 23:31:50.498</td>\n",
       "      <td>2023-03-26 23:18:17.489</td>\n",
       "      <td>2023-01</td>\n",
       "      <td>1</td>\n",
       "    </tr>\n",
       "    <tr>\n",
       "      <th>2</th>\n",
       "      <td>2023-04-10 14:10:52.368</td>\n",
       "      <td>click.content_page_start_content_button</td>\n",
       "      <td>353528475f2bd85934263421ccd579b3</td>\n",
       "      <td>7de35a9d8f14c68e5f2a8788dda5f72e</td>\n",
       "      <td>콘텐츠 구독하기</td>\n",
       "      <td>NaN</td>\n",
       "      <td>PC</td>\n",
       "      <td>NaN</td>\n",
       "      <td>NaN</td>\n",
       "      <td>NaN</td>\n",
       "      <td>...</td>\n",
       "      <td>NaN</td>\n",
       "      <td>NaN</td>\n",
       "      <td>NaN</td>\n",
       "      <td>NaN</td>\n",
       "      <td>NaN</td>\n",
       "      <td>NaN</td>\n",
       "      <td>2023-01-24 23:31:50.498</td>\n",
       "      <td>2023-03-26 23:18:17.489</td>\n",
       "      <td>2023-01</td>\n",
       "      <td>1</td>\n",
       "    </tr>\n",
       "    <tr>\n",
       "      <th>3</th>\n",
       "      <td>2023-04-10 14:31:11.407</td>\n",
       "      <td>click.content_page_start_content_button</td>\n",
       "      <td>f853aa18605bd7f11162236b6b8ac4c5</td>\n",
       "      <td>7de35a9d8f14c68e5f2a8788dda5f72e</td>\n",
       "      <td>콘텐츠 구독하기</td>\n",
       "      <td>NaN</td>\n",
       "      <td>PC</td>\n",
       "      <td>NaN</td>\n",
       "      <td>NaN</td>\n",
       "      <td>NaN</td>\n",
       "      <td>...</td>\n",
       "      <td>NaN</td>\n",
       "      <td>NaN</td>\n",
       "      <td>NaN</td>\n",
       "      <td>NaN</td>\n",
       "      <td>NaN</td>\n",
       "      <td>NaN</td>\n",
       "      <td>2023-02-08 02:04:09.013</td>\n",
       "      <td>2023-03-15 14:36:18.310</td>\n",
       "      <td>2023-02</td>\n",
       "      <td>1</td>\n",
       "    </tr>\n",
       "    <tr>\n",
       "      <th>4</th>\n",
       "      <td>2023-04-10 14:57:16.490</td>\n",
       "      <td>click.content_page_start_content_button</td>\n",
       "      <td>2c3e69a22969fb4b765957c5d416a2b8</td>\n",
       "      <td>445fac33232adcb3d1cdab7d8a579430</td>\n",
       "      <td>콘텐츠 이어보기</td>\n",
       "      <td>NaN</td>\n",
       "      <td>PC</td>\n",
       "      <td>NaN</td>\n",
       "      <td>NaN</td>\n",
       "      <td>NaN</td>\n",
       "      <td>...</td>\n",
       "      <td>NaN</td>\n",
       "      <td>NaN</td>\n",
       "      <td>NaN</td>\n",
       "      <td>NaN</td>\n",
       "      <td>NaN</td>\n",
       "      <td>NaN</td>\n",
       "      <td>2023-04-05 08:12:55.718</td>\n",
       "      <td>2023-04-05 08:17:39.000</td>\n",
       "      <td>2023-04</td>\n",
       "      <td>1</td>\n",
       "    </tr>\n",
       "    <tr>\n",
       "      <th>...</th>\n",
       "      <td>...</td>\n",
       "      <td>...</td>\n",
       "      <td>...</td>\n",
       "      <td>...</td>\n",
       "      <td>...</td>\n",
       "      <td>...</td>\n",
       "      <td>...</td>\n",
       "      <td>...</td>\n",
       "      <td>...</td>\n",
       "      <td>...</td>\n",
       "      <td>...</td>\n",
       "      <td>...</td>\n",
       "      <td>...</td>\n",
       "      <td>...</td>\n",
       "      <td>...</td>\n",
       "      <td>...</td>\n",
       "      <td>...</td>\n",
       "      <td>...</td>\n",
       "      <td>...</td>\n",
       "      <td>...</td>\n",
       "      <td>...</td>\n",
       "    </tr>\n",
       "    <tr>\n",
       "      <th>15110374</th>\n",
       "      <td>2023-10-10 05:00:49.303</td>\n",
       "      <td>end.content</td>\n",
       "      <td>9fe4efb5bffac9728392d3774c0894f7</td>\n",
       "      <td>d6227ba76134f6cf821bb98b5f235bd0</td>\n",
       "      <td>NaN</td>\n",
       "      <td>NaN</td>\n",
       "      <td>PC</td>\n",
       "      <td>NaN</td>\n",
       "      <td>NaN</td>\n",
       "      <td>NaN</td>\n",
       "      <td>...</td>\n",
       "      <td>NaN</td>\n",
       "      <td>NaN</td>\n",
       "      <td>NaN</td>\n",
       "      <td>NaN</td>\n",
       "      <td>NaN</td>\n",
       "      <td>NaN</td>\n",
       "      <td>2023-09-07 05:03:47.339</td>\n",
       "      <td>2023-09-07 06:05:31.225</td>\n",
       "      <td>2023-09</td>\n",
       "      <td>1</td>\n",
       "    </tr>\n",
       "    <tr>\n",
       "      <th>15110375</th>\n",
       "      <td>2023-10-10 05:21:55.287</td>\n",
       "      <td>end.content</td>\n",
       "      <td>86453faaa4d0da97c471665e8d35642b</td>\n",
       "      <td>710ffb5be9f89772b7baa9f62c9c8805</td>\n",
       "      <td>NaN</td>\n",
       "      <td>NaN</td>\n",
       "      <td>PC</td>\n",
       "      <td>NaN</td>\n",
       "      <td>NaN</td>\n",
       "      <td>NaN</td>\n",
       "      <td>...</td>\n",
       "      <td>NaN</td>\n",
       "      <td>NaN</td>\n",
       "      <td>NaN</td>\n",
       "      <td>NaN</td>\n",
       "      <td>NaN</td>\n",
       "      <td>NaN</td>\n",
       "      <td>2023-09-12 08:03:23.420</td>\n",
       "      <td>2023-09-24 14:12:17.450</td>\n",
       "      <td>2023-09</td>\n",
       "      <td>1</td>\n",
       "    </tr>\n",
       "    <tr>\n",
       "      <th>15110376</th>\n",
       "      <td>2023-10-10 05:43:45.139</td>\n",
       "      <td>end.content</td>\n",
       "      <td>e209e09abc061bd69f3116ff23dcb56b</td>\n",
       "      <td>f4be1a0fe0e301b03115591777fddf29</td>\n",
       "      <td>NaN</td>\n",
       "      <td>NaN</td>\n",
       "      <td>PC</td>\n",
       "      <td>NaN</td>\n",
       "      <td>NaN</td>\n",
       "      <td>NaN</td>\n",
       "      <td>...</td>\n",
       "      <td>NaN</td>\n",
       "      <td>NaN</td>\n",
       "      <td>NaN</td>\n",
       "      <td>NaN</td>\n",
       "      <td>NaN</td>\n",
       "      <td>NaN</td>\n",
       "      <td>2023-10-04 06:26:55.737</td>\n",
       "      <td>2023-10-04 06:28:48.816</td>\n",
       "      <td>2023-10</td>\n",
       "      <td>1</td>\n",
       "    </tr>\n",
       "    <tr>\n",
       "      <th>15110377</th>\n",
       "      <td>2023-10-10 05:13:17.274</td>\n",
       "      <td>end.content</td>\n",
       "      <td>e962f191e86d935bc3cf7a566156a11a</td>\n",
       "      <td>61b6463287573f00de13a930805a52d6</td>\n",
       "      <td>NaN</td>\n",
       "      <td>NaN</td>\n",
       "      <td>PC</td>\n",
       "      <td>NaN</td>\n",
       "      <td>NaN</td>\n",
       "      <td>NaN</td>\n",
       "      <td>...</td>\n",
       "      <td>NaN</td>\n",
       "      <td>NaN</td>\n",
       "      <td>NaN</td>\n",
       "      <td>NaN</td>\n",
       "      <td>NaN</td>\n",
       "      <td>NaN</td>\n",
       "      <td>2023-10-09 07:25:15.091</td>\n",
       "      <td>2023-10-09 07:25:15.811</td>\n",
       "      <td>2023-10</td>\n",
       "      <td>1</td>\n",
       "    </tr>\n",
       "    <tr>\n",
       "      <th>15110378</th>\n",
       "      <td>2023-10-10 05:22:54.927</td>\n",
       "      <td>end.content</td>\n",
       "      <td>465eb0e5c339bcc42ec3f4f14c4d00b0</td>\n",
       "      <td>f4be1a0fe0e301b03115591777fddf29</td>\n",
       "      <td>NaN</td>\n",
       "      <td>NaN</td>\n",
       "      <td>PC</td>\n",
       "      <td>NaN</td>\n",
       "      <td>NaN</td>\n",
       "      <td>NaN</td>\n",
       "      <td>...</td>\n",
       "      <td>NaN</td>\n",
       "      <td>NaN</td>\n",
       "      <td>NaN</td>\n",
       "      <td>NaN</td>\n",
       "      <td>NaN</td>\n",
       "      <td>NaN</td>\n",
       "      <td>2023-10-10 03:39:31.141</td>\n",
       "      <td>2023-10-10 03:41:31.296</td>\n",
       "      <td>2023-10</td>\n",
       "      <td>1</td>\n",
       "    </tr>\n",
       "  </tbody>\n",
       "</table>\n",
       "<p>15110379 rows × 22 columns</p>\n",
       "</div>"
      ],
      "text/plain": [
       "               client_event_time                               event_type  \\\n",
       "0        2023-04-05 21:14:38.432  click.content_page_start_content_button   \n",
       "1        2023-04-10 14:09:30.564  click.content_page_start_content_button   \n",
       "2        2023-04-10 14:10:52.368  click.content_page_start_content_button   \n",
       "3        2023-04-10 14:31:11.407  click.content_page_start_content_button   \n",
       "4        2023-04-10 14:57:16.490  click.content_page_start_content_button   \n",
       "...                          ...                                      ...   \n",
       "15110374 2023-10-10 05:00:49.303                              end.content   \n",
       "15110375 2023-10-10 05:21:55.287                              end.content   \n",
       "15110376 2023-10-10 05:43:45.139                              end.content   \n",
       "15110377 2023-10-10 05:13:17.274                              end.content   \n",
       "15110378 2023-10-10 05:22:54.927                              end.content   \n",
       "\n",
       "                                   user_id                        content.id  \\\n",
       "0         41362ad5ebcade2bb1b78344a53e7ccf  445fac33232adcb3d1cdab7d8a579430   \n",
       "1         353528475f2bd85934263421ccd579b3  a1eeebeb6c307641b75b94a2a1d5b9aa   \n",
       "2         353528475f2bd85934263421ccd579b3  7de35a9d8f14c68e5f2a8788dda5f72e   \n",
       "3         f853aa18605bd7f11162236b6b8ac4c5  7de35a9d8f14c68e5f2a8788dda5f72e   \n",
       "4         2c3e69a22969fb4b765957c5d416a2b8  445fac33232adcb3d1cdab7d8a579430   \n",
       "...                                    ...                               ...   \n",
       "15110374  9fe4efb5bffac9728392d3774c0894f7  d6227ba76134f6cf821bb98b5f235bd0   \n",
       "15110375  86453faaa4d0da97c471665e8d35642b  710ffb5be9f89772b7baa9f62c9c8805   \n",
       "15110376  e209e09abc061bd69f3116ff23dcb56b  f4be1a0fe0e301b03115591777fddf29   \n",
       "15110377  e962f191e86d935bc3cf7a566156a11a  61b6463287573f00de13a930805a52d6   \n",
       "15110378  465eb0e5c339bcc42ec3f4f14c4d00b0  f4be1a0fe0e301b03115591777fddf29   \n",
       "\n",
       "         button.name button_name device_class lesson.id type  plan.price  ...  \\\n",
       "0           콘텐츠 구독하기         NaN           PC       NaN  NaN         NaN  ...   \n",
       "1           콘텐츠 이어보기         NaN           PC       NaN  NaN         NaN  ...   \n",
       "2           콘텐츠 구독하기         NaN           PC       NaN  NaN         NaN  ...   \n",
       "3           콘텐츠 구독하기         NaN           PC       NaN  NaN         NaN  ...   \n",
       "4           콘텐츠 이어보기         NaN           PC       NaN  NaN         NaN  ...   \n",
       "...              ...         ...          ...       ...  ...         ...  ...   \n",
       "15110374         NaN         NaN           PC       NaN  NaN         NaN  ...   \n",
       "15110375         NaN         NaN           PC       NaN  NaN         NaN  ...   \n",
       "15110376         NaN         NaN           PC       NaN  NaN         NaN  ...   \n",
       "15110377         NaN         NaN           PC       NaN  NaN         NaN  ...   \n",
       "15110378         NaN         NaN           PC       NaN  NaN         NaN  ...   \n",
       "\n",
       "          pg.type  is_trial is_free_trial content.difficulty plan.type  \\\n",
       "0             NaN       NaN           NaN                NaN       NaN   \n",
       "1             NaN       NaN           NaN                NaN       NaN   \n",
       "2             NaN       NaN           NaN                NaN       NaN   \n",
       "3             NaN       NaN           NaN                NaN       NaN   \n",
       "4             NaN       NaN           NaN                NaN       NaN   \n",
       "...           ...       ...           ...                ...       ...   \n",
       "15110374      NaN       NaN           NaN                NaN       NaN   \n",
       "15110375      NaN       NaN           NaN                NaN       NaN   \n",
       "15110376      NaN       NaN           NaN                NaN       NaN   \n",
       "15110377      NaN       NaN           NaN                NaN       NaN   \n",
       "15110378      NaN       NaN           NaN                NaN       NaN   \n",
       "\n",
       "         question.id             signup_time              aha_moment  \\\n",
       "0                NaN 2022-06-23 05:46:45.942 2022-06-23 05:46:47.189   \n",
       "1                NaN 2023-01-24 23:31:50.498 2023-03-26 23:18:17.489   \n",
       "2                NaN 2023-01-24 23:31:50.498 2023-03-26 23:18:17.489   \n",
       "3                NaN 2023-02-08 02:04:09.013 2023-03-15 14:36:18.310   \n",
       "4                NaN 2023-04-05 08:12:55.718 2023-04-05 08:17:39.000   \n",
       "...              ...                     ...                     ...   \n",
       "15110374         NaN 2023-09-07 05:03:47.339 2023-09-07 06:05:31.225   \n",
       "15110375         NaN 2023-09-12 08:03:23.420 2023-09-24 14:12:17.450   \n",
       "15110376         NaN 2023-10-04 06:26:55.737 2023-10-04 06:28:48.816   \n",
       "15110377         NaN 2023-10-09 07:25:15.091 2023-10-09 07:25:15.811   \n",
       "15110378         NaN 2023-10-10 03:39:31.141 2023-10-10 03:41:31.296   \n",
       "\n",
       "         signup_cohort is_aha_moment  \n",
       "0              2022-06             1  \n",
       "1              2023-01             1  \n",
       "2              2023-01             1  \n",
       "3              2023-02             1  \n",
       "4              2023-04             1  \n",
       "...                ...           ...  \n",
       "15110374       2023-09             1  \n",
       "15110375       2023-09             1  \n",
       "15110376       2023-10             1  \n",
       "15110377       2023-10             1  \n",
       "15110378       2023-10             1  \n",
       "\n",
       "[15110379 rows x 22 columns]"
      ]
     },
     "execution_count": 15,
     "metadata": {},
     "output_type": "execute_result"
    }
   ],
   "source": [
    "user_act"
   ]
  },
  {
   "cell_type": "code",
   "execution_count": 16,
   "id": "0f28b96e",
   "metadata": {},
   "outputs": [],
   "source": [
    "user_act = user_act[['client_event_time', 'user_id', 'signup_time', 'event_type', 'aha_moment', 'signup_cohort', 'is_aha_moment', 'device_class']]"
   ]
  },
  {
   "cell_type": "code",
   "execution_count": 17,
   "id": "256d5acb",
   "metadata": {},
   "outputs": [
    {
     "data": {
      "text/html": [
       "<div>\n",
       "<style scoped>\n",
       "    .dataframe tbody tr th:only-of-type {\n",
       "        vertical-align: middle;\n",
       "    }\n",
       "\n",
       "    .dataframe tbody tr th {\n",
       "        vertical-align: top;\n",
       "    }\n",
       "\n",
       "    .dataframe thead th {\n",
       "        text-align: right;\n",
       "    }\n",
       "</style>\n",
       "<table border=\"1\" class=\"dataframe\">\n",
       "  <thead>\n",
       "    <tr style=\"text-align: right;\">\n",
       "      <th></th>\n",
       "      <th>client_event_time</th>\n",
       "      <th>user_id</th>\n",
       "      <th>signup_time</th>\n",
       "      <th>event_type</th>\n",
       "      <th>aha_moment</th>\n",
       "      <th>signup_cohort</th>\n",
       "      <th>is_aha_moment</th>\n",
       "      <th>device_class</th>\n",
       "    </tr>\n",
       "  </thead>\n",
       "  <tbody>\n",
       "    <tr>\n",
       "      <th>0</th>\n",
       "      <td>2023-04-05 21:14:38.432</td>\n",
       "      <td>41362ad5ebcade2bb1b78344a53e7ccf</td>\n",
       "      <td>2022-06-23 05:46:45.942</td>\n",
       "      <td>click.content_page_start_content_button</td>\n",
       "      <td>2022-06-23 05:46:47.189</td>\n",
       "      <td>2022-06</td>\n",
       "      <td>1</td>\n",
       "      <td>PC</td>\n",
       "    </tr>\n",
       "    <tr>\n",
       "      <th>1</th>\n",
       "      <td>2023-04-10 14:09:30.564</td>\n",
       "      <td>353528475f2bd85934263421ccd579b3</td>\n",
       "      <td>2023-01-24 23:31:50.498</td>\n",
       "      <td>click.content_page_start_content_button</td>\n",
       "      <td>2023-03-26 23:18:17.489</td>\n",
       "      <td>2023-01</td>\n",
       "      <td>1</td>\n",
       "      <td>PC</td>\n",
       "    </tr>\n",
       "    <tr>\n",
       "      <th>2</th>\n",
       "      <td>2023-04-10 14:10:52.368</td>\n",
       "      <td>353528475f2bd85934263421ccd579b3</td>\n",
       "      <td>2023-01-24 23:31:50.498</td>\n",
       "      <td>click.content_page_start_content_button</td>\n",
       "      <td>2023-03-26 23:18:17.489</td>\n",
       "      <td>2023-01</td>\n",
       "      <td>1</td>\n",
       "      <td>PC</td>\n",
       "    </tr>\n",
       "    <tr>\n",
       "      <th>3</th>\n",
       "      <td>2023-04-10 14:31:11.407</td>\n",
       "      <td>f853aa18605bd7f11162236b6b8ac4c5</td>\n",
       "      <td>2023-02-08 02:04:09.013</td>\n",
       "      <td>click.content_page_start_content_button</td>\n",
       "      <td>2023-03-15 14:36:18.310</td>\n",
       "      <td>2023-02</td>\n",
       "      <td>1</td>\n",
       "      <td>PC</td>\n",
       "    </tr>\n",
       "    <tr>\n",
       "      <th>4</th>\n",
       "      <td>2023-04-10 14:57:16.490</td>\n",
       "      <td>2c3e69a22969fb4b765957c5d416a2b8</td>\n",
       "      <td>2023-04-05 08:12:55.718</td>\n",
       "      <td>click.content_page_start_content_button</td>\n",
       "      <td>2023-04-05 08:17:39.000</td>\n",
       "      <td>2023-04</td>\n",
       "      <td>1</td>\n",
       "      <td>PC</td>\n",
       "    </tr>\n",
       "    <tr>\n",
       "      <th>...</th>\n",
       "      <td>...</td>\n",
       "      <td>...</td>\n",
       "      <td>...</td>\n",
       "      <td>...</td>\n",
       "      <td>...</td>\n",
       "      <td>...</td>\n",
       "      <td>...</td>\n",
       "      <td>...</td>\n",
       "    </tr>\n",
       "    <tr>\n",
       "      <th>15110374</th>\n",
       "      <td>2023-10-10 05:00:49.303</td>\n",
       "      <td>9fe4efb5bffac9728392d3774c0894f7</td>\n",
       "      <td>2023-09-07 05:03:47.339</td>\n",
       "      <td>end.content</td>\n",
       "      <td>2023-09-07 06:05:31.225</td>\n",
       "      <td>2023-09</td>\n",
       "      <td>1</td>\n",
       "      <td>PC</td>\n",
       "    </tr>\n",
       "    <tr>\n",
       "      <th>15110375</th>\n",
       "      <td>2023-10-10 05:21:55.287</td>\n",
       "      <td>86453faaa4d0da97c471665e8d35642b</td>\n",
       "      <td>2023-09-12 08:03:23.420</td>\n",
       "      <td>end.content</td>\n",
       "      <td>2023-09-24 14:12:17.450</td>\n",
       "      <td>2023-09</td>\n",
       "      <td>1</td>\n",
       "      <td>PC</td>\n",
       "    </tr>\n",
       "    <tr>\n",
       "      <th>15110376</th>\n",
       "      <td>2023-10-10 05:43:45.139</td>\n",
       "      <td>e209e09abc061bd69f3116ff23dcb56b</td>\n",
       "      <td>2023-10-04 06:26:55.737</td>\n",
       "      <td>end.content</td>\n",
       "      <td>2023-10-04 06:28:48.816</td>\n",
       "      <td>2023-10</td>\n",
       "      <td>1</td>\n",
       "      <td>PC</td>\n",
       "    </tr>\n",
       "    <tr>\n",
       "      <th>15110377</th>\n",
       "      <td>2023-10-10 05:13:17.274</td>\n",
       "      <td>e962f191e86d935bc3cf7a566156a11a</td>\n",
       "      <td>2023-10-09 07:25:15.091</td>\n",
       "      <td>end.content</td>\n",
       "      <td>2023-10-09 07:25:15.811</td>\n",
       "      <td>2023-10</td>\n",
       "      <td>1</td>\n",
       "      <td>PC</td>\n",
       "    </tr>\n",
       "    <tr>\n",
       "      <th>15110378</th>\n",
       "      <td>2023-10-10 05:22:54.927</td>\n",
       "      <td>465eb0e5c339bcc42ec3f4f14c4d00b0</td>\n",
       "      <td>2023-10-10 03:39:31.141</td>\n",
       "      <td>end.content</td>\n",
       "      <td>2023-10-10 03:41:31.296</td>\n",
       "      <td>2023-10</td>\n",
       "      <td>1</td>\n",
       "      <td>PC</td>\n",
       "    </tr>\n",
       "  </tbody>\n",
       "</table>\n",
       "<p>15110379 rows × 8 columns</p>\n",
       "</div>"
      ],
      "text/plain": [
       "               client_event_time                           user_id  \\\n",
       "0        2023-04-05 21:14:38.432  41362ad5ebcade2bb1b78344a53e7ccf   \n",
       "1        2023-04-10 14:09:30.564  353528475f2bd85934263421ccd579b3   \n",
       "2        2023-04-10 14:10:52.368  353528475f2bd85934263421ccd579b3   \n",
       "3        2023-04-10 14:31:11.407  f853aa18605bd7f11162236b6b8ac4c5   \n",
       "4        2023-04-10 14:57:16.490  2c3e69a22969fb4b765957c5d416a2b8   \n",
       "...                          ...                               ...   \n",
       "15110374 2023-10-10 05:00:49.303  9fe4efb5bffac9728392d3774c0894f7   \n",
       "15110375 2023-10-10 05:21:55.287  86453faaa4d0da97c471665e8d35642b   \n",
       "15110376 2023-10-10 05:43:45.139  e209e09abc061bd69f3116ff23dcb56b   \n",
       "15110377 2023-10-10 05:13:17.274  e962f191e86d935bc3cf7a566156a11a   \n",
       "15110378 2023-10-10 05:22:54.927  465eb0e5c339bcc42ec3f4f14c4d00b0   \n",
       "\n",
       "                     signup_time                               event_type  \\\n",
       "0        2022-06-23 05:46:45.942  click.content_page_start_content_button   \n",
       "1        2023-01-24 23:31:50.498  click.content_page_start_content_button   \n",
       "2        2023-01-24 23:31:50.498  click.content_page_start_content_button   \n",
       "3        2023-02-08 02:04:09.013  click.content_page_start_content_button   \n",
       "4        2023-04-05 08:12:55.718  click.content_page_start_content_button   \n",
       "...                          ...                                      ...   \n",
       "15110374 2023-09-07 05:03:47.339                              end.content   \n",
       "15110375 2023-09-12 08:03:23.420                              end.content   \n",
       "15110376 2023-10-04 06:26:55.737                              end.content   \n",
       "15110377 2023-10-09 07:25:15.091                              end.content   \n",
       "15110378 2023-10-10 03:39:31.141                              end.content   \n",
       "\n",
       "                      aha_moment signup_cohort  is_aha_moment device_class  \n",
       "0        2022-06-23 05:46:47.189       2022-06              1           PC  \n",
       "1        2023-03-26 23:18:17.489       2023-01              1           PC  \n",
       "2        2023-03-26 23:18:17.489       2023-01              1           PC  \n",
       "3        2023-03-15 14:36:18.310       2023-02              1           PC  \n",
       "4        2023-04-05 08:17:39.000       2023-04              1           PC  \n",
       "...                          ...           ...            ...          ...  \n",
       "15110374 2023-09-07 06:05:31.225       2023-09              1           PC  \n",
       "15110375 2023-09-24 14:12:17.450       2023-09              1           PC  \n",
       "15110376 2023-10-04 06:28:48.816       2023-10              1           PC  \n",
       "15110377 2023-10-09 07:25:15.811       2023-10              1           PC  \n",
       "15110378 2023-10-10 03:41:31.296       2023-10              1           PC  \n",
       "\n",
       "[15110379 rows x 8 columns]"
      ]
     },
     "execution_count": 17,
     "metadata": {},
     "output_type": "execute_result"
    }
   ],
   "source": [
    "user_act"
   ]
  },
  {
   "cell_type": "code",
   "execution_count": 18,
   "id": "728b1e3b",
   "metadata": {},
   "outputs": [
    {
     "name": "stderr",
     "output_type": "stream",
     "text": [
      "C:\\Users\\Yoo\\AppData\\Local\\Temp\\ipykernel_145472\\1209729313.py:1: SettingWithCopyWarning: \n",
      "A value is trying to be set on a copy of a slice from a DataFrame\n",
      "\n",
      "See the caveats in the documentation: https://pandas.pydata.org/pandas-docs/stable/user_guide/indexing.html#returning-a-view-versus-a-copy\n",
      "  user_act.sort_values(by=['signup_time'], inplace=True)\n"
     ]
    }
   ],
   "source": [
    "user_act.sort_values(by=['signup_time'], inplace=True)"
   ]
  },
  {
   "cell_type": "code",
   "execution_count": 19,
   "id": "3a641892",
   "metadata": {},
   "outputs": [
    {
     "name": "stderr",
     "output_type": "stream",
     "text": [
      "C:\\Users\\Yoo\\AppData\\Local\\Temp\\ipykernel_145472\\283785499.py:2: SettingWithCopyWarning: \n",
      "A value is trying to be set on a copy of a slice from a DataFrame.\n",
      "Try using .loc[row_indexer,col_indexer] = value instead\n",
      "\n",
      "See the caveats in the documentation: https://pandas.pydata.org/pandas-docs/stable/user_guide/indexing.html#returning-a-view-versus-a-copy\n",
      "  user_act['signup_time']        = pd.to_datetime(user_act['signup_time'])\n",
      "C:\\Users\\Yoo\\AppData\\Local\\Temp\\ipykernel_145472\\283785499.py:3: SettingWithCopyWarning: \n",
      "A value is trying to be set on a copy of a slice from a DataFrame.\n",
      "Try using .loc[row_indexer,col_indexer] = value instead\n",
      "\n",
      "See the caveats in the documentation: https://pandas.pydata.org/pandas-docs/stable/user_guide/indexing.html#returning-a-view-versus-a-copy\n",
      "  user_act['client_event_time']  = pd.to_datetime(user_act['client_event_time'])\n",
      "C:\\Users\\Yoo\\AppData\\Local\\Temp\\ipykernel_145472\\283785499.py:6: SettingWithCopyWarning: \n",
      "A value is trying to be set on a copy of a slice from a DataFrame.\n",
      "Try using .loc[row_indexer,col_indexer] = value instead\n",
      "\n",
      "See the caveats in the documentation: https://pandas.pydata.org/pandas-docs/stable/user_guide/indexing.html#returning-a-view-versus-a-copy\n",
      "  user_act['last_event_time'] = user_act.groupby('user_id')['client_event_time'].transform('max')\n",
      "C:\\Users\\Yoo\\AppData\\Local\\Temp\\ipykernel_145472\\283785499.py:9: SettingWithCopyWarning: \n",
      "A value is trying to be set on a copy of a slice from a DataFrame.\n",
      "Try using .loc[row_indexer,col_indexer] = value instead\n",
      "\n",
      "See the caveats in the documentation: https://pandas.pydata.org/pandas-docs/stable/user_guide/indexing.html#returning-a-view-versus-a-copy\n",
      "  user_act['lasting_day'] = (user_act['last_event_time'] - user_act['signup_time']).dt.days\n"
     ]
    }
   ],
   "source": [
    "# datetime 변환\n",
    "user_act['signup_time']        = pd.to_datetime(user_act['signup_time'])\n",
    "user_act['client_event_time']  = pd.to_datetime(user_act['client_event_time'])\n",
    "\n",
    "# 유저별 마지막 이벤트 시각 계산\n",
    "user_act['last_event_time'] = user_act.groupby('user_id')['client_event_time'].transform('max')\n",
    "\n",
    "# signup_time과 마지막 이벤트 시각 차이를 일 단위로 계산\n",
    "user_act['lasting_day'] = (user_act['last_event_time'] - user_act['signup_time']).dt.days"
   ]
  },
  {
   "cell_type": "code",
   "execution_count": 20,
   "id": "bebba77c",
   "metadata": {},
   "outputs": [
    {
     "name": "stderr",
     "output_type": "stream",
     "text": [
      "C:\\Users\\Yoo\\AppData\\Local\\Temp\\ipykernel_145472\\3264387821.py:1: SettingWithCopyWarning: \n",
      "A value is trying to be set on a copy of a slice from a DataFrame\n",
      "\n",
      "See the caveats in the documentation: https://pandas.pydata.org/pandas-docs/stable/user_guide/indexing.html#returning-a-view-versus-a-copy\n",
      "  user_act.sort_values(by=['client_event_time'], inplace=True)\n"
     ]
    }
   ],
   "source": [
    "user_act.sort_values(by=['client_event_time'], inplace=True)"
   ]
  },
  {
   "cell_type": "code",
   "execution_count": 21,
   "id": "3060a2cf",
   "metadata": {},
   "outputs": [
    {
     "data": {
      "text/html": [
       "<div>\n",
       "<style scoped>\n",
       "    .dataframe tbody tr th:only-of-type {\n",
       "        vertical-align: middle;\n",
       "    }\n",
       "\n",
       "    .dataframe tbody tr th {\n",
       "        vertical-align: top;\n",
       "    }\n",
       "\n",
       "    .dataframe thead th {\n",
       "        text-align: right;\n",
       "    }\n",
       "</style>\n",
       "<table border=\"1\" class=\"dataframe\">\n",
       "  <thead>\n",
       "    <tr style=\"text-align: right;\">\n",
       "      <th></th>\n",
       "      <th>client_event_time</th>\n",
       "      <th>user_id</th>\n",
       "      <th>signup_time</th>\n",
       "      <th>event_type</th>\n",
       "      <th>aha_moment</th>\n",
       "      <th>signup_cohort</th>\n",
       "      <th>is_aha_moment</th>\n",
       "      <th>device_class</th>\n",
       "      <th>last_event_time</th>\n",
       "      <th>lasting_day</th>\n",
       "    </tr>\n",
       "  </thead>\n",
       "  <tbody>\n",
       "    <tr>\n",
       "      <th>2768453</th>\n",
       "      <td>2022-01-01 00:06:31.232</td>\n",
       "      <td>6b4b4d8e08ce009f8992c546372ce664</td>\n",
       "      <td>2022-01-01 00:06:31.232</td>\n",
       "      <td>complete.signup</td>\n",
       "      <td>NaT</td>\n",
       "      <td>2022-01</td>\n",
       "      <td>0</td>\n",
       "      <td>Mobile</td>\n",
       "      <td>2022-01-01 00:10:03.991</td>\n",
       "      <td>0</td>\n",
       "    </tr>\n",
       "    <tr>\n",
       "      <th>13446717</th>\n",
       "      <td>2022-01-01 00:10:03.991</td>\n",
       "      <td>6b4b4d8e08ce009f8992c546372ce664</td>\n",
       "      <td>2022-01-01 00:06:31.232</td>\n",
       "      <td>enter.main_page</td>\n",
       "      <td>NaT</td>\n",
       "      <td>2022-01</td>\n",
       "      <td>0</td>\n",
       "      <td>Mobile</td>\n",
       "      <td>2022-01-01 00:10:03.991</td>\n",
       "      <td>0</td>\n",
       "    </tr>\n",
       "    <tr>\n",
       "      <th>2768444</th>\n",
       "      <td>2022-01-01 00:10:21.400</td>\n",
       "      <td>a5b72d5c6dd4e213315225d9fb9bbbca</td>\n",
       "      <td>2022-01-01 00:10:21.400</td>\n",
       "      <td>complete.signup</td>\n",
       "      <td>2022-01-01 00:10:22.068</td>\n",
       "      <td>2022-01</td>\n",
       "      <td>1</td>\n",
       "      <td>Mobile</td>\n",
       "      <td>2022-01-01 00:58:00.241</td>\n",
       "      <td>0</td>\n",
       "    </tr>\n",
       "    <tr>\n",
       "      <th>9826442</th>\n",
       "      <td>2022-01-01 00:10:22.068</td>\n",
       "      <td>a5b72d5c6dd4e213315225d9fb9bbbca</td>\n",
       "      <td>2022-01-01 00:10:21.400</td>\n",
       "      <td>enter.lesson_page</td>\n",
       "      <td>2022-01-01 00:10:22.068</td>\n",
       "      <td>2022-01</td>\n",
       "      <td>1</td>\n",
       "      <td>Mobile</td>\n",
       "      <td>2022-01-01 00:58:00.241</td>\n",
       "      <td>0</td>\n",
       "    </tr>\n",
       "    <tr>\n",
       "      <th>2768456</th>\n",
       "      <td>2022-01-01 00:10:49.730</td>\n",
       "      <td>81c52556d0605b8221aa897cd2ed740d</td>\n",
       "      <td>2022-01-01 00:10:49.730</td>\n",
       "      <td>complete.signup</td>\n",
       "      <td>NaT</td>\n",
       "      <td>2022-01</td>\n",
       "      <td>0</td>\n",
       "      <td>Mobile</td>\n",
       "      <td>2022-01-01 00:10:49.730</td>\n",
       "      <td>0</td>\n",
       "    </tr>\n",
       "    <tr>\n",
       "      <th>...</th>\n",
       "      <td>...</td>\n",
       "      <td>...</td>\n",
       "      <td>...</td>\n",
       "      <td>...</td>\n",
       "      <td>...</td>\n",
       "      <td>...</td>\n",
       "      <td>...</td>\n",
       "      <td>...</td>\n",
       "      <td>...</td>\n",
       "      <td>...</td>\n",
       "    </tr>\n",
       "    <tr>\n",
       "      <th>2102268</th>\n",
       "      <td>2023-12-31 23:56:52.291</td>\n",
       "      <td>197e9482850c6efa3bd465338056cce4</td>\n",
       "      <td>2023-07-07 05:39:52.475</td>\n",
       "      <td>complete.lesson</td>\n",
       "      <td>2023-07-08 02:22:29.706</td>\n",
       "      <td>2023-07</td>\n",
       "      <td>1</td>\n",
       "      <td>PC</td>\n",
       "      <td>2023-12-31 23:56:52.291</td>\n",
       "      <td>177</td>\n",
       "    </tr>\n",
       "    <tr>\n",
       "      <th>11125671</th>\n",
       "      <td>2023-12-31 23:57:46.757</td>\n",
       "      <td>4e75fa4d89e22efaaeb19d7796a1af2b</td>\n",
       "      <td>2023-12-25 13:41:21.823</td>\n",
       "      <td>enter.lesson_page</td>\n",
       "      <td>2023-12-25 13:48:17.220</td>\n",
       "      <td>2023-12</td>\n",
       "      <td>1</td>\n",
       "      <td>PC</td>\n",
       "      <td>2023-12-31 23:57:46.757</td>\n",
       "      <td>6</td>\n",
       "    </tr>\n",
       "    <tr>\n",
       "      <th>14789667</th>\n",
       "      <td>2023-12-31 23:58:39.902</td>\n",
       "      <td>7b0e13e15554512df3c5cec123dcea6d</td>\n",
       "      <td>2023-10-31 02:34:09.758</td>\n",
       "      <td>enter.content_page</td>\n",
       "      <td>2023-10-31 04:26:54.122</td>\n",
       "      <td>2023-10</td>\n",
       "      <td>1</td>\n",
       "      <td>PC</td>\n",
       "      <td>2023-12-31 23:58:48.291</td>\n",
       "      <td>61</td>\n",
       "    </tr>\n",
       "    <tr>\n",
       "      <th>11125666</th>\n",
       "      <td>2023-12-31 23:58:48.291</td>\n",
       "      <td>7b0e13e15554512df3c5cec123dcea6d</td>\n",
       "      <td>2023-10-31 02:34:09.758</td>\n",
       "      <td>enter.lesson_page</td>\n",
       "      <td>2023-10-31 04:26:54.122</td>\n",
       "      <td>2023-10</td>\n",
       "      <td>1</td>\n",
       "      <td>PC</td>\n",
       "      <td>2023-12-31 23:58:48.291</td>\n",
       "      <td>61</td>\n",
       "    </tr>\n",
       "    <tr>\n",
       "      <th>2102299</th>\n",
       "      <td>2023-12-31 23:59:35.209</td>\n",
       "      <td>562fbf6d8b5bbc5b0dbd3c53153e8701</td>\n",
       "      <td>2023-12-30 06:06:26.553</td>\n",
       "      <td>complete.lesson</td>\n",
       "      <td>NaT</td>\n",
       "      <td>2023-12</td>\n",
       "      <td>0</td>\n",
       "      <td>Mobile</td>\n",
       "      <td>2023-12-31 23:59:35.209</td>\n",
       "      <td>1</td>\n",
       "    </tr>\n",
       "  </tbody>\n",
       "</table>\n",
       "<p>15110379 rows × 10 columns</p>\n",
       "</div>"
      ],
      "text/plain": [
       "               client_event_time                           user_id  \\\n",
       "2768453  2022-01-01 00:06:31.232  6b4b4d8e08ce009f8992c546372ce664   \n",
       "13446717 2022-01-01 00:10:03.991  6b4b4d8e08ce009f8992c546372ce664   \n",
       "2768444  2022-01-01 00:10:21.400  a5b72d5c6dd4e213315225d9fb9bbbca   \n",
       "9826442  2022-01-01 00:10:22.068  a5b72d5c6dd4e213315225d9fb9bbbca   \n",
       "2768456  2022-01-01 00:10:49.730  81c52556d0605b8221aa897cd2ed740d   \n",
       "...                          ...                               ...   \n",
       "2102268  2023-12-31 23:56:52.291  197e9482850c6efa3bd465338056cce4   \n",
       "11125671 2023-12-31 23:57:46.757  4e75fa4d89e22efaaeb19d7796a1af2b   \n",
       "14789667 2023-12-31 23:58:39.902  7b0e13e15554512df3c5cec123dcea6d   \n",
       "11125666 2023-12-31 23:58:48.291  7b0e13e15554512df3c5cec123dcea6d   \n",
       "2102299  2023-12-31 23:59:35.209  562fbf6d8b5bbc5b0dbd3c53153e8701   \n",
       "\n",
       "                     signup_time          event_type              aha_moment  \\\n",
       "2768453  2022-01-01 00:06:31.232     complete.signup                     NaT   \n",
       "13446717 2022-01-01 00:06:31.232     enter.main_page                     NaT   \n",
       "2768444  2022-01-01 00:10:21.400     complete.signup 2022-01-01 00:10:22.068   \n",
       "9826442  2022-01-01 00:10:21.400   enter.lesson_page 2022-01-01 00:10:22.068   \n",
       "2768456  2022-01-01 00:10:49.730     complete.signup                     NaT   \n",
       "...                          ...                 ...                     ...   \n",
       "2102268  2023-07-07 05:39:52.475     complete.lesson 2023-07-08 02:22:29.706   \n",
       "11125671 2023-12-25 13:41:21.823   enter.lesson_page 2023-12-25 13:48:17.220   \n",
       "14789667 2023-10-31 02:34:09.758  enter.content_page 2023-10-31 04:26:54.122   \n",
       "11125666 2023-10-31 02:34:09.758   enter.lesson_page 2023-10-31 04:26:54.122   \n",
       "2102299  2023-12-30 06:06:26.553     complete.lesson                     NaT   \n",
       "\n",
       "         signup_cohort  is_aha_moment device_class         last_event_time  \\\n",
       "2768453        2022-01              0       Mobile 2022-01-01 00:10:03.991   \n",
       "13446717       2022-01              0       Mobile 2022-01-01 00:10:03.991   \n",
       "2768444        2022-01              1       Mobile 2022-01-01 00:58:00.241   \n",
       "9826442        2022-01              1       Mobile 2022-01-01 00:58:00.241   \n",
       "2768456        2022-01              0       Mobile 2022-01-01 00:10:49.730   \n",
       "...                ...            ...          ...                     ...   \n",
       "2102268        2023-07              1           PC 2023-12-31 23:56:52.291   \n",
       "11125671       2023-12              1           PC 2023-12-31 23:57:46.757   \n",
       "14789667       2023-10              1           PC 2023-12-31 23:58:48.291   \n",
       "11125666       2023-10              1           PC 2023-12-31 23:58:48.291   \n",
       "2102299        2023-12              0       Mobile 2023-12-31 23:59:35.209   \n",
       "\n",
       "          lasting_day  \n",
       "2768453             0  \n",
       "13446717            0  \n",
       "2768444             0  \n",
       "9826442             0  \n",
       "2768456             0  \n",
       "...               ...  \n",
       "2102268           177  \n",
       "11125671            6  \n",
       "14789667           61  \n",
       "11125666           61  \n",
       "2102299             1  \n",
       "\n",
       "[15110379 rows x 10 columns]"
      ]
     },
     "execution_count": 21,
     "metadata": {},
     "output_type": "execute_result"
    }
   ],
   "source": [
    "user_act"
   ]
  },
  {
   "cell_type": "code",
   "execution_count": 22,
   "id": "b5febeac",
   "metadata": {},
   "outputs": [
    {
     "name": "stderr",
     "output_type": "stream",
     "text": [
      "C:\\Users\\Yoo\\AppData\\Local\\Temp\\ipykernel_145472\\3722517565.py:1: SettingWithCopyWarning: \n",
      "A value is trying to be set on a copy of a slice from a DataFrame.\n",
      "Try using .loc[row_indexer,col_indexer] = value instead\n",
      "\n",
      "See the caveats in the documentation: https://pandas.pydata.org/pandas-docs/stable/user_guide/indexing.html#returning-a-view-versus-a-copy\n",
      "  user_act['client_event_time'] = pd.to_datetime(user_act['client_event_time'])\n",
      "C:\\Users\\Yoo\\AppData\\Local\\Temp\\ipykernel_145472\\3722517565.py:2: SettingWithCopyWarning: \n",
      "A value is trying to be set on a copy of a slice from a DataFrame.\n",
      "Try using .loc[row_indexer,col_indexer] = value instead\n",
      "\n",
      "See the caveats in the documentation: https://pandas.pydata.org/pandas-docs/stable/user_guide/indexing.html#returning-a-view-versus-a-copy\n",
      "  user_act['aha_moment']       = pd.to_datetime(user_act['aha_moment'])\n",
      "C:\\Users\\Yoo\\AppData\\Local\\Temp\\ipykernel_145472\\3722517565.py:5: SettingWithCopyWarning: \n",
      "A value is trying to be set on a copy of a slice from a DataFrame.\n",
      "Try using .loc[row_indexer,col_indexer] = value instead\n",
      "\n",
      "See the caveats in the documentation: https://pandas.pydata.org/pandas-docs/stable/user_guide/indexing.html#returning-a-view-versus-a-copy\n",
      "  user_act['since_aha_date'] = (user_act['client_event_time'] - user_act['aha_moment']).dt.days\n"
     ]
    }
   ],
   "source": [
    "user_act['client_event_time'] = pd.to_datetime(user_act['client_event_time'])\n",
    "user_act['aha_moment']       = pd.to_datetime(user_act['aha_moment'])\n",
    "\n",
    "# 2) 두 시점의 차이를 일(day) 단위로 계산\n",
    "user_act['since_aha_date'] = (user_act['client_event_time'] - user_act['aha_moment']).dt.days\n"
   ]
  },
  {
   "cell_type": "code",
   "execution_count": 23,
   "id": "9f7a21b3",
   "metadata": {},
   "outputs": [
    {
     "name": "stderr",
     "output_type": "stream",
     "text": [
      "C:\\Users\\Yoo\\AppData\\Local\\Temp\\ipykernel_145472\\1566131591.py:1: SettingWithCopyWarning: \n",
      "A value is trying to be set on a copy of a slice from a DataFrame.\n",
      "Try using .loc[row_indexer,col_indexer] = value instead\n",
      "\n",
      "See the caveats in the documentation: https://pandas.pydata.org/pandas-docs/stable/user_guide/indexing.html#returning-a-view-versus-a-copy\n",
      "  user_act['since_aha_date'] = user_act['since_aha_date'].fillna(0).clip(lower=0).astype(int)\n"
     ]
    }
   ],
   "source": [
    "user_act['since_aha_date'] = user_act['since_aha_date'].fillna(0).clip(lower=0).astype(int)"
   ]
  },
  {
   "cell_type": "code",
   "execution_count": 24,
   "id": "a26825c7",
   "metadata": {},
   "outputs": [
    {
     "data": {
      "text/html": [
       "<div>\n",
       "<style scoped>\n",
       "    .dataframe tbody tr th:only-of-type {\n",
       "        vertical-align: middle;\n",
       "    }\n",
       "\n",
       "    .dataframe tbody tr th {\n",
       "        vertical-align: top;\n",
       "    }\n",
       "\n",
       "    .dataframe thead th {\n",
       "        text-align: right;\n",
       "    }\n",
       "</style>\n",
       "<table border=\"1\" class=\"dataframe\">\n",
       "  <thead>\n",
       "    <tr style=\"text-align: right;\">\n",
       "      <th></th>\n",
       "      <th>client_event_time</th>\n",
       "      <th>user_id</th>\n",
       "      <th>signup_time</th>\n",
       "      <th>event_type</th>\n",
       "      <th>aha_moment</th>\n",
       "      <th>signup_cohort</th>\n",
       "      <th>is_aha_moment</th>\n",
       "      <th>device_class</th>\n",
       "      <th>last_event_time</th>\n",
       "      <th>lasting_day</th>\n",
       "      <th>since_aha_date</th>\n",
       "    </tr>\n",
       "  </thead>\n",
       "  <tbody>\n",
       "    <tr>\n",
       "      <th>2768453</th>\n",
       "      <td>2022-01-01 00:06:31.232</td>\n",
       "      <td>6b4b4d8e08ce009f8992c546372ce664</td>\n",
       "      <td>2022-01-01 00:06:31.232</td>\n",
       "      <td>complete.signup</td>\n",
       "      <td>NaT</td>\n",
       "      <td>2022-01</td>\n",
       "      <td>0</td>\n",
       "      <td>Mobile</td>\n",
       "      <td>2022-01-01 00:10:03.991</td>\n",
       "      <td>0</td>\n",
       "      <td>0</td>\n",
       "    </tr>\n",
       "    <tr>\n",
       "      <th>13446717</th>\n",
       "      <td>2022-01-01 00:10:03.991</td>\n",
       "      <td>6b4b4d8e08ce009f8992c546372ce664</td>\n",
       "      <td>2022-01-01 00:06:31.232</td>\n",
       "      <td>enter.main_page</td>\n",
       "      <td>NaT</td>\n",
       "      <td>2022-01</td>\n",
       "      <td>0</td>\n",
       "      <td>Mobile</td>\n",
       "      <td>2022-01-01 00:10:03.991</td>\n",
       "      <td>0</td>\n",
       "      <td>0</td>\n",
       "    </tr>\n",
       "    <tr>\n",
       "      <th>2768444</th>\n",
       "      <td>2022-01-01 00:10:21.400</td>\n",
       "      <td>a5b72d5c6dd4e213315225d9fb9bbbca</td>\n",
       "      <td>2022-01-01 00:10:21.400</td>\n",
       "      <td>complete.signup</td>\n",
       "      <td>2022-01-01 00:10:22.068</td>\n",
       "      <td>2022-01</td>\n",
       "      <td>1</td>\n",
       "      <td>Mobile</td>\n",
       "      <td>2022-01-01 00:58:00.241</td>\n",
       "      <td>0</td>\n",
       "      <td>0</td>\n",
       "    </tr>\n",
       "    <tr>\n",
       "      <th>9826442</th>\n",
       "      <td>2022-01-01 00:10:22.068</td>\n",
       "      <td>a5b72d5c6dd4e213315225d9fb9bbbca</td>\n",
       "      <td>2022-01-01 00:10:21.400</td>\n",
       "      <td>enter.lesson_page</td>\n",
       "      <td>2022-01-01 00:10:22.068</td>\n",
       "      <td>2022-01</td>\n",
       "      <td>1</td>\n",
       "      <td>Mobile</td>\n",
       "      <td>2022-01-01 00:58:00.241</td>\n",
       "      <td>0</td>\n",
       "      <td>0</td>\n",
       "    </tr>\n",
       "    <tr>\n",
       "      <th>2768456</th>\n",
       "      <td>2022-01-01 00:10:49.730</td>\n",
       "      <td>81c52556d0605b8221aa897cd2ed740d</td>\n",
       "      <td>2022-01-01 00:10:49.730</td>\n",
       "      <td>complete.signup</td>\n",
       "      <td>NaT</td>\n",
       "      <td>2022-01</td>\n",
       "      <td>0</td>\n",
       "      <td>Mobile</td>\n",
       "      <td>2022-01-01 00:10:49.730</td>\n",
       "      <td>0</td>\n",
       "      <td>0</td>\n",
       "    </tr>\n",
       "    <tr>\n",
       "      <th>...</th>\n",
       "      <td>...</td>\n",
       "      <td>...</td>\n",
       "      <td>...</td>\n",
       "      <td>...</td>\n",
       "      <td>...</td>\n",
       "      <td>...</td>\n",
       "      <td>...</td>\n",
       "      <td>...</td>\n",
       "      <td>...</td>\n",
       "      <td>...</td>\n",
       "      <td>...</td>\n",
       "    </tr>\n",
       "    <tr>\n",
       "      <th>2102268</th>\n",
       "      <td>2023-12-31 23:56:52.291</td>\n",
       "      <td>197e9482850c6efa3bd465338056cce4</td>\n",
       "      <td>2023-07-07 05:39:52.475</td>\n",
       "      <td>complete.lesson</td>\n",
       "      <td>2023-07-08 02:22:29.706</td>\n",
       "      <td>2023-07</td>\n",
       "      <td>1</td>\n",
       "      <td>PC</td>\n",
       "      <td>2023-12-31 23:56:52.291</td>\n",
       "      <td>177</td>\n",
       "      <td>176</td>\n",
       "    </tr>\n",
       "    <tr>\n",
       "      <th>11125671</th>\n",
       "      <td>2023-12-31 23:57:46.757</td>\n",
       "      <td>4e75fa4d89e22efaaeb19d7796a1af2b</td>\n",
       "      <td>2023-12-25 13:41:21.823</td>\n",
       "      <td>enter.lesson_page</td>\n",
       "      <td>2023-12-25 13:48:17.220</td>\n",
       "      <td>2023-12</td>\n",
       "      <td>1</td>\n",
       "      <td>PC</td>\n",
       "      <td>2023-12-31 23:57:46.757</td>\n",
       "      <td>6</td>\n",
       "      <td>6</td>\n",
       "    </tr>\n",
       "    <tr>\n",
       "      <th>14789667</th>\n",
       "      <td>2023-12-31 23:58:39.902</td>\n",
       "      <td>7b0e13e15554512df3c5cec123dcea6d</td>\n",
       "      <td>2023-10-31 02:34:09.758</td>\n",
       "      <td>enter.content_page</td>\n",
       "      <td>2023-10-31 04:26:54.122</td>\n",
       "      <td>2023-10</td>\n",
       "      <td>1</td>\n",
       "      <td>PC</td>\n",
       "      <td>2023-12-31 23:58:48.291</td>\n",
       "      <td>61</td>\n",
       "      <td>61</td>\n",
       "    </tr>\n",
       "    <tr>\n",
       "      <th>11125666</th>\n",
       "      <td>2023-12-31 23:58:48.291</td>\n",
       "      <td>7b0e13e15554512df3c5cec123dcea6d</td>\n",
       "      <td>2023-10-31 02:34:09.758</td>\n",
       "      <td>enter.lesson_page</td>\n",
       "      <td>2023-10-31 04:26:54.122</td>\n",
       "      <td>2023-10</td>\n",
       "      <td>1</td>\n",
       "      <td>PC</td>\n",
       "      <td>2023-12-31 23:58:48.291</td>\n",
       "      <td>61</td>\n",
       "      <td>61</td>\n",
       "    </tr>\n",
       "    <tr>\n",
       "      <th>2102299</th>\n",
       "      <td>2023-12-31 23:59:35.209</td>\n",
       "      <td>562fbf6d8b5bbc5b0dbd3c53153e8701</td>\n",
       "      <td>2023-12-30 06:06:26.553</td>\n",
       "      <td>complete.lesson</td>\n",
       "      <td>NaT</td>\n",
       "      <td>2023-12</td>\n",
       "      <td>0</td>\n",
       "      <td>Mobile</td>\n",
       "      <td>2023-12-31 23:59:35.209</td>\n",
       "      <td>1</td>\n",
       "      <td>0</td>\n",
       "    </tr>\n",
       "  </tbody>\n",
       "</table>\n",
       "<p>15110379 rows × 11 columns</p>\n",
       "</div>"
      ],
      "text/plain": [
       "               client_event_time                           user_id  \\\n",
       "2768453  2022-01-01 00:06:31.232  6b4b4d8e08ce009f8992c546372ce664   \n",
       "13446717 2022-01-01 00:10:03.991  6b4b4d8e08ce009f8992c546372ce664   \n",
       "2768444  2022-01-01 00:10:21.400  a5b72d5c6dd4e213315225d9fb9bbbca   \n",
       "9826442  2022-01-01 00:10:22.068  a5b72d5c6dd4e213315225d9fb9bbbca   \n",
       "2768456  2022-01-01 00:10:49.730  81c52556d0605b8221aa897cd2ed740d   \n",
       "...                          ...                               ...   \n",
       "2102268  2023-12-31 23:56:52.291  197e9482850c6efa3bd465338056cce4   \n",
       "11125671 2023-12-31 23:57:46.757  4e75fa4d89e22efaaeb19d7796a1af2b   \n",
       "14789667 2023-12-31 23:58:39.902  7b0e13e15554512df3c5cec123dcea6d   \n",
       "11125666 2023-12-31 23:58:48.291  7b0e13e15554512df3c5cec123dcea6d   \n",
       "2102299  2023-12-31 23:59:35.209  562fbf6d8b5bbc5b0dbd3c53153e8701   \n",
       "\n",
       "                     signup_time          event_type              aha_moment  \\\n",
       "2768453  2022-01-01 00:06:31.232     complete.signup                     NaT   \n",
       "13446717 2022-01-01 00:06:31.232     enter.main_page                     NaT   \n",
       "2768444  2022-01-01 00:10:21.400     complete.signup 2022-01-01 00:10:22.068   \n",
       "9826442  2022-01-01 00:10:21.400   enter.lesson_page 2022-01-01 00:10:22.068   \n",
       "2768456  2022-01-01 00:10:49.730     complete.signup                     NaT   \n",
       "...                          ...                 ...                     ...   \n",
       "2102268  2023-07-07 05:39:52.475     complete.lesson 2023-07-08 02:22:29.706   \n",
       "11125671 2023-12-25 13:41:21.823   enter.lesson_page 2023-12-25 13:48:17.220   \n",
       "14789667 2023-10-31 02:34:09.758  enter.content_page 2023-10-31 04:26:54.122   \n",
       "11125666 2023-10-31 02:34:09.758   enter.lesson_page 2023-10-31 04:26:54.122   \n",
       "2102299  2023-12-30 06:06:26.553     complete.lesson                     NaT   \n",
       "\n",
       "         signup_cohort  is_aha_moment device_class         last_event_time  \\\n",
       "2768453        2022-01              0       Mobile 2022-01-01 00:10:03.991   \n",
       "13446717       2022-01              0       Mobile 2022-01-01 00:10:03.991   \n",
       "2768444        2022-01              1       Mobile 2022-01-01 00:58:00.241   \n",
       "9826442        2022-01              1       Mobile 2022-01-01 00:58:00.241   \n",
       "2768456        2022-01              0       Mobile 2022-01-01 00:10:49.730   \n",
       "...                ...            ...          ...                     ...   \n",
       "2102268        2023-07              1           PC 2023-12-31 23:56:52.291   \n",
       "11125671       2023-12              1           PC 2023-12-31 23:57:46.757   \n",
       "14789667       2023-10              1           PC 2023-12-31 23:58:48.291   \n",
       "11125666       2023-10              1           PC 2023-12-31 23:58:48.291   \n",
       "2102299        2023-12              0       Mobile 2023-12-31 23:59:35.209   \n",
       "\n",
       "          lasting_day  since_aha_date  \n",
       "2768453             0               0  \n",
       "13446717            0               0  \n",
       "2768444             0               0  \n",
       "9826442             0               0  \n",
       "2768456             0               0  \n",
       "...               ...             ...  \n",
       "2102268           177             176  \n",
       "11125671            6               6  \n",
       "14789667           61              61  \n",
       "11125666           61              61  \n",
       "2102299             1               0  \n",
       "\n",
       "[15110379 rows x 11 columns]"
      ]
     },
     "execution_count": 24,
     "metadata": {},
     "output_type": "execute_result"
    }
   ],
   "source": [
    "user_act"
   ]
  },
  {
   "cell_type": "code",
   "execution_count": 25,
   "id": "a81ef68d",
   "metadata": {},
   "outputs": [
    {
     "name": "stderr",
     "output_type": "stream",
     "text": [
      "C:\\Users\\Yoo\\AppData\\Local\\Temp\\ipykernel_145472\\2864977438.py:1: SettingWithCopyWarning: \n",
      "A value is trying to be set on a copy of a slice from a DataFrame.\n",
      "Try using .loc[row_indexer,col_indexer] = value instead\n",
      "\n",
      "See the caveats in the documentation: https://pandas.pydata.org/pandas-docs/stable/user_guide/indexing.html#returning-a-view-versus-a-copy\n",
      "  user_act['signup_time']       = pd.to_datetime(user_act['signup_time'])\n",
      "C:\\Users\\Yoo\\AppData\\Local\\Temp\\ipykernel_145472\\2864977438.py:2: SettingWithCopyWarning: \n",
      "A value is trying to be set on a copy of a slice from a DataFrame.\n",
      "Try using .loc[row_indexer,col_indexer] = value instead\n",
      "\n",
      "See the caveats in the documentation: https://pandas.pydata.org/pandas-docs/stable/user_guide/indexing.html#returning-a-view-versus-a-copy\n",
      "  user_act['client_event_time'] = pd.to_datetime(user_act['client_event_time'])\n",
      "C:\\Users\\Yoo\\AppData\\Local\\Temp\\ipykernel_145472\\2864977438.py:4: SettingWithCopyWarning: \n",
      "A value is trying to be set on a copy of a slice from a DataFrame.\n",
      "Try using .loc[row_indexer,col_indexer] = value instead\n",
      "\n",
      "See the caveats in the documentation: https://pandas.pydata.org/pandas-docs/stable/user_guide/indexing.html#returning-a-view-versus-a-copy\n",
      "  user_act['last_event_time'] = user_act.groupby('user_id')['client_event_time'].transform('max')\n",
      "C:\\Users\\Yoo\\AppData\\Local\\Temp\\ipykernel_145472\\2864977438.py:6: SettingWithCopyWarning: \n",
      "A value is trying to be set on a copy of a slice from a DataFrame.\n",
      "Try using .loc[row_indexer,col_indexer] = value instead\n",
      "\n",
      "See the caveats in the documentation: https://pandas.pydata.org/pandas-docs/stable/user_guide/indexing.html#returning-a-view-versus-a-copy\n",
      "  user_act['lasting_day'] = (user_act['last_event_time'] - user_act['signup_time']).dt.days\n"
     ]
    }
   ],
   "source": [
    "user_act['signup_time']       = pd.to_datetime(user_act['signup_time'])\n",
    "user_act['client_event_time'] = pd.to_datetime(user_act['client_event_time'])\n",
    "\n",
    "user_act['last_event_time'] = user_act.groupby('user_id')['client_event_time'].transform('max')\n",
    "\n",
    "user_act['lasting_day'] = (user_act['last_event_time'] - user_act['signup_time']).dt.days\n",
    "\n",
    "user_act = user_act.drop(columns=['last_event_time'])"
   ]
  },
  {
   "cell_type": "code",
   "execution_count": 26,
   "id": "c9c7fd15",
   "metadata": {},
   "outputs": [],
   "source": [
    "user_act.drop_duplicates(inplace=True)"
   ]
  },
  {
   "cell_type": "code",
   "execution_count": 27,
   "id": "167e5c12",
   "metadata": {},
   "outputs": [],
   "source": [
    "user_act.drop(columns=['signup_time'], inplace=True)"
   ]
  },
  {
   "cell_type": "code",
   "execution_count": 28,
   "id": "9c44757a",
   "metadata": {},
   "outputs": [],
   "source": [
    "user_act.drop(columns=['device_class'], inplace=True) # 최종적으로 사용하지 않을 것 같아 이전에 만든 컬럼을 제거"
   ]
  },
  {
   "cell_type": "code",
   "execution_count": 29,
   "id": "685cb5fe",
   "metadata": {},
   "outputs": [
    {
     "data": {
      "text/html": [
       "<div>\n",
       "<style scoped>\n",
       "    .dataframe tbody tr th:only-of-type {\n",
       "        vertical-align: middle;\n",
       "    }\n",
       "\n",
       "    .dataframe tbody tr th {\n",
       "        vertical-align: top;\n",
       "    }\n",
       "\n",
       "    .dataframe thead th {\n",
       "        text-align: right;\n",
       "    }\n",
       "</style>\n",
       "<table border=\"1\" class=\"dataframe\">\n",
       "  <thead>\n",
       "    <tr style=\"text-align: right;\">\n",
       "      <th></th>\n",
       "      <th>client_event_time</th>\n",
       "      <th>user_id</th>\n",
       "      <th>event_type</th>\n",
       "      <th>aha_moment</th>\n",
       "      <th>signup_cohort</th>\n",
       "      <th>is_aha_moment</th>\n",
       "      <th>lasting_day</th>\n",
       "      <th>since_aha_date</th>\n",
       "    </tr>\n",
       "  </thead>\n",
       "  <tbody>\n",
       "    <tr>\n",
       "      <th>2768453</th>\n",
       "      <td>2022-01-01 00:06:31.232</td>\n",
       "      <td>6b4b4d8e08ce009f8992c546372ce664</td>\n",
       "      <td>complete.signup</td>\n",
       "      <td>NaT</td>\n",
       "      <td>2022-01</td>\n",
       "      <td>0</td>\n",
       "      <td>0</td>\n",
       "      <td>0</td>\n",
       "    </tr>\n",
       "    <tr>\n",
       "      <th>13446717</th>\n",
       "      <td>2022-01-01 00:10:03.991</td>\n",
       "      <td>6b4b4d8e08ce009f8992c546372ce664</td>\n",
       "      <td>enter.main_page</td>\n",
       "      <td>NaT</td>\n",
       "      <td>2022-01</td>\n",
       "      <td>0</td>\n",
       "      <td>0</td>\n",
       "      <td>0</td>\n",
       "    </tr>\n",
       "    <tr>\n",
       "      <th>2768444</th>\n",
       "      <td>2022-01-01 00:10:21.400</td>\n",
       "      <td>a5b72d5c6dd4e213315225d9fb9bbbca</td>\n",
       "      <td>complete.signup</td>\n",
       "      <td>2022-01-01 00:10:22.068</td>\n",
       "      <td>2022-01</td>\n",
       "      <td>1</td>\n",
       "      <td>0</td>\n",
       "      <td>0</td>\n",
       "    </tr>\n",
       "    <tr>\n",
       "      <th>9826442</th>\n",
       "      <td>2022-01-01 00:10:22.068</td>\n",
       "      <td>a5b72d5c6dd4e213315225d9fb9bbbca</td>\n",
       "      <td>enter.lesson_page</td>\n",
       "      <td>2022-01-01 00:10:22.068</td>\n",
       "      <td>2022-01</td>\n",
       "      <td>1</td>\n",
       "      <td>0</td>\n",
       "      <td>0</td>\n",
       "    </tr>\n",
       "    <tr>\n",
       "      <th>2768456</th>\n",
       "      <td>2022-01-01 00:10:49.730</td>\n",
       "      <td>81c52556d0605b8221aa897cd2ed740d</td>\n",
       "      <td>complete.signup</td>\n",
       "      <td>NaT</td>\n",
       "      <td>2022-01</td>\n",
       "      <td>0</td>\n",
       "      <td>0</td>\n",
       "      <td>0</td>\n",
       "    </tr>\n",
       "    <tr>\n",
       "      <th>...</th>\n",
       "      <td>...</td>\n",
       "      <td>...</td>\n",
       "      <td>...</td>\n",
       "      <td>...</td>\n",
       "      <td>...</td>\n",
       "      <td>...</td>\n",
       "      <td>...</td>\n",
       "      <td>...</td>\n",
       "    </tr>\n",
       "    <tr>\n",
       "      <th>2102268</th>\n",
       "      <td>2023-12-31 23:56:52.291</td>\n",
       "      <td>197e9482850c6efa3bd465338056cce4</td>\n",
       "      <td>complete.lesson</td>\n",
       "      <td>2023-07-08 02:22:29.706</td>\n",
       "      <td>2023-07</td>\n",
       "      <td>1</td>\n",
       "      <td>177</td>\n",
       "      <td>176</td>\n",
       "    </tr>\n",
       "    <tr>\n",
       "      <th>11125671</th>\n",
       "      <td>2023-12-31 23:57:46.757</td>\n",
       "      <td>4e75fa4d89e22efaaeb19d7796a1af2b</td>\n",
       "      <td>enter.lesson_page</td>\n",
       "      <td>2023-12-25 13:48:17.220</td>\n",
       "      <td>2023-12</td>\n",
       "      <td>1</td>\n",
       "      <td>6</td>\n",
       "      <td>6</td>\n",
       "    </tr>\n",
       "    <tr>\n",
       "      <th>14789667</th>\n",
       "      <td>2023-12-31 23:58:39.902</td>\n",
       "      <td>7b0e13e15554512df3c5cec123dcea6d</td>\n",
       "      <td>enter.content_page</td>\n",
       "      <td>2023-10-31 04:26:54.122</td>\n",
       "      <td>2023-10</td>\n",
       "      <td>1</td>\n",
       "      <td>61</td>\n",
       "      <td>61</td>\n",
       "    </tr>\n",
       "    <tr>\n",
       "      <th>11125666</th>\n",
       "      <td>2023-12-31 23:58:48.291</td>\n",
       "      <td>7b0e13e15554512df3c5cec123dcea6d</td>\n",
       "      <td>enter.lesson_page</td>\n",
       "      <td>2023-10-31 04:26:54.122</td>\n",
       "      <td>2023-10</td>\n",
       "      <td>1</td>\n",
       "      <td>61</td>\n",
       "      <td>61</td>\n",
       "    </tr>\n",
       "    <tr>\n",
       "      <th>2102299</th>\n",
       "      <td>2023-12-31 23:59:35.209</td>\n",
       "      <td>562fbf6d8b5bbc5b0dbd3c53153e8701</td>\n",
       "      <td>complete.lesson</td>\n",
       "      <td>NaT</td>\n",
       "      <td>2023-12</td>\n",
       "      <td>0</td>\n",
       "      <td>1</td>\n",
       "      <td>0</td>\n",
       "    </tr>\n",
       "  </tbody>\n",
       "</table>\n",
       "<p>15033460 rows × 8 columns</p>\n",
       "</div>"
      ],
      "text/plain": [
       "               client_event_time                           user_id  \\\n",
       "2768453  2022-01-01 00:06:31.232  6b4b4d8e08ce009f8992c546372ce664   \n",
       "13446717 2022-01-01 00:10:03.991  6b4b4d8e08ce009f8992c546372ce664   \n",
       "2768444  2022-01-01 00:10:21.400  a5b72d5c6dd4e213315225d9fb9bbbca   \n",
       "9826442  2022-01-01 00:10:22.068  a5b72d5c6dd4e213315225d9fb9bbbca   \n",
       "2768456  2022-01-01 00:10:49.730  81c52556d0605b8221aa897cd2ed740d   \n",
       "...                          ...                               ...   \n",
       "2102268  2023-12-31 23:56:52.291  197e9482850c6efa3bd465338056cce4   \n",
       "11125671 2023-12-31 23:57:46.757  4e75fa4d89e22efaaeb19d7796a1af2b   \n",
       "14789667 2023-12-31 23:58:39.902  7b0e13e15554512df3c5cec123dcea6d   \n",
       "11125666 2023-12-31 23:58:48.291  7b0e13e15554512df3c5cec123dcea6d   \n",
       "2102299  2023-12-31 23:59:35.209  562fbf6d8b5bbc5b0dbd3c53153e8701   \n",
       "\n",
       "                  event_type              aha_moment signup_cohort  \\\n",
       "2768453      complete.signup                     NaT       2022-01   \n",
       "13446717     enter.main_page                     NaT       2022-01   \n",
       "2768444      complete.signup 2022-01-01 00:10:22.068       2022-01   \n",
       "9826442    enter.lesson_page 2022-01-01 00:10:22.068       2022-01   \n",
       "2768456      complete.signup                     NaT       2022-01   \n",
       "...                      ...                     ...           ...   \n",
       "2102268      complete.lesson 2023-07-08 02:22:29.706       2023-07   \n",
       "11125671   enter.lesson_page 2023-12-25 13:48:17.220       2023-12   \n",
       "14789667  enter.content_page 2023-10-31 04:26:54.122       2023-10   \n",
       "11125666   enter.lesson_page 2023-10-31 04:26:54.122       2023-10   \n",
       "2102299      complete.lesson                     NaT       2023-12   \n",
       "\n",
       "          is_aha_moment  lasting_day  since_aha_date  \n",
       "2768453               0            0               0  \n",
       "13446717              0            0               0  \n",
       "2768444               1            0               0  \n",
       "9826442               1            0               0  \n",
       "2768456               0            0               0  \n",
       "...                 ...          ...             ...  \n",
       "2102268               1          177             176  \n",
       "11125671              1            6               6  \n",
       "14789667              1           61              61  \n",
       "11125666              1           61              61  \n",
       "2102299               0            1               0  \n",
       "\n",
       "[15033460 rows x 8 columns]"
      ]
     },
     "execution_count": 29,
     "metadata": {},
     "output_type": "execute_result"
    }
   ],
   "source": [
    "user_act"
   ]
  },
  {
   "cell_type": "markdown",
   "id": "f635dbc8",
   "metadata": {},
   "source": [
    "4.2 이상 로그 처리하기"
   ]
  },
  {
   "cell_type": "code",
   "execution_count": 30,
   "id": "206d85b0",
   "metadata": {},
   "outputs": [],
   "source": [
    "# datetime 변환\n",
    "user_act['client_event_time'] = pd.to_datetime(user_act['client_event_time'])\n",
    "user_act['aha_moment']        = pd.to_datetime(user_act['aha_moment'])\n",
    "\n",
    "# complete.lesson만 있고 enter.lesson_page가 없는 user_id 집합\n",
    "mask_complete = user_act['event_type'] == 'complete.lesson'\n",
    "mask_enter    = user_act['event_type'] == 'enter.lesson_page'\n",
    "complete_ids  = set(user_act.loc[mask_complete, 'user_id'])\n",
    "enter_ids     = set(user_act.loc[mask_enter,    'user_id'])\n",
    "invalid_ids   = complete_ids - enter_ids"
   ]
  },
  {
   "cell_type": "code",
   "execution_count": 31,
   "id": "2f98e6e6",
   "metadata": {},
   "outputs": [],
   "source": [
    "# invalid_ids 사용자들의 첫 complete.lesson 시점 계산\n",
    "first_complete = (user_act[mask_complete]\n",
    "                  .groupby('user_id')['client_event_time']\n",
    "                  .min()\n",
    "                  .rename('first_complete_time')\n",
    "                  .to_frame())"
   ]
  },
  {
   "cell_type": "code",
   "execution_count": 32,
   "id": "1be137e0",
   "metadata": {},
   "outputs": [],
   "source": [
    "# merge 해서 각 행에 붙이기\n",
    "user_act = user_act.merge(first_complete, how='left', on='user_id')\n",
    "\n",
    "# invalid_ids에 대해 aha_moment, is_aha_moment 업데이트\n",
    "mask_invalid = user_act['user_id'].isin(invalid_ids)\n",
    "user_act.loc[mask_invalid, 'aha_moment']     = user_act.loc[mask_invalid, 'first_complete_time']\n",
    "user_act.loc[mask_invalid, 'is_aha_moment']  = 1\n",
    "\n",
    "# 보조 컬럼 삭제\n",
    "user_act.drop(columns=['first_complete_time'], inplace=True)"
   ]
  },
  {
   "cell_type": "code",
   "execution_count": 33,
   "id": "490c78fc",
   "metadata": {},
   "outputs": [
    {
     "data": {
      "text/plain": [
       "54653"
      ]
     },
     "execution_count": 33,
     "metadata": {},
     "output_type": "execute_result"
    }
   ],
   "source": [
    "user_act[user_act['is_aha_moment'] == 0]['user_id'].nunique() # 아하 모먼트를 느끼지 않은 사람들 "
   ]
  },
  {
   "cell_type": "code",
   "execution_count": 34,
   "id": "fc651c1b",
   "metadata": {},
   "outputs": [
    {
     "data": {
      "text/plain": [
       "90480"
      ]
     },
     "execution_count": 34,
     "metadata": {},
     "output_type": "execute_result"
    }
   ],
   "source": [
    "user_act[user_act['is_aha_moment'] == 1]['user_id'].nunique() # 아하 모먼트를 느낀 사람들"
   ]
  },
  {
   "cell_type": "code",
   "execution_count": 35,
   "id": "16ed6c76",
   "metadata": {},
   "outputs": [],
   "source": [
    "user_info.to_csv('user_info.csv', index=False) # csv 파일로 저장"
   ]
  },
  {
   "cell_type": "markdown",
   "id": "53eaf36a",
   "metadata": {},
   "source": [
    "# 5. 퍼널 분석"
   ]
  },
  {
   "cell_type": "markdown",
   "id": "2772d8d4",
   "metadata": {},
   "source": [
    "### 5.1 퍼널 설정\n"
   ]
  },
  {
   "cell_type": "markdown",
   "id": "beb33093",
   "metadata": {},
   "source": [
    "22년 1월 1일 이후 회원가입 (complete_signup) → 레슨을 1개라도 수강 (enter.lesson_page)한 사람 →  레슨을 완료한 사람 → 결제로 이어진 사람"
   ]
  },
  {
   "cell_type": "code",
   "execution_count": 36,
   "id": "592d9747",
   "metadata": {},
   "outputs": [
    {
     "name": "stdout",
     "output_type": "stream",
     "text": [
      "1) 가입(2022-01-01 이후): 145133\n",
      "2) 레슨 시작: 89724\n",
      "3) 레슨 완료: 30789\n",
      "4) 결제 완료: 11226\n"
     ]
    }
   ],
   "source": [
    "# 2022-01-01 이후 가입한 유저\n",
    "signup_df = complete_signup[complete_signup['client_event_time'] >= '2022-01-01']\n",
    "signup_users = set(signup_df['user_id'].unique())\n",
    "print(\"1) 가입(2022-01-01 이후):\", len(signup_users))\n",
    "\n",
    "# 레슨을 1개 이상 시작한 유저\n",
    "enter_df = enter_lesson[enter_lesson['user_id'].isin(signup_users)]\n",
    "enter_users = set(enter_df['user_id'].unique())\n",
    "print(\"2) 레슨 시작:\", len(enter_users))\n",
    "\n",
    "# 레슨을 완료한 유저\n",
    "comp_lesson_df = complete_lesson[complete_lesson['user_id'].isin(enter_users)]\n",
    "comp_lesson_users = set(comp_lesson_df['user_id'].unique())\n",
    "print(\"3) 레슨 완료:\", len(comp_lesson_users))\n",
    "\n",
    "# 결제(첫 구독)까지 이어진 유저\n",
    "subs_df = complete_subscription[complete_subscription['user_id'].isin(comp_lesson_users)]\n",
    "subs_users = set(subs_df['user_id'].unique())\n",
    "print(\"4) 결제 완료:\", len(subs_users))"
   ]
  },
  {
   "cell_type": "code",
   "execution_count": 37,
   "id": "7dafb536",
   "metadata": {},
   "outputs": [
    {
     "data": {
      "application/vnd.plotly.v1+json": {
       "config": {
        "plotlyServerURL": "https://plot.ly"
       },
       "data": [
        {
         "hovertemplate": "unique_users=%{x}<br>stage=%{y}<extra></extra>",
         "legendgroup": "",
         "marker": {
          "color": "#636efa"
         },
         "name": "",
         "orientation": "h",
         "showlegend": false,
         "type": "funnel",
         "x": {
          "bdata": "7TYCAHxeAQBFeAAA2isAAA==",
          "dtype": "i4"
         },
         "xaxis": "x",
         "y": [
          "회원 가입 완료",
          "레슨 수강",
          "레슨 수강 완료",
          "구독 완료"
         ],
         "yaxis": "y"
        }
       ],
       "layout": {
        "legend": {
         "tracegroupgap": 0
        },
        "template": {
         "data": {
          "bar": [
           {
            "error_x": {
             "color": "#2a3f5f"
            },
            "error_y": {
             "color": "#2a3f5f"
            },
            "marker": {
             "line": {
              "color": "#E5ECF6",
              "width": 0.5
             },
             "pattern": {
              "fillmode": "overlay",
              "size": 10,
              "solidity": 0.2
             }
            },
            "type": "bar"
           }
          ],
          "barpolar": [
           {
            "marker": {
             "line": {
              "color": "#E5ECF6",
              "width": 0.5
             },
             "pattern": {
              "fillmode": "overlay",
              "size": 10,
              "solidity": 0.2
             }
            },
            "type": "barpolar"
           }
          ],
          "carpet": [
           {
            "aaxis": {
             "endlinecolor": "#2a3f5f",
             "gridcolor": "white",
             "linecolor": "white",
             "minorgridcolor": "white",
             "startlinecolor": "#2a3f5f"
            },
            "baxis": {
             "endlinecolor": "#2a3f5f",
             "gridcolor": "white",
             "linecolor": "white",
             "minorgridcolor": "white",
             "startlinecolor": "#2a3f5f"
            },
            "type": "carpet"
           }
          ],
          "choropleth": [
           {
            "colorbar": {
             "outlinewidth": 0,
             "ticks": ""
            },
            "type": "choropleth"
           }
          ],
          "contour": [
           {
            "colorbar": {
             "outlinewidth": 0,
             "ticks": ""
            },
            "colorscale": [
             [
              0,
              "#0d0887"
             ],
             [
              0.1111111111111111,
              "#46039f"
             ],
             [
              0.2222222222222222,
              "#7201a8"
             ],
             [
              0.3333333333333333,
              "#9c179e"
             ],
             [
              0.4444444444444444,
              "#bd3786"
             ],
             [
              0.5555555555555556,
              "#d8576b"
             ],
             [
              0.6666666666666666,
              "#ed7953"
             ],
             [
              0.7777777777777778,
              "#fb9f3a"
             ],
             [
              0.8888888888888888,
              "#fdca26"
             ],
             [
              1,
              "#f0f921"
             ]
            ],
            "type": "contour"
           }
          ],
          "contourcarpet": [
           {
            "colorbar": {
             "outlinewidth": 0,
             "ticks": ""
            },
            "type": "contourcarpet"
           }
          ],
          "heatmap": [
           {
            "colorbar": {
             "outlinewidth": 0,
             "ticks": ""
            },
            "colorscale": [
             [
              0,
              "#0d0887"
             ],
             [
              0.1111111111111111,
              "#46039f"
             ],
             [
              0.2222222222222222,
              "#7201a8"
             ],
             [
              0.3333333333333333,
              "#9c179e"
             ],
             [
              0.4444444444444444,
              "#bd3786"
             ],
             [
              0.5555555555555556,
              "#d8576b"
             ],
             [
              0.6666666666666666,
              "#ed7953"
             ],
             [
              0.7777777777777778,
              "#fb9f3a"
             ],
             [
              0.8888888888888888,
              "#fdca26"
             ],
             [
              1,
              "#f0f921"
             ]
            ],
            "type": "heatmap"
           }
          ],
          "histogram": [
           {
            "marker": {
             "pattern": {
              "fillmode": "overlay",
              "size": 10,
              "solidity": 0.2
             }
            },
            "type": "histogram"
           }
          ],
          "histogram2d": [
           {
            "colorbar": {
             "outlinewidth": 0,
             "ticks": ""
            },
            "colorscale": [
             [
              0,
              "#0d0887"
             ],
             [
              0.1111111111111111,
              "#46039f"
             ],
             [
              0.2222222222222222,
              "#7201a8"
             ],
             [
              0.3333333333333333,
              "#9c179e"
             ],
             [
              0.4444444444444444,
              "#bd3786"
             ],
             [
              0.5555555555555556,
              "#d8576b"
             ],
             [
              0.6666666666666666,
              "#ed7953"
             ],
             [
              0.7777777777777778,
              "#fb9f3a"
             ],
             [
              0.8888888888888888,
              "#fdca26"
             ],
             [
              1,
              "#f0f921"
             ]
            ],
            "type": "histogram2d"
           }
          ],
          "histogram2dcontour": [
           {
            "colorbar": {
             "outlinewidth": 0,
             "ticks": ""
            },
            "colorscale": [
             [
              0,
              "#0d0887"
             ],
             [
              0.1111111111111111,
              "#46039f"
             ],
             [
              0.2222222222222222,
              "#7201a8"
             ],
             [
              0.3333333333333333,
              "#9c179e"
             ],
             [
              0.4444444444444444,
              "#bd3786"
             ],
             [
              0.5555555555555556,
              "#d8576b"
             ],
             [
              0.6666666666666666,
              "#ed7953"
             ],
             [
              0.7777777777777778,
              "#fb9f3a"
             ],
             [
              0.8888888888888888,
              "#fdca26"
             ],
             [
              1,
              "#f0f921"
             ]
            ],
            "type": "histogram2dcontour"
           }
          ],
          "mesh3d": [
           {
            "colorbar": {
             "outlinewidth": 0,
             "ticks": ""
            },
            "type": "mesh3d"
           }
          ],
          "parcoords": [
           {
            "line": {
             "colorbar": {
              "outlinewidth": 0,
              "ticks": ""
             }
            },
            "type": "parcoords"
           }
          ],
          "pie": [
           {
            "automargin": true,
            "type": "pie"
           }
          ],
          "scatter": [
           {
            "fillpattern": {
             "fillmode": "overlay",
             "size": 10,
             "solidity": 0.2
            },
            "type": "scatter"
           }
          ],
          "scatter3d": [
           {
            "line": {
             "colorbar": {
              "outlinewidth": 0,
              "ticks": ""
             }
            },
            "marker": {
             "colorbar": {
              "outlinewidth": 0,
              "ticks": ""
             }
            },
            "type": "scatter3d"
           }
          ],
          "scattercarpet": [
           {
            "marker": {
             "colorbar": {
              "outlinewidth": 0,
              "ticks": ""
             }
            },
            "type": "scattercarpet"
           }
          ],
          "scattergeo": [
           {
            "marker": {
             "colorbar": {
              "outlinewidth": 0,
              "ticks": ""
             }
            },
            "type": "scattergeo"
           }
          ],
          "scattergl": [
           {
            "marker": {
             "colorbar": {
              "outlinewidth": 0,
              "ticks": ""
             }
            },
            "type": "scattergl"
           }
          ],
          "scattermap": [
           {
            "marker": {
             "colorbar": {
              "outlinewidth": 0,
              "ticks": ""
             }
            },
            "type": "scattermap"
           }
          ],
          "scattermapbox": [
           {
            "marker": {
             "colorbar": {
              "outlinewidth": 0,
              "ticks": ""
             }
            },
            "type": "scattermapbox"
           }
          ],
          "scatterpolar": [
           {
            "marker": {
             "colorbar": {
              "outlinewidth": 0,
              "ticks": ""
             }
            },
            "type": "scatterpolar"
           }
          ],
          "scatterpolargl": [
           {
            "marker": {
             "colorbar": {
              "outlinewidth": 0,
              "ticks": ""
             }
            },
            "type": "scatterpolargl"
           }
          ],
          "scatterternary": [
           {
            "marker": {
             "colorbar": {
              "outlinewidth": 0,
              "ticks": ""
             }
            },
            "type": "scatterternary"
           }
          ],
          "surface": [
           {
            "colorbar": {
             "outlinewidth": 0,
             "ticks": ""
            },
            "colorscale": [
             [
              0,
              "#0d0887"
             ],
             [
              0.1111111111111111,
              "#46039f"
             ],
             [
              0.2222222222222222,
              "#7201a8"
             ],
             [
              0.3333333333333333,
              "#9c179e"
             ],
             [
              0.4444444444444444,
              "#bd3786"
             ],
             [
              0.5555555555555556,
              "#d8576b"
             ],
             [
              0.6666666666666666,
              "#ed7953"
             ],
             [
              0.7777777777777778,
              "#fb9f3a"
             ],
             [
              0.8888888888888888,
              "#fdca26"
             ],
             [
              1,
              "#f0f921"
             ]
            ],
            "type": "surface"
           }
          ],
          "table": [
           {
            "cells": {
             "fill": {
              "color": "#EBF0F8"
             },
             "line": {
              "color": "white"
             }
            },
            "header": {
             "fill": {
              "color": "#C8D4E3"
             },
             "line": {
              "color": "white"
             }
            },
            "type": "table"
           }
          ]
         },
         "layout": {
          "annotationdefaults": {
           "arrowcolor": "#2a3f5f",
           "arrowhead": 0,
           "arrowwidth": 1
          },
          "autotypenumbers": "strict",
          "coloraxis": {
           "colorbar": {
            "outlinewidth": 0,
            "ticks": ""
           }
          },
          "colorscale": {
           "diverging": [
            [
             0,
             "#8e0152"
            ],
            [
             0.1,
             "#c51b7d"
            ],
            [
             0.2,
             "#de77ae"
            ],
            [
             0.3,
             "#f1b6da"
            ],
            [
             0.4,
             "#fde0ef"
            ],
            [
             0.5,
             "#f7f7f7"
            ],
            [
             0.6,
             "#e6f5d0"
            ],
            [
             0.7,
             "#b8e186"
            ],
            [
             0.8,
             "#7fbc41"
            ],
            [
             0.9,
             "#4d9221"
            ],
            [
             1,
             "#276419"
            ]
           ],
           "sequential": [
            [
             0,
             "#0d0887"
            ],
            [
             0.1111111111111111,
             "#46039f"
            ],
            [
             0.2222222222222222,
             "#7201a8"
            ],
            [
             0.3333333333333333,
             "#9c179e"
            ],
            [
             0.4444444444444444,
             "#bd3786"
            ],
            [
             0.5555555555555556,
             "#d8576b"
            ],
            [
             0.6666666666666666,
             "#ed7953"
            ],
            [
             0.7777777777777778,
             "#fb9f3a"
            ],
            [
             0.8888888888888888,
             "#fdca26"
            ],
            [
             1,
             "#f0f921"
            ]
           ],
           "sequentialminus": [
            [
             0,
             "#0d0887"
            ],
            [
             0.1111111111111111,
             "#46039f"
            ],
            [
             0.2222222222222222,
             "#7201a8"
            ],
            [
             0.3333333333333333,
             "#9c179e"
            ],
            [
             0.4444444444444444,
             "#bd3786"
            ],
            [
             0.5555555555555556,
             "#d8576b"
            ],
            [
             0.6666666666666666,
             "#ed7953"
            ],
            [
             0.7777777777777778,
             "#fb9f3a"
            ],
            [
             0.8888888888888888,
             "#fdca26"
            ],
            [
             1,
             "#f0f921"
            ]
           ]
          },
          "colorway": [
           "#636efa",
           "#EF553B",
           "#00cc96",
           "#ab63fa",
           "#FFA15A",
           "#19d3f3",
           "#FF6692",
           "#B6E880",
           "#FF97FF",
           "#FECB52"
          ],
          "font": {
           "color": "#2a3f5f"
          },
          "geo": {
           "bgcolor": "white",
           "lakecolor": "white",
           "landcolor": "#E5ECF6",
           "showlakes": true,
           "showland": true,
           "subunitcolor": "white"
          },
          "hoverlabel": {
           "align": "left"
          },
          "hovermode": "closest",
          "mapbox": {
           "style": "light"
          },
          "paper_bgcolor": "white",
          "plot_bgcolor": "#E5ECF6",
          "polar": {
           "angularaxis": {
            "gridcolor": "white",
            "linecolor": "white",
            "ticks": ""
           },
           "bgcolor": "#E5ECF6",
           "radialaxis": {
            "gridcolor": "white",
            "linecolor": "white",
            "ticks": ""
           }
          },
          "scene": {
           "xaxis": {
            "backgroundcolor": "#E5ECF6",
            "gridcolor": "white",
            "gridwidth": 2,
            "linecolor": "white",
            "showbackground": true,
            "ticks": "",
            "zerolinecolor": "white"
           },
           "yaxis": {
            "backgroundcolor": "#E5ECF6",
            "gridcolor": "white",
            "gridwidth": 2,
            "linecolor": "white",
            "showbackground": true,
            "ticks": "",
            "zerolinecolor": "white"
           },
           "zaxis": {
            "backgroundcolor": "#E5ECF6",
            "gridcolor": "white",
            "gridwidth": 2,
            "linecolor": "white",
            "showbackground": true,
            "ticks": "",
            "zerolinecolor": "white"
           }
          },
          "shapedefaults": {
           "line": {
            "color": "#2a3f5f"
           }
          },
          "ternary": {
           "aaxis": {
            "gridcolor": "white",
            "linecolor": "white",
            "ticks": ""
           },
           "baxis": {
            "gridcolor": "white",
            "linecolor": "white",
            "ticks": ""
           },
           "bgcolor": "#E5ECF6",
           "caxis": {
            "gridcolor": "white",
            "linecolor": "white",
            "ticks": ""
           }
          },
          "title": {
           "x": 0.05
          },
          "xaxis": {
           "automargin": true,
           "gridcolor": "white",
           "linecolor": "white",
           "ticks": "",
           "title": {
            "standoff": 15
           },
           "zerolinecolor": "white",
           "zerolinewidth": 2
          },
          "yaxis": {
           "automargin": true,
           "gridcolor": "white",
           "linecolor": "white",
           "ticks": "",
           "title": {
            "standoff": 15
           },
           "zerolinecolor": "white",
           "zerolinewidth": 2
          }
         }
        },
        "title": {
         "text": "전환 퍼널 차트"
        },
        "xaxis": {
         "anchor": "y",
         "domain": [
          0,
          1
         ],
         "title": {
          "text": "unique_users"
         }
        },
        "yaxis": {
         "anchor": "x",
         "domain": [
          0,
          1
         ],
         "title": {
          "text": "stage"
         }
        }
       }
      }
     },
     "metadata": {},
     "output_type": "display_data"
    }
   ],
   "source": [
    "# 퍼널 DataFrame 생성\n",
    "funnel = pd.DataFrame({\n",
    "    'stage': ['회원 가입 완료', '레슨 수강', '레슨 수강 완료', '구독 완료'],\n",
    "    'unique_users': [\n",
    "        len(signup_users),\n",
    "        len(enter_users),\n",
    "        len(comp_lesson_users),\n",
    "        len(subs_users)\n",
    "    ]\n",
    "})\n",
    "\n",
    "# Plotly로 퍼널 차트 그리기\n",
    "import plotly.express as px\n",
    "\n",
    "fig = px.funnel(\n",
    "    funnel,\n",
    "    x='unique_users',\n",
    "    y='stage',\n",
    "    title='전환 퍼널 차트'\n",
    ")\n",
    "fig.show()"
   ]
  },
  {
   "cell_type": "markdown",
   "id": "81e71662",
   "metadata": {},
   "source": [
    "가장 큰 전환 장벽은 “레슨 수강 → 레슨 수강 완료” 구간으로, 레슨을 시작한 사용자 중 2/3가 중도 이탈하는 지점. </br>\n",
    "최종 구독까지 이어지는 사용자 비율은 매우 낮으므로, 레슨 완료율을 높이는 것이 전체 구독 전환율 개선의 핵심이 될 것으로 보임."
   ]
  },
  {
   "cell_type": "markdown",
   "id": "bc0b13a2",
   "metadata": {},
   "source": [
    "# 6. 탐색적 자료분석"
   ]
  },
  {
   "cell_type": "markdown",
   "id": "72b8f9a1",
   "metadata": {},
   "source": [
    "### 6.1 코호트별 리텐션 분석"
   ]
  },
  {
   "cell_type": "markdown",
   "id": "959908c0",
   "metadata": {},
   "source": [
    "6.1.1 코호트별 단순 월별 리텐션 분석"
   ]
  },
  {
   "cell_type": "code",
   "execution_count": 38,
   "id": "5cec9584",
   "metadata": {},
   "outputs": [
    {
     "data": {
      "image/png": "[encoded data removed]",
      "text/plain": [
       "<Figure size 1200x800 with 2 Axes>"
      ]
     },
     "metadata": {},
     "output_type": "display_data"
    }
   ],
   "source": [
    "import pandas as pd\n",
    "import matplotlib.pyplot as plt\n",
    "import seaborn as sns\n",
    "\n",
    "# datetime 변환 & 개월 차 계산\n",
    "user_act['client_event_time'] = pd.to_datetime(user_act['client_event_time'])\n",
    "user_act['signup_month']      = pd.to_datetime(user_act['signup_cohort'].astype(str) + '-01')\n",
    "user_act['months_since_signup'] = (\n",
    "      (user_act['client_event_time'].dt.year  - user_act['signup_month'].dt.year) * 12\n",
    "    + (user_act['client_event_time'].dt.month - user_act['signup_month'].dt.month)\n",
    ")\n",
    "\n",
    "# 가입 이전(음수 개월 차) 제거\n",
    "user_act = user_act[user_act['months_since_signup'] >= 0]\n",
    "\n",
    "# 중복 제거 & 활성 유저 집계\n",
    "cohort_month = (\n",
    "    user_act\n",
    "    .loc[:, ['user_id','signup_cohort','months_since_signup']]\n",
    "    .drop_duplicates()\n",
    "    .groupby(['signup_cohort','months_since_signup'])\n",
    "    .size()\n",
    "    .reset_index(name='active_users')\n",
    ")\n",
    "\n",
    "# 피벗 & 0개월 차 기준 리텐션 계산\n",
    "pivot = (\n",
    "    cohort_month\n",
    "    .pivot(index='signup_cohort', columns='months_since_signup', values='active_users')\n",
    "    .fillna(0)\n",
    "    .sort_index(axis=1)   # 개월 차 오름차순\n",
    "    .sort_index()         # 코호트 오름차순\n",
    ")\n",
    "\n",
    "retention = pivot.div(pivot[0], axis=0) * 100  # 0개월 차 분모, % 단위\n",
    "\n",
    "# 히트맵 그리기\n",
    "plt.figure(figsize=(12, 8))\n",
    "sns.heatmap(\n",
    "    retention,\n",
    "    annot=True,\n",
    "    fmt='.1f',\n",
    "    cmap='Blues',\n",
    "    cbar_kws={'label':'Retention Rate (%)'},\n",
    "    linewidths=0.5,\n",
    "    linecolor='white'\n",
    ")\n",
    "\n",
    "plt.title('월별 코호트 리텐션 히트맵 (%)', fontsize=14)\n",
    "plt.xlabel('가입 후 N개월차', fontsize=12)\n",
    "plt.ylabel('가입 코호트 (YYYY-MM)', fontsize=12)\n",
    "plt.yticks(rotation=0)\n",
    "plt.tight_layout()\n",
    "plt.show()\n"
   ]
  },
  {
   "cell_type": "markdown",
   "id": "0d9fbc9f",
   "metadata": {},
   "source": [
    "대체로 많은 사용자들이 1개월 이내에 이탈하는 경향이 뚜렷히 보이나, 2022년 11월 코호트에는 비교적 높은 잔존율을 보였음."
   ]
  },
  {
   "cell_type": "markdown",
   "id": "edf678c9",
   "metadata": {},
   "source": [
    "6.1.2 코호트별 롤링 리텐션 분석"
   ]
  },
  {
   "cell_type": "code",
   "execution_count": 69,
   "id": "022e950f",
   "metadata": {},
   "outputs": [
    {
     "data": {
      "image/png": "[encoded data removed]",
      "text/plain": [
       "<Figure size 1000x800 with 2 Axes>"
      ]
     },
     "metadata": {},
     "output_type": "display_data"
    }
   ],
   "source": [
    "import pandas as pd\n",
    "import matplotlib.pyplot as plt\n",
    "import seaborn as sns\n",
    "\n",
    "# 유저별 최대 lasting_day (가입 후 마지막 활동일까지) 요약\n",
    "user_max = (\n",
    "    user_act\n",
    "    .groupby(['user_id','signup_cohort'], as_index=False)['lasting_day']\n",
    "    .max()\n",
    ")\n",
    "\n",
    "#  코호트별 가입자 수\n",
    "cohort_sizes = (\n",
    "    user_max\n",
    "    .groupby('signup_cohort')['user_id']\n",
    "    .nunique()\n",
    ")\n",
    "\n",
    "# N일째까지 살아남은 사용자 수 계산\n",
    "Ns = [0, 1, 7, 14, 28]\n",
    "records = []\n",
    "for cohort, total in cohort_sizes.items():\n",
    "    df_cohort = user_max[user_max['signup_cohort'] == cohort]\n",
    "    for N in Ns:\n",
    "        survived = (df_cohort['lasting_day'] >= N).sum()\n",
    "        pct = survived / total * 100\n",
    "        records.append({\n",
    "            'signup_cohort': cohort,\n",
    "            'day': N,\n",
    "            'retention_pct': pct\n",
    "        })\n",
    "\n",
    "ret_df = (\n",
    "    pd.DataFrame(records)\n",
    "      .pivot(index='signup_cohort', columns='day', values='retention_pct')\n",
    "      .sort_index(axis=0)   # 코호트 오름차순\n",
    "      .sort_index(axis=1)   # day 오름차순\n",
    ")\n",
    "\n",
    "# 히트맵 그리기\n",
    "plt.figure(figsize=(10, 8))\n",
    "sns.heatmap(\n",
    "    ret_df,\n",
    "    annot=True,\n",
    "    fmt='.1f',\n",
    "    cmap='Blues',\n",
    "    cbar_kws={'label':'Rolling Retention (%)'},\n",
    "    linewidths=0.5,\n",
    "    linecolor='white'\n",
    ")\n",
    "plt.title('롤링 리텐션 히트맵 (%)', fontsize=14)\n",
    "plt.xlabel('가입 후 N일째 생존율', fontsize=12)\n",
    "plt.ylabel('가입 코호트', fontsize=12)\n",
    "plt.xticks(rotation=0)\n",
    "plt.yticks(rotation=0)\n",
    "plt.tight_layout()\n",
    "plt.show()\n"
   ]
  },
  {
   "cell_type": "markdown",
   "id": "bde875ed",
   "metadata": {},
   "source": [
    "월별 리텐션이 아닌 한달 이내의 롤링 리텐션을 살펴보았다. </br>\n",
    "대부분의 사용자들은 0일차에 이탈하는 경향을 보였다. 그렇기 때문에 세부 세그먼트를 분류하여 0일차에 이탈한 사용자들에 대해 분석하고자 한다."
   ]
  },
  {
   "cell_type": "markdown",
   "id": "5ad6ea9d",
   "metadata": {},
   "source": [
    "### 6.2 세그먼트 별 분석"
   ]
  },
  {
   "cell_type": "markdown",
   "id": "528c47a3",
   "metadata": {},
   "source": [
    "세그먼트 1: 아하 모먼트를 느끼고 그 다음날 재방문한 사용자 -> 1일차 재방문 사용자 </br>\n",
    "세그먼트 2: 그렇지 않은 사용자 -> 0일차 이탈 사용자"
   ]
  },
  {
   "cell_type": "markdown",
   "id": "235d2690",
   "metadata": {},
   "source": [
    "6.2.1 세그먼트 별 리텐션 비교"
   ]
  },
  {
   "cell_type": "code",
   "execution_count": 40,
   "id": "cc47dff9",
   "metadata": {},
   "outputs": [
    {
     "data": {
      "image/png": "[encoded data removed]",
      "text/plain": [
       "<Figure size 800x500 with 1 Axes>"
      ]
     },
     "metadata": {},
     "output_type": "display_data"
    }
   ],
   "source": [
    "# 유저별 아하 모먼트 시각(최초) 추출\n",
    "aha_times = (\n",
    "    user_act\n",
    "    .dropna(subset=['aha_moment'])\n",
    "    .sort_values('aha_moment')\n",
    "    .drop_duplicates('user_id')\n",
    "    .loc[:, ['user_id','signup_cohort','aha_moment']]\n",
    "    .rename(columns={'aha_moment':'aha_time'})\n",
    ")\n",
    "aha_times['aha_date'] = pd.to_datetime(aha_times['aha_time']).dt.normalize()\n",
    "\n",
    "# 전체 이벤트에 아하 정보 병합\n",
    "events = (\n",
    "    user_act\n",
    "    .loc[:, ['user_id','client_event_time']]\n",
    "    .assign(client_event_time=lambda d: pd.to_datetime(d['client_event_time']))\n",
    "    .merge(aha_times[['user_id','signup_cohort','aha_date']], on='user_id', how='inner')\n",
    ")\n",
    "\n",
    "# 아하 모먼트 기준 “며칠 차” 계산\n",
    "events['days_since_aha'] = (\n",
    "    events['client_event_time'].dt.normalize()\n",
    "  - events['aha_date']\n",
    ").dt.days\n",
    "\n",
    "# 그룹 나누기: 아하 다음 날(1일 차)에 최소 한 번 오면 A, 아니면 B\n",
    "next_day_users = (\n",
    "    events.loc[events['days_since_aha']==1, 'user_id']\n",
    "    .unique()\n",
    ")\n",
    "# 유저별 최대 days_since_aha 요약\n",
    "aha_user_max = (\n",
    "    events\n",
    "    .groupby(['user_id','signup_cohort'], as_index=False)['days_since_aha']\n",
    "    .max()\n",
    ")\n",
    "aha_user_max['next_day_flag'] = aha_user_max['user_id'].isin(next_day_users)\n",
    "\n",
    "# 롤링 리텐션 계산: N일째까지 살아남은 비율(%)  \n",
    "Ns = [7, 15, 30, 60, 90]\n",
    "records = []\n",
    "for flag, grp in aha_user_max.groupby('next_day_flag'):\n",
    "    total = len(grp)\n",
    "    for N in Ns:\n",
    "        survived = (grp['days_since_aha'] >= N).sum()\n",
    "        records.append({\n",
    "            'next_day_flag': flag,\n",
    "            'days_since_aha': N,\n",
    "            'retention_pct': survived / total * 100\n",
    "        })\n",
    "\n",
    "ret_df = (\n",
    "    pd.DataFrame(records)\n",
    "      .pivot(index='days_since_aha', columns='next_day_flag', values='retention_pct')\n",
    "      .sort_index()\n",
    ")\n",
    "\n",
    "# 결과 시각화\n",
    "plt.figure(figsize=(8,5))\n",
    "for flag, label in [(True, '아하 다음날 재방문'), (False, '미재방문')]:\n",
    "    plt.plot(ret_df.index,\n",
    "             ret_df[flag],\n",
    "             marker='o',\n",
    "             label=label)\n",
    "\n",
    "plt.title('아하 모먼트 다음날 재방문 여부에 따른 롤링 리텐션')\n",
    "plt.xlabel('아하 모먼트 이후 N일째 생존율 (%)')\n",
    "plt.ylabel('롤링 리텐션 (%)')\n",
    "plt.xticks(Ns)\n",
    "plt.legend()\n",
    "plt.grid(alpha=0.3, linestyle='--')\n",
    "plt.tight_layout()\n",
    "plt.show()"
   ]
  },
  {
   "cell_type": "markdown",
   "id": "07eaaaac",
   "metadata": {},
   "source": [
    "6.2.2 세그먼트 별 결제 전환 비교"
   ]
  },
  {
   "cell_type": "code",
   "execution_count": 41,
   "id": "85592757",
   "metadata": {},
   "outputs": [],
   "source": [
    "df = user_act.copy()\n",
    "df['client_event_time'] = pd.to_datetime(df['client_event_time'])\n",
    "\n",
    "# Aha 모먼트 시각 정의: enter.lesson_page OR complete.lesson 중 최초 \n",
    "aha_times = (\n",
    "    df[df['event_type'].isin(['enter.lesson_page', 'complete.lesson'])]\n",
    "      .sort_values('client_event_time')\n",
    "      .drop_duplicates('user_id')\n",
    "      .loc[:, ['user_id','signup_cohort','client_event_time']]\n",
    "      .rename(columns={'client_event_time':'aha_time'})\n",
    ")\n",
    "\n",
    "# Aha 다음날 재방문 여부 플래그 \n",
    "visits = (\n",
    "    df[['user_id','client_event_time']]\n",
    "      .merge(aha_times, on='user_id', how='inner')\n",
    ")\n",
    "visits['days_since_aha'] = (visits['client_event_time'] - visits['aha_time']).dt.days\n",
    "# Aha 당일 이벤트도 있으니 >=1로 필터\n",
    "next_day_users = visits.loc[visits['days_since_aha']==1, 'user_id'].unique()\n",
    "\n",
    "# 결제 플래그 \n",
    "payment_users = df.loc[df['event_type']=='complete.subscription', 'user_id'].unique()\n",
    "\n",
    "#  사용자별 플래그 테이블 생성 \n",
    "user_flag = pd.DataFrame({'user_id': aha_times['user_id']})\n",
    "user_flag['next_day_return'] = user_flag['user_id'].isin(next_day_users)\n",
    "user_flag['payment_flag']    = user_flag['user_id'].isin(payment_users)\n",
    "\n",
    "# 그룹별 결제 전환율 \n",
    "conv = (\n",
    "    user_flag\n",
    "      .groupby('next_day_return')['payment_flag']\n",
    "      .agg(total_users='count', payers='sum')\n",
    "      .reset_index()\n",
    ")\n",
    "conv['conversion_rate'] = conv['payers'] / conv['total_users'] * 100\n",
    "conv\n",
    "\n",
    "#  결제까지 걸린 일수 비교\n",
    "pay = (\n",
    "    df[df['event_type']=='complete.subscription']\n",
    "      .drop_duplicates('user_id')\n",
    "      .loc[:, ['user_id','client_event_time']]\n",
    "      .rename(columns={'client_event_time':'payment_time'})\n",
    ")\n",
    "df_pay = (\n",
    "    aha_times[['user_id','aha_time']]\n",
    "      .merge(pay, on='user_id', how='inner')\n",
    ")\n",
    "df_pay['days_to_pay'] = (pd.to_datetime(df_pay['payment_time']) - pd.to_datetime(df_pay['aha_time'])).dt.days\n",
    "df_pay['next_day_return'] = df_pay['user_id'].isin(next_day_users)\n",
    "\n",
    "stats_days = df_pay.groupby('next_day_return')['days_to_pay'] \\\n",
    "    .agg(count='count', mean='mean', median='median') \\\n",
    "    .reset_index()\n"
   ]
  },
  {
   "cell_type": "code",
   "execution_count": 42,
   "id": "24c79b63",
   "metadata": {},
   "outputs": [
    {
     "name": "stderr",
     "output_type": "stream",
     "text": [
      "C:\\Users\\Yoo\\AppData\\Local\\Temp\\ipykernel_145472\\4130724526.py:2: FutureWarning:\n",
      "\n",
      "\n",
      "\n",
      "Passing `palette` without assigning `hue` is deprecated and will be removed in v0.14.0. Assign the `x` variable to `hue` and set `legend=False` for the same effect.\n",
      "\n",
      "\n"
     ]
    },
    {
     "data": {
      "image/png": "[encoded data removed]",
      "text/plain": [
       "<Figure size 600x400 with 1 Axes>"
      ]
     },
     "metadata": {},
     "output_type": "display_data"
    }
   ],
   "source": [
    "plt.figure(figsize=(6, 4))\n",
    "sns.barplot(\n",
    "    x='next_day_return', \n",
    "    y='conversion_rate', \n",
    "    data=conv, \n",
    "    palette=['lightgray', 'skyblue']\n",
    ")\n",
    "plt.title('아하 다음날 재방문 여부별 결제 전환율')\n",
    "plt.xlabel('아하 다음날 재방문 여부')\n",
    "plt.ylabel('결제 전환율 (%)')\n",
    "plt.xticks([0, 1], ['미재방문', '재방문'])\n",
    "plt.ylim(0, conv['conversion_rate'].max() * 1.1)\n",
    "plt.tight_layout()\n",
    "plt.show()"
   ]
  },
  {
   "cell_type": "markdown",
   "id": "62c87489",
   "metadata": {},
   "source": [
    "- 결제 전환률\n",
    "\n",
    "|    재방문 여부    | 전체 사용자 수 | 결제 사용자 수 | 결제 전환율 (%) |\n",
    "| :----------: | -------: | -------: | ---------: |\n",
    "| 미재방문 (False) |   78,293 |    6,276 |      8.02% |\n",
    "| 재방문   (True) |   12,187 |    5,787 |     47.49% |\n"
   ]
  },
  {
   "cell_type": "markdown",
   "id": "209b0544",
   "metadata": {},
   "source": [
    "재방문 그룹은 약 47.5%가 결제하는 반면, 비재방문 그룹은 불과 8.0%만 결제하는 경향을 확인했음. \n",
    "\n",
    "즉, “아하를 느낀 후 하루 만에 돌아오는” 사용자는 그렇지 않은 사용자 대비 결제 확률이 거의 6배 높다고 확인 할 수 있었다."
   ]
  },
  {
   "cell_type": "markdown",
   "id": "7212a967",
   "metadata": {},
   "source": [
    "- 결제까지 소요 기간\n",
    "\n",
    "|    재방문 여부    | 결제 사용자 수 | 평균 결제 소요일수 | 중앙값 결제 소요일수 |\n",
    "| :----------: | -------: | ---------: | ----------: |\n",
    "| 미재방문 (False) |    6,276 |     21.85일 |        0.0일 |\n",
    "| 재방문   (True) |    5,787 |      4.10일 |        0.0일 |\n"
   ]
  },
  {
   "cell_type": "markdown",
   "id": "626351ab",
   "metadata": {},
   "source": [
    "평균 결제까지 걸린 시간이 미재방문 그룹은 약 21.8일, 재방문 그룹은 약 4.1일로 약 5배 이상 빠르게 결제로 이어지는 것을 확인하였다.\n",
    "중앙값이 0일인 것은, 상당수가 “아하 당일” 바로 결제까지 진행했다는 것으로 추측할 수 있다.\n",
    "\n",
    "\n",
    "\n",
    "\n",
    "\n",
    "\n",
    "\n"
   ]
  },
  {
   "cell_type": "markdown",
   "id": "5de3e196",
   "metadata": {},
   "source": [
    "6.2.3 세그먼트 별 활동일 비교"
   ]
  },
  {
   "cell_type": "code",
   "execution_count": 43,
   "id": "63964633",
   "metadata": {},
   "outputs": [],
   "source": [
    "df = user_act.copy()\n",
    "df['client_event_time'] = pd.to_datetime(df['client_event_time'])\n",
    "\n",
    "# Aha 모먼트 시각 (enter OR complete.lesson) \n",
    "aha_times = (\n",
    "    df[df['event_type'].isin(['enter.lesson_page','complete.lesson'])]\n",
    "      .sort_values('client_event_time')\n",
    "      .drop_duplicates('user_id')\n",
    "      .loc[:, ['user_id','client_event_time']]\n",
    "      .rename(columns={'client_event_time':'aha_time'})\n",
    ")\n",
    "\n",
    "# Next-day return 플래그 \n",
    "visits = (\n",
    "    df[['user_id','client_event_time']]\n",
    "      .merge(aha_times, on='user_id', how='inner')\n",
    ")\n",
    "visits['days_since_aha'] = (visits['client_event_time'] - visits['aha_time']).dt.days\n",
    "next_day_users = visits.loc[visits['days_since_aha']==1, 'user_id'].unique()\n",
    "\n",
    "# 가입 시각 추출 \n",
    "signup = (\n",
    "    df[df['event_type']=='complete.signup']\n",
    "      .sort_values('client_event_time')\n",
    "      .drop_duplicates('user_id')\n",
    "      .loc[:, ['user_id','client_event_time']]\n",
    "      .rename(columns={'client_event_time':'signup_time'})\n",
    ")\n",
    "\n",
    "# 첫 30일 이벤트 머지 & days_since_signup 계산 \n",
    "ua = (\n",
    "    df[['user_id','client_event_time']]\n",
    "      .merge(signup, on='user_id')\n",
    ")\n",
    "ua['days_since_signup'] = (ua['client_event_time'] - ua['signup_time']).dt.days\n",
    "\n",
    "first30 = ua[(ua['days_since_signup'] >= 0) & (ua['days_since_signup'] < 30)].copy()\n",
    "first30['activity_date'] = first30['client_event_time'].dt.date\n",
    "\n",
    "# user × date 중복 제거 & 활동 일수 계산 \n",
    "user_active = (\n",
    "    first30\n",
    "      .drop_duplicates(['user_id','activity_date'])\n",
    "      .groupby('user_id')['activity_date']\n",
    "      .nunique()\n",
    "      .reset_index(name='active_days')\n",
    ")\n",
    "user_active['next_day_return'] = user_active['user_id'].isin(next_day_users)\n",
    "\n",
    "# 통계 요약\n",
    "stats_active = user_active.groupby('next_day_return')['active_days'] \\\n",
    "    .agg(count='count', mean='mean', median='median', std='std') \\\n",
    "    .reset_index()\n"
   ]
  },
  {
   "cell_type": "markdown",
   "id": "77a89b13",
   "metadata": {},
   "source": [
    "- 첫 30일간 활동 일수\n",
    "\n",
    "|    재방문 여부    |   사용자 수 | 평균 활동일수 | 중앙값 활동일수 | 표준편차 |\n",
    "| :----------: | ------: | ------: | -------: | ---: |\n",
    "| 미재방문 (False) | 132,946 |   1.55일 |     1.0일 | 1.96 |\n",
    "| 재방문   (True) |  12,187 |   8.04일 |     5.0일 | 6.93 |\n"
   ]
  },
  {
   "cell_type": "markdown",
   "id": "b254e049",
   "metadata": {},
   "source": [
    "첫달(30일) 동안 미재방문 그룹은 평균 1.6일만 서비스에 방문한 반면, 재방문 그룹은 평균 8.0일, 중앙값 5일정도 활동하였다.\n",
    "\n",
    "재방문 그룹이 약 5배 이상 자주 참여하여, 초기 Engagement 강도가 훨씬 높은 것으로 확인하였다."
   ]
  },
  {
   "cell_type": "code",
   "execution_count": 44,
   "id": "452df478",
   "metadata": {},
   "outputs": [
    {
     "name": "stderr",
     "output_type": "stream",
     "text": [
      "C:\\Users\\Yoo\\AppData\\Local\\Temp\\ipykernel_145472\\1040688129.py:2: FutureWarning:\n",
      "\n",
      "\n",
      "\n",
      "Passing `palette` without assigning `hue` is deprecated and will be removed in v0.14.0. Assign the `x` variable to `hue` and set `legend=False` for the same effect.\n",
      "\n",
      "\n"
     ]
    },
    {
     "data": {
      "image/png": "[encoded data removed]",
      "text/plain": [
       "<Figure size 600x400 with 1 Axes>"
      ]
     },
     "metadata": {},
     "output_type": "display_data"
    }
   ],
   "source": [
    "plt.figure(figsize=(6,4))\n",
    "sns.boxplot(\n",
    "    x='next_day_return', y='active_days',\n",
    "    data=user_active,\n",
    "    palette=['lightgray','skyblue']\n",
    ")\n",
    "plt.xticks([0,1],['미재방문','재방문'])\n",
    "plt.ylabel('첫 30일간 활동 일수')\n",
    "plt.title('Day-1 Return 여부별 초기 참여 강도')\n",
    "plt.tight_layout()\n",
    "plt.show()"
   ]
  },
  {
   "cell_type": "markdown",
   "id": "ae86125c",
   "metadata": {},
   "source": [
    "6.2.4 세그먼트 별 LTV 비교"
   ]
  },
  {
   "cell_type": "code",
   "execution_count": 45,
   "id": "ba45bc71",
   "metadata": {},
   "outputs": [],
   "source": [
    "df = user_act.copy()\n",
    "payment_log = pd.concat([resubscribe_subscription, renew_subscription, complete_subscription], axis=0, ignore_index=True) # 결제 로그 통합"
   ]
  },
  {
   "cell_type": "code",
   "execution_count": 46,
   "id": "ae28fe08",
   "metadata": {},
   "outputs": [],
   "source": [
    "drop_col = ['pg.type', 'device_class', 'paid_amount', 'coupon.discount_amount']\n",
    "\n",
    "payment_log.drop(columns=drop_col, inplace=True, errors='ignore')"
   ]
  },
  {
   "cell_type": "code",
   "execution_count": 47,
   "id": "a5bf3e85",
   "metadata": {},
   "outputs": [],
   "source": [
    "payment_log.sort_values(by='user_id', inplace=True)"
   ]
  },
  {
   "cell_type": "code",
   "execution_count": 48,
   "id": "a09fceea",
   "metadata": {},
   "outputs": [],
   "source": [
    "aha_times = (\n",
    "    user_act[user_act['event_type'].isin(['enter.lesson_page', 'complete.lesson'])]\n",
    "      .sort_values('client_event_time')\n",
    "      .drop_duplicates('user_id')\n",
    "      .loc[:, ['user_id', 'signup_cohort', 'client_event_time']]\n",
    "      .rename(columns={'client_event_time': 'aha_time'})\n",
    ")"
   ]
  },
  {
   "cell_type": "code",
   "execution_count": 49,
   "id": "30bfd59d",
   "metadata": {},
   "outputs": [],
   "source": [
    "visits = (\n",
    "    user_act[['user_id', 'client_event_time']]\n",
    "      .merge(aha_times[['user_id', 'aha_time']], on='user_id', how='inner')\n",
    ")\n",
    "visits['days_since_aha'] = (pd.to_datetime(visits['client_event_time']) - \n",
    "                            pd.to_datetime(visits['aha_time'])).dt.days\n",
    "next_day_users = visits.loc[visits['days_since_aha'] == 1, 'user_id'].unique()"
   ]
  },
  {
   "cell_type": "code",
   "execution_count": 50,
   "id": "699c7f04",
   "metadata": {},
   "outputs": [],
   "source": [
    "payment_log['client_event_time'] = pd.to_datetime(payment_log['client_event_time'])\n",
    "user_revenue = (\n",
    "    payment_log\n",
    "      .groupby('user_id')['plan.price']\n",
    "      .sum()\n",
    "      .reset_index(name='total_revenue')\n",
    ")"
   ]
  },
  {
   "cell_type": "code",
   "execution_count": 51,
   "id": "615fdf19",
   "metadata": {},
   "outputs": [
    {
     "data": {
      "text/html": [
       "<div>\n",
       "<style scoped>\n",
       "    .dataframe tbody tr th:only-of-type {\n",
       "        vertical-align: middle;\n",
       "    }\n",
       "\n",
       "    .dataframe tbody tr th {\n",
       "        vertical-align: top;\n",
       "    }\n",
       "\n",
       "    .dataframe thead th {\n",
       "        text-align: right;\n",
       "    }\n",
       "</style>\n",
       "<table border=\"1\" class=\"dataframe\">\n",
       "  <thead>\n",
       "    <tr style=\"text-align: right;\">\n",
       "      <th></th>\n",
       "      <th>user_id</th>\n",
       "      <th>total_revenue</th>\n",
       "    </tr>\n",
       "  </thead>\n",
       "  <tbody>\n",
       "    <tr>\n",
       "      <th>0</th>\n",
       "      <td>0000572f2ba8079bcefd2760b632e820</td>\n",
       "      <td>47760</td>\n",
       "    </tr>\n",
       "    <tr>\n",
       "      <th>1</th>\n",
       "      <td>000087537cbfd934375364218ff10f91</td>\n",
       "      <td>131600</td>\n",
       "    </tr>\n",
       "    <tr>\n",
       "      <th>2</th>\n",
       "      <td>0001f15911b404f3bf5b8571afafa4e4</td>\n",
       "      <td>15920</td>\n",
       "    </tr>\n",
       "    <tr>\n",
       "      <th>3</th>\n",
       "      <td>000ae43430184824318d11fcd3ae8b45</td>\n",
       "      <td>79200</td>\n",
       "    </tr>\n",
       "    <tr>\n",
       "      <th>4</th>\n",
       "      <td>000be07bc09ceff42c11978f4a9f1c1a</td>\n",
       "      <td>181120</td>\n",
       "    </tr>\n",
       "    <tr>\n",
       "      <th>...</th>\n",
       "      <td>...</td>\n",
       "      <td>...</td>\n",
       "    </tr>\n",
       "    <tr>\n",
       "      <th>16142</th>\n",
       "      <td>fff3e9ffd58cda1d8068d1dab141760a</td>\n",
       "      <td>158400</td>\n",
       "    </tr>\n",
       "    <tr>\n",
       "      <th>16143</th>\n",
       "      <td>fffadab35ddc8234e1c5139815bfc017</td>\n",
       "      <td>163440</td>\n",
       "    </tr>\n",
       "    <tr>\n",
       "      <th>16144</th>\n",
       "      <td>fffba676b17f9f0f228360930f238f07</td>\n",
       "      <td>131600</td>\n",
       "    </tr>\n",
       "    <tr>\n",
       "      <th>16145</th>\n",
       "      <td>fffcae39952c396123f9a3c0808a2183</td>\n",
       "      <td>79600</td>\n",
       "    </tr>\n",
       "    <tr>\n",
       "      <th>16146</th>\n",
       "      <td>fffe529de03d6187ef7ed765650c8d2b</td>\n",
       "      <td>175120</td>\n",
       "    </tr>\n",
       "  </tbody>\n",
       "</table>\n",
       "<p>16147 rows × 2 columns</p>\n",
       "</div>"
      ],
      "text/plain": [
       "                                user_id  total_revenue\n",
       "0      0000572f2ba8079bcefd2760b632e820          47760\n",
       "1      000087537cbfd934375364218ff10f91         131600\n",
       "2      0001f15911b404f3bf5b8571afafa4e4          15920\n",
       "3      000ae43430184824318d11fcd3ae8b45          79200\n",
       "4      000be07bc09ceff42c11978f4a9f1c1a         181120\n",
       "...                                 ...            ...\n",
       "16142  fff3e9ffd58cda1d8068d1dab141760a         158400\n",
       "16143  fffadab35ddc8234e1c5139815bfc017         163440\n",
       "16144  fffba676b17f9f0f228360930f238f07         131600\n",
       "16145  fffcae39952c396123f9a3c0808a2183          79600\n",
       "16146  fffe529de03d6187ef7ed765650c8d2b         175120\n",
       "\n",
       "[16147 rows x 2 columns]"
      ]
     },
     "execution_count": 51,
     "metadata": {},
     "output_type": "execute_result"
    }
   ],
   "source": [
    "user_revenue"
   ]
  },
  {
   "cell_type": "code",
   "execution_count": 52,
   "id": "e1378d38",
   "metadata": {},
   "outputs": [],
   "source": [
    "aha_users = aha_times[['user_id']].drop_duplicates()\n",
    "user_revenue_full = (\n",
    "    aha_users\n",
    "      .merge(user_revenue, on='user_id', how='left')\n",
    "      .fillna({'total_revenue': 0})\n",
    ")"
   ]
  },
  {
   "cell_type": "code",
   "execution_count": 53,
   "id": "634ae036",
   "metadata": {},
   "outputs": [],
   "source": [
    "user_revenue_full['next_day_return'] = user_revenue_full['user_id'].isin(next_day_users)"
   ]
  },
  {
   "cell_type": "code",
   "execution_count": 54,
   "id": "d4da7288",
   "metadata": {},
   "outputs": [
    {
     "data": {
      "text/html": [
       "<div>\n",
       "<style scoped>\n",
       "    .dataframe tbody tr th:only-of-type {\n",
       "        vertical-align: middle;\n",
       "    }\n",
       "\n",
       "    .dataframe tbody tr th {\n",
       "        vertical-align: top;\n",
       "    }\n",
       "\n",
       "    .dataframe thead th {\n",
       "        text-align: right;\n",
       "    }\n",
       "</style>\n",
       "<table border=\"1\" class=\"dataframe\">\n",
       "  <thead>\n",
       "    <tr style=\"text-align: right;\">\n",
       "      <th></th>\n",
       "      <th>next_day_return</th>\n",
       "      <th>total_users</th>\n",
       "      <th>total_revenue</th>\n",
       "      <th>paying_users</th>\n",
       "      <th>arpu</th>\n",
       "      <th>arppu</th>\n",
       "      <th>paying_rate_%</th>\n",
       "    </tr>\n",
       "  </thead>\n",
       "  <tbody>\n",
       "    <tr>\n",
       "      <th>0</th>\n",
       "      <td>False</td>\n",
       "      <td>78293</td>\n",
       "      <td>518376952.0</td>\n",
       "      <td>6523</td>\n",
       "      <td>6620.987215</td>\n",
       "      <td>79469.101947</td>\n",
       "      <td>8.331524</td>\n",
       "    </tr>\n",
       "    <tr>\n",
       "      <th>1</th>\n",
       "      <td>True</td>\n",
       "      <td>12187</td>\n",
       "      <td>448105112.0</td>\n",
       "      <td>6009</td>\n",
       "      <td>36769.107410</td>\n",
       "      <td>74572.326843</td>\n",
       "      <td>49.306638</td>\n",
       "    </tr>\n",
       "  </tbody>\n",
       "</table>\n",
       "</div>"
      ],
      "text/plain": [
       "   next_day_return  total_users  total_revenue  paying_users          arpu  \\\n",
       "0            False        78293    518376952.0          6523   6620.987215   \n",
       "1             True        12187    448105112.0          6009  36769.107410   \n",
       "\n",
       "          arppu  paying_rate_%  \n",
       "0  79469.101947       8.331524  \n",
       "1  74572.326843      49.306638  "
      ]
     },
     "execution_count": 54,
     "metadata": {},
     "output_type": "execute_result"
    }
   ],
   "source": [
    "ltv_stats = (\n",
    "    user_revenue_full\n",
    "      .groupby('next_day_return')['total_revenue']\n",
    "      .agg(\n",
    "          total_users='count',\n",
    "          total_revenue='sum',\n",
    "          paying_users=lambda x: (x > 0).sum(),\n",
    "          arpu=lambda x: x.sum() / x.count(),\n",
    "          arppu=lambda x: x[x > 0].sum() / (x[x > 0].count() if (x > 0).sum() > 0 else 1)\n",
    "      )\n",
    "      .reset_index()\n",
    ")\n",
    "ltv_stats['paying_rate_%'] = ltv_stats['paying_users'] / ltv_stats['total_users'] * 100\n",
    "\n",
    "ltv_stats"
   ]
  },
  {
   "cell_type": "markdown",
   "id": "8c7cf7a0",
   "metadata": {},
   "source": [
    "단순히 재방문 여부에 따른 LTV를 비교해보았을때 1일차 재방문 유저보다 그렇지 않은 유저들의 ARPPU (결제 유저당 평균 매출)가 더 높게 잡혀있어\n",
    "\n",
    "다른 방식으로 추가 분석해보기로 결정"
   ]
  },
  {
   "cell_type": "markdown",
   "id": "fc4bd702",
   "metadata": {},
   "source": [
    "6.2.5 90일 이내의 LTV 비교"
   ]
  },
  {
   "cell_type": "code",
   "execution_count": 55,
   "id": "651943d7",
   "metadata": {},
   "outputs": [],
   "source": [
    "merged = (\n",
    "    aha_times[['user_id','aha_time','signup_cohort']]\n",
    "    .merge(payment_log[['user_id','client_event_time','plan.price']], on='user_id', how='left')\n",
    ")"
   ]
  },
  {
   "cell_type": "code",
   "execution_count": 56,
   "id": "727b9fa6",
   "metadata": {},
   "outputs": [],
   "source": [
    "signup_times = (\n",
    "    user_act[user_act['event_type'] == 'complete.signup']\n",
    "    .sort_values('client_event_time')\n",
    "    .drop_duplicates('user_id')                # 유저별 첫번째 signup만 남김\n",
    "    .loc[:, ['user_id', 'client_event_time']]  # user_id와 가입 시각만 선택\n",
    "    .rename(columns={'client_event_time':'signup_time'})\n",
    ")"
   ]
  },
  {
   "cell_type": "code",
   "execution_count": 57,
   "id": "7cbc84e5",
   "metadata": {},
   "outputs": [],
   "source": [
    "merged = (\n",
    "    signup_times\n",
    "    .merge(payment_log, on='user_id', how='left')\n",
    ")\n",
    "merged['days_since_signup'] = (\n",
    "    merged['client_event_time'] - merged['signup_time']\n",
    ").dt.days"
   ]
  },
  {
   "cell_type": "code",
   "execution_count": 58,
   "id": "60097b4b",
   "metadata": {},
   "outputs": [],
   "source": [
    "merged_90 = merged[merged['days_since_signup'] <= 90] # 장기 결제자들을 필터링하기 위해 가입 후 90일 이내 결제자를 추출\n",
    "user_revenue_90 = merged_90.groupby('user_id')['plan.price'].sum().reset_index(name='revenue_90')"
   ]
  },
  {
   "cell_type": "code",
   "execution_count": 59,
   "id": "57618405",
   "metadata": {},
   "outputs": [
    {
     "name": "stdout",
     "output_type": "stream",
     "text": [
      "=== 90일 기준 그룹별 LTV 지표 ===\n",
      " next_day_return  total_users  total_revenue_90  paying_users_90      arpu_90     arppu_90  paying_rate_90_%\n",
      "           False        78293       338420008.0             5558  4322.481039 60888.810363          7.098974\n",
      "            True        12187       320232664.0             5541 26276.578649 57793.297961         45.466481\n",
      "\n",
      "=== 90일 기준 그룹별 플랜 분포 ===\n",
      "plan_type        3-monthly  annual  monthly  unknown\n",
      "next_day_return                                     \n",
      "False                 1570    1567     5104       11\n",
      "True                  1313    1223     5472        3\n"
     ]
    },
    {
     "name": "stderr",
     "output_type": "stream",
     "text": [
      "C:\\Users\\Yoo\\AppData\\Local\\Temp\\ipykernel_145472\\874481194.py:46: FutureWarning:\n",
      "\n",
      "Downcasting object dtype arrays on .fillna, .ffill, .bfill is deprecated and will change in a future version. Call result.infer_objects(copy=False) instead. To opt-in to the future behavior, set `pd.set_option('future.no_silent_downcasting', True)`\n",
      "\n"
     ]
    }
   ],
   "source": [
    "# 1) signup_time 추출 (complete.signup 이벤트 최초 시각)\n",
    "signup_times = (\n",
    "    user_act[user_act['event_type'] == 'complete.signup']\n",
    "    .sort_values('client_event_time')\n",
    "    .drop_duplicates('user_id')\n",
    "    .loc[:, ['user_id', 'client_event_time']]\n",
    "    .rename(columns={'client_event_time': 'signup_time'})\n",
    ")\n",
    "\n",
    "# 2) Aha 모먼트 시각(enter.lesson_page OR complete.lesson) 추출\n",
    "aha_times = (\n",
    "    user_act[user_act['event_type'].isin(['enter.lesson_page', 'complete.lesson'])]\n",
    "    .sort_values('client_event_time')\n",
    "    .drop_duplicates('user_id')\n",
    "    .loc[:, ['user_id', 'client_event_time']]\n",
    "    .rename(columns={'client_event_time': 'aha_time'})\n",
    ")\n",
    "\n",
    "# 3) “아하 다음날 재방문(next_day_return)” 플래그 생성\n",
    "visits = (\n",
    "    user_act[['user_id', 'client_event_time']]\n",
    "    .merge(aha_times, on='user_id', how='inner')\n",
    ")\n",
    "visits['days_since_aha'] = (\n",
    "    pd.to_datetime(visits['client_event_time']) \n",
    "  - pd.to_datetime(visits['aha_time'])\n",
    ").dt.days\n",
    "\n",
    "# days_since_aha == 1인 user_id 목록\n",
    "next_day_users = visits.loc[visits['days_since_aha'] == 1, 'user_id'].unique()\n",
    "\n",
    "# user_flag DataFrame에 플래그 저장\n",
    "user_flag = pd.DataFrame({'user_id': aha_times['user_id'].unique()})\n",
    "user_flag['next_day_return'] = user_flag['user_id'].isin(next_day_users)\n",
    "\n",
    "# 4) payment_log에 signup_time 병합 및 “가입 후 경과 일수” 계산\n",
    "payment_log['client_event_time'] = pd.to_datetime(payment_log['client_event_time'])\n",
    "merged = signup_times.merge(payment_log, on='user_id', how='left')\n",
    "merged['days_since_signup'] = (merged['client_event_time'] - merged['signup_time']).dt.days\n",
    "\n",
    "# 5) 가입 후 90일 이내 결제만 필터링\n",
    "merged_90 = merged[merged['days_since_signup'].between(0, 90)].copy()\n",
    "\n",
    "# 6) next_day_return 플래그를 merged_90에 병합\n",
    "merged_90 = merged_90.merge(user_flag, on='user_id', how='left')\n",
    "merged_90['next_day_return'] = merged_90['next_day_return'].fillna(False)\n",
    "\n",
    "# 7) 플랜 타입(plan_type) 계산 예시\n",
    "merged_90['plan_type'] = merged_90['plan.price'].apply(\n",
    "    lambda x: 'annual'    if x >= 90_000 else\n",
    "              '3-monthly' if x >= 40_000 else\n",
    "              'monthly'   if x >= 15_000 else\n",
    "              'unknown'\n",
    ")\n",
    "\n",
    "# 8) 그룹별(재방문 vs. 미재방문) 90일 LTV 지표 계산\n",
    "user_revenue_90 = (\n",
    "    merged_90\n",
    "    .groupby('user_id')['plan.price']\n",
    "    .sum()\n",
    "    .reset_index(name='revenue_90')\n",
    ")\n",
    "\n",
    "# 모든 Aha 유저 기준으로 revenue_90=0 채우기\n",
    "aha_users = aha_times[['user_id']].drop_duplicates()\n",
    "user_revenue_90_full = (\n",
    "    aha_users\n",
    "    .merge(user_revenue_90, on='user_id', how='left')\n",
    "    .fillna({'revenue_90': 0})\n",
    ")\n",
    "\n",
    "# next_day_return 플래그 병합\n",
    "user_revenue_90_full = user_revenue_90_full.merge(user_flag, on='user_id', how='left')\n",
    "user_revenue_90_full['next_day_return'] = user_revenue_90_full['next_day_return'].fillna(False)\n",
    "\n",
    "ltv_90_stats = (\n",
    "    user_revenue_90_full\n",
    "    .groupby('next_day_return')['revenue_90']\n",
    "    .agg(\n",
    "        total_users='count',\n",
    "        total_revenue_90='sum',\n",
    "        paying_users_90=lambda x: (x > 0).sum(),\n",
    "        arpu_90=lambda x: x.sum() / x.count(),\n",
    "        arppu_90=lambda x: x[x > 0].sum() / (x[x > 0].count() or 1)\n",
    "    )\n",
    "    .reset_index()\n",
    ")\n",
    "ltv_90_stats['paying_rate_90_%'] = (\n",
    "    ltv_90_stats['paying_users_90'] / ltv_90_stats['total_users'] * 100\n",
    ")\n",
    "\n",
    "# 9) 그룹별 플랜 분포 집계\n",
    "plan_dist_90 = merged_90.groupby(\n",
    "    ['next_day_return', 'plan_type']\n",
    ")['user_id'].count().unstack(fill_value=0)\n",
    "\n",
    "print(\"=== 90일 기준 그룹별 LTV 지표 ===\")\n",
    "print(ltv_90_stats.to_string(index=False))\n",
    "print(\"\\n=== 90일 기준 그룹별 플랜 분포 ===\")\n",
    "print(plan_dist_90)"
   ]
  },
  {
   "cell_type": "markdown",
   "id": "2c30aa90",
   "metadata": {},
   "source": [
    "- 90일 기준 그룹별 LTV 지표\n",
    "\n",
    "| next\\_day\\_return | total\\_users | total\\_revenue\\_90 | paying\\_users\\_90 |  arpu\\_90 | arppu\\_90 | paying\\_rate\\_90\\_% |\n",
    "| :---------------: | -----------: | -----------------: | ----------------: | --------: | --------: | ------------------: |\n",
    "|       False       |       78,293 |        338,420,008 |             5,558 |  4,322.48 | 60,888.81 |               7.10% |\n",
    "|        True       |       12,187 |        320,232,664 |             5,541 | 26,276.58 | 57,793.30 |              45.47% |\n"
   ]
  },
  {
   "cell_type": "markdown",
   "id": "93c418ad",
   "metadata": {},
   "source": [
    "- 총 사용자 대비 결제 비율(paying_rate_90_% )\n",
    "\n",
    "    - False(미재방문) 그룹: 7.10%만이 가입 후 90일 이내에 결제\n",
    "\n",
    "    - True(재방문) 그룹: 45.47%가 가입 후 90일 이내에 결제\n",
    "        → “아하 모먼트 다음날 재방문” 그룹은 같은 기간 동안 원하는 유저의 거의 절반이 결제에 도달하게 됨.\n",
    "\n",
    "- ARPU (유저당 평균 매출)\n",
    "\n",
    "    - False 그룹: 약 4,322원\n",
    "\n",
    "    - True 그룹: 약 26,277원\n",
    "        → True 그룹은 미재방문 대비 약 6배 이상 높은 매출을 창출해냈음. 가입 후 90일 이내에 결제율이 훨씬 높기 때문에 전체 유저당 매출도 크게 차이가 나는 것을 확인할 수 있었음.\n",
    "\n",
    "- ARPPU (결제 유저당 평균 매출)\n",
    "\n",
    "    - False 그룹: 약 60,889원\n",
    "\n",
    "    - True 그룹: 약 57,793원\n",
    "        → 결제한 유저만 놓고 보면, False 그룹(60.9K원)이 True 그룹(57.8K원)보다 다소 높음. 이는 False 그룹 결제 유저 중 일부가 “한 번에 큰 금액(예: 연간 구독·3개월 패키지)”을 결제한 비중이 상대적으로 높기 때문.\n",
    "\n",
    "- 총 매출(total_revenue_90) 분포\n",
    "\n",
    "    - False 그룹 전체 매출: 338.4백만 원\n",
    "\n",
    "    - True 그룹 전체 매출: 320.2백만 원\n",
    "         False 그룹 인원은 약 6.4배(78,293 vs 12,187) 많지만, 매출 규모는 거의 비슷하다. 즉, 소수 인원이면서 높은 결제율을 보인 True 그룹이, 인원이 많은 False 그룹과 맞먹는 매출을 90일 내에 만들어낸 것을 확인 할 수 있다."
   ]
  },
  {
   "cell_type": "markdown",
   "id": "ddf5bac3",
   "metadata": {},
   "source": [
    "- 90일 기준 그룹별 플랜 분포"
   ]
  },
  {
   "cell_type": "markdown",
   "id": "59198f70",
   "metadata": {},
   "source": [
    "| next\\_day\\_return | 3-monthly | annual | monthly | unknown | 합계(구매 건수) |\n",
    "| :---------------: | --------: | -----: | ------: | ------: | --------: |\n",
    "|       False       |     1,570 |  1,567 |   5,104 |      11 |     8,252 |\n",
    "|        True       |     1,313 |  1,223 |   5,472 |       3 |     8,011 |\n"
   ]
  },
  {
   "cell_type": "markdown",
   "id": "24b71010",
   "metadata": {},
   "source": [
    "6.2.6 세그먼트 별 체류 기간 분석"
   ]
  },
  {
   "cell_type": "code",
   "execution_count": 60,
   "id": "fed1b023",
   "metadata": {},
   "outputs": [
    {
     "name": "stderr",
     "output_type": "stream",
     "text": [
      "C:\\Users\\Yoo\\AppData\\Local\\Temp\\ipykernel_145472\\1041830590.py:76: FutureWarning:\n",
      "\n",
      "\n",
      "\n",
      "Passing `palette` without assigning `hue` is deprecated and will be removed in v0.14.0. Assign the `x` variable to `hue` and set `legend=False` for the same effect.\n",
      "\n",
      "\n"
     ]
    },
    {
     "data": {
      "image/png": "[encoded data removed]",
      "text/plain": [
       "<Figure size 600x400 with 1 Axes>"
      ]
     },
     "metadata": {},
     "output_type": "display_data"
    }
   ],
   "source": [
    "# 1) Aha 모먼트 시각(enter OR complete.lesson) → aha_times\n",
    "aha_times = (\n",
    "    user_act[user_act['event_type'].isin(['enter.lesson_page','complete.lesson'])]\n",
    "    .sort_values('client_event_time')\n",
    "    .drop_duplicates('user_id')\n",
    "    .loc[:, ['user_id','client_event_time']]\n",
    "    .rename(columns={'client_event_time':'aha_time'})\n",
    ")\n",
    "\n",
    "# 2) Aha 다음날 재방문 플래그 → next_day_users\n",
    "visits = (\n",
    "    user_act[['user_id','client_event_time']]\n",
    "    .merge(aha_times, on='user_id', how='inner')\n",
    ")\n",
    "visits['days_since_aha'] = (pd.to_datetime(visits['client_event_time']) - pd.to_datetime(visits['aha_time'])).dt.days\n",
    "next_day_users = visits.loc[visits['days_since_aha']==1, 'user_id'].unique()\n",
    "\n",
    "# 3) 가입 시각 준비 → signup\n",
    "signup = (\n",
    "    user_act[user_act['event_type']=='complete.signup']\n",
    "    .sort_values('client_event_time')\n",
    "    .drop_duplicates('user_id')\n",
    "    .loc[:, ['user_id','client_event_time']]\n",
    "    .rename(columns={'client_event_time':'signup_time'})\n",
    ")\n",
    "\n",
    "# 4) 첫 30일 로그 필터 → first30\n",
    "ua = (\n",
    "    user_act[['user_id','client_event_time']]\n",
    "    .merge(signup, on='user_id', how='inner')\n",
    ")\n",
    "ua['days_since_signup'] = (pd.to_datetime(ua['client_event_time']) - pd.to_datetime(ua['signup_time'])).dt.days\n",
    "first30 = ua[(ua['days_since_signup'] >= 0) & (ua['days_since_signup'] < 30)].copy()\n",
    "\n",
    "# 5) 세션 구분: 이전 이벤트와 5분 이상 공백 시 new_session\n",
    "first30 = first30.sort_values(['user_id','client_event_time'])\n",
    "first30['prev_time'] = first30.groupby('user_id')['client_event_time'].shift(1)\n",
    "first30['time_diff_min'] = (pd.to_datetime(first30['client_event_time']) - pd.to_datetime(first30['prev_time'])).dt.total_seconds()/60\n",
    "first30['new_session'] = (first30['prev_time'].isna()) | (first30['time_diff_min'] > 5)\n",
    "first30['session_id'] = first30.groupby('user_id')['new_session'].cumsum()\n",
    "\n",
    "# 6) 세션별 체류 시간 계산 → sessions\n",
    "sessions = (\n",
    "    first30\n",
    "    .groupby(['user_id','session_id'], as_index=False)\n",
    "    .agg(\n",
    "        session_start=('client_event_time','min'),\n",
    "        session_end=('client_event_time','max')\n",
    "    )\n",
    ")\n",
    "sessions['duration_min'] = (pd.to_datetime(sessions['session_end']) - pd.to_datetime(sessions['session_start'])).dt.total_seconds()/60\n",
    "\n",
    "# 7) 사용자별 세션 통계 계산 → session_stats\n",
    "session_stats = (\n",
    "    sessions\n",
    "    .groupby('user_id')\n",
    "    .agg(\n",
    "        session_count=('session_id','nunique'),\n",
    "        avg_duration=('duration_min','mean'),\n",
    "        max_duration=('duration_min','max'),\n",
    "        min_duration=('duration_min','min')\n",
    "    )\n",
    "    .reset_index()\n",
    ").fillna({\n",
    "    'session_count':0, \n",
    "    'avg_duration':0, \n",
    "    'max_duration':0, \n",
    "    'min_duration':0\n",
    "})\n",
    "\n",
    "# 8) Next-day Return 플래그 병합\n",
    "session_stats['next_day_return'] = session_stats['user_id'].isin(next_day_users)\n",
    "\n",
    "# 11) 시각화 예시: session_count 분포 박스플롯\n",
    "plt.figure(figsize=(6,4))\n",
    "sns.boxplot(\n",
    "    x='next_day_return',\n",
    "    y='session_count',\n",
    "    data=session_stats,\n",
    "    palette=['lightgray','skyblue']\n",
    ")\n",
    "plt.xticks([0,1], ['미재방문','재방문'])\n",
    "plt.ylabel('첫 30일간 세션 수')\n",
    "plt.title('Day-1 Return 여부별 세션 빈도')\n",
    "plt.tight_layout()\n",
    "plt.show()"
   ]
  },
  {
   "cell_type": "code",
   "execution_count": 61,
   "id": "efbf673c",
   "metadata": {},
   "outputs": [
    {
     "data": {
      "text/html": [
       "<div>\n",
       "<style scoped>\n",
       "    .dataframe tbody tr th:only-of-type {\n",
       "        vertical-align: middle;\n",
       "    }\n",
       "\n",
       "    .dataframe tbody tr th {\n",
       "        vertical-align: top;\n",
       "    }\n",
       "\n",
       "    .dataframe thead th {\n",
       "        text-align: right;\n",
       "    }\n",
       "</style>\n",
       "<table border=\"1\" class=\"dataframe\">\n",
       "  <thead>\n",
       "    <tr style=\"text-align: right;\">\n",
       "      <th></th>\n",
       "      <th>next_day_return</th>\n",
       "      <th>total_users</th>\n",
       "      <th>avg_session_count</th>\n",
       "      <th>avg_duration</th>\n",
       "      <th>max_duration</th>\n",
       "      <th>min_duration</th>\n",
       "    </tr>\n",
       "  </thead>\n",
       "  <tbody>\n",
       "    <tr>\n",
       "      <th>0</th>\n",
       "      <td>False</td>\n",
       "      <td>132946</td>\n",
       "      <td>3.508665</td>\n",
       "      <td>1.654454</td>\n",
       "      <td>3.594819</td>\n",
       "      <td>0.885375</td>\n",
       "    </tr>\n",
       "    <tr>\n",
       "      <th>1</th>\n",
       "      <td>True</td>\n",
       "      <td>12187</td>\n",
       "      <td>45.807007</td>\n",
       "      <td>3.693781</td>\n",
       "      <td>22.241629</td>\n",
       "      <td>0.082307</td>\n",
       "    </tr>\n",
       "  </tbody>\n",
       "</table>\n",
       "</div>"
      ],
      "text/plain": [
       "   next_day_return  total_users  avg_session_count  avg_duration  \\\n",
       "0            False       132946           3.508665      1.654454   \n",
       "1             True        12187          45.807007      3.693781   \n",
       "\n",
       "   max_duration  min_duration  \n",
       "0      3.594819      0.885375  \n",
       "1     22.241629      0.082307  "
      ]
     },
     "execution_count": 61,
     "metadata": {},
     "output_type": "execute_result"
    }
   ],
   "source": [
    "session_stats.groupby('next_day_return').agg(\n",
    "    total_users=('user_id', 'count'),\n",
    "    avg_session_count=('session_count', 'mean'),\n",
    "    avg_duration=('avg_duration', 'mean'),\n",
    "    max_duration=('max_duration', 'mean'),\n",
    "    min_duration=('min_duration', 'mean')\n",
    ").reset_index()"
   ]
  },
  {
   "cell_type": "markdown",
   "id": "3e78d7ab",
   "metadata": {},
   "source": [
    "- 세그먼트 별 세션 체류\n",
    "\n",
    "| next\\_day\\_return | total\\_users | avg\\_session\\_count (30일) | avg\\_duration (분) | max\\_duration (분) | min\\_duration (분) |\n",
    "| :---------------: | -----------: | ------------------------: | ----------------: | ----------------: | ----------------: |\n",
    "|       False       |      132,946 |                      3.51 |              1.65 |              3.59 |              0.89 |\n",
    "|        True       |       12,187 |                     45.81 |              3.69 |             22.24 |              0.08 |\n"
   ]
  },
  {
   "cell_type": "markdown",
   "id": "1dc5b649",
   "metadata": {},
   "source": [
    "- 세션 빈도 (avg_session_count)\n",
    "\n",
    "    - False: 하루에 약 0.1회 → 30일간 평균 3.5회\n",
    "\n",
    "    - True: 하루에 약 1.5회 → 30일간 평균 45.8회\n",
    "        → 재방문 그룹이 약 13배 더 자주 세션을 생성\n",
    "\n",
    "- 세션당 평균 체류 시간 (avg_duration)\n",
    "\n",
    "    - False: 약 1.65분\n",
    "\n",
    "    - True: 약 3.69분\n",
    "        → 재방문 그룹 세션당 체류 시간이 약 2.2배 더 길어 집중도가 높음\n",
    "\n",
    "- 최장 세션 시간 (max_duration)\n",
    "\n",
    "    - False: 최대 약 3.6분\n",
    "\n",
    "    - True: 최대 약 22.2분\n",
    "        → 재방문 그룹은 한 번에 20분 넘게 몰입하는 장시간 세션이 존재\n",
    "\n",
    "- 최단 세션 시간 (min_duration)\n",
    "\n",
    "    - False: 최소 약 0.89분(≈54초)\n",
    "\n",
    "    - True: 최소 약 0.08분(≈5초)\n"
   ]
  },
  {
   "cell_type": "markdown",
   "id": "f3bc0a23",
   "metadata": {},
   "source": [
    "# 7. 통계적 가설 검정"
   ]
  },
  {
   "cell_type": "markdown",
   "id": "3d76388a",
   "metadata": {},
   "source": [
    "다음은 “아하 모먼트 다음날 재방문(Next-day Return) 여부” 두 세그먼트 간에 관측된 차이가 우연이 아니라 통계적으로 유의미한지 검증하기 위한 통계적 가설 검정 방법론을 사용하기로 한다."
   ]
  },
  {
   "cell_type": "markdown",
   "id": "8c805ab6",
   "metadata": {},
   "source": [
    "### 7.1 세그먼트 간 검정"
   ]
  },
  {
   "cell_type": "markdown",
   "id": "f6116a5f",
   "metadata": {},
   "source": [
    "7.1.1 결제 전환률 비교: 카이 제곱 독립성 검정"
   ]
  },
  {
   "cell_type": "markdown",
   "id": "7a956823",
   "metadata": {},
   "source": [
    "- 가설 설정\n",
    "\n",
    "    - H0 = '두 세그먼트 간 결제 전환률엔 차이가 없다' \n",
    "    - H1 = '두 세그먼트 간 결제 전환률엔 차이가 있다'"
   ]
  },
  {
   "cell_type": "code",
   "execution_count": 62,
   "id": "08813ed0",
   "metadata": {},
   "outputs": [
    {
     "name": "stdout",
     "output_type": "stream",
     "text": [
      "Chi2: 14213.934, p-값: 0.00000\n",
      "Reject H0, 두 세그먼트 간 결제 전환률 차이는 통계적으로 유의미하다.\n"
     ]
    }
   ],
   "source": [
    "from scipy import stats\n",
    "\n",
    "# 2×2 분할표\n",
    "table = [\n",
    "    [6276, 78293-6276],    # [False 그룹: 결제자, 미결제자]\n",
    "    [5787, 12187-5787]     # [True  그룹: 결제자, 미결제자]\n",
    "]\n",
    "chi2, p, _, _ = stats.chi2_contingency(table)\n",
    "print(f\"Chi2: {chi2:.3f}, p-값: {p:.5f}\")\n",
    "\n",
    "if p < 0.05: \n",
    "    print('Reject H0, 두 세그먼트 간 결제 전환률 차이는 통계적으로 유의미하다.')\n",
    "else:\n",
    "    print('Do not reject H0,  두 세그먼트 간 결제 전환률 차이는 통계적으로 유의미하지 않다.')"
   ]
  },
  {
   "cell_type": "markdown",
   "id": "088eb803",
   "metadata": {},
   "source": [
    "7.1.2 첫 30일간 활동 일수 비교: 독립표본 t-검정"
   ]
  },
  {
   "cell_type": "markdown",
   "id": "c11ff816",
   "metadata": {},
   "source": [
    "- 가설 설정\n",
    "\n",
    "    - H0 = '두 세그먼트 간 30일간 활동 일수의 평균엔 차이가 없다' \n",
    "    - H1 = '두 세그먼트 간 30일간 활동 일수의 평균엔 차이가 있다'"
   ]
  },
  {
   "cell_type": "code",
   "execution_count": 63,
   "id": "d3bc4dca",
   "metadata": {},
   "outputs": [
    {
     "name": "stdout",
     "output_type": "stream",
     "text": [
      "Welch’s t-검정 t=-103.009, p-값=0.00000\n",
      "Reject H0, 두 세그먼트 간 평균 차이는 통계적으로 유의미하다\n"
     ]
    }
   ],
   "source": [
    "\n",
    "# 두 그룹 요약 통계\n",
    "mean1, std1, n1 = 1.55, 1.96, 132946\n",
    "mean2, std2, n2 = 8.04, 6.93, 12187\n",
    "\n",
    "stat, p = stats.ttest_ind_from_stats(\n",
    "    mean1=mean1, std1=std1, nobs1=n1,\n",
    "    mean2=mean2, std2=std2, nobs2=n2,\n",
    "    equal_var=False  # Welch’s t-test\n",
    ")\n",
    "print(f\"Welch’s t-검정 t={stat:.3f}, p-값={p:.5f}\")\n",
    "\n",
    "if p < 0.05: \n",
    "    print('Reject H0, 두 세그먼트 간 평균 차이는 통계적으로 유의미하다')\n",
    "else:\n",
    "    print('Do not reject H0, 두 세그먼트 간 평균 차이는 통계적으로 유의미하지 않다')\n"
   ]
  },
  {
   "cell_type": "markdown",
   "id": "0a264474",
   "metadata": {},
   "source": [
    "7.1.3 두 세그먼트 간 LTV 비교"
   ]
  },
  {
   "cell_type": "code",
   "execution_count": 64,
   "id": "8fb6f8e3",
   "metadata": {},
   "outputs": [
    {
     "data": {
      "text/html": [
       "<div>\n",
       "<style scoped>\n",
       "    .dataframe tbody tr th:only-of-type {\n",
       "        vertical-align: middle;\n",
       "    }\n",
       "\n",
       "    .dataframe tbody tr th {\n",
       "        vertical-align: top;\n",
       "    }\n",
       "\n",
       "    .dataframe thead th {\n",
       "        text-align: right;\n",
       "    }\n",
       "</style>\n",
       "<table border=\"1\" class=\"dataframe\">\n",
       "  <thead>\n",
       "    <tr style=\"text-align: right;\">\n",
       "      <th></th>\n",
       "      <th>count</th>\n",
       "      <th>mean</th>\n",
       "      <th>std</th>\n",
       "      <th>min</th>\n",
       "      <th>25%</th>\n",
       "      <th>50%</th>\n",
       "      <th>75%</th>\n",
       "      <th>max</th>\n",
       "    </tr>\n",
       "    <tr>\n",
       "      <th>next_day_return</th>\n",
       "      <th></th>\n",
       "      <th></th>\n",
       "      <th></th>\n",
       "      <th></th>\n",
       "      <th></th>\n",
       "      <th></th>\n",
       "      <th></th>\n",
       "      <th></th>\n",
       "    </tr>\n",
       "  </thead>\n",
       "  <tbody>\n",
       "    <tr>\n",
       "      <th>False</th>\n",
       "      <td>78293.0</td>\n",
       "      <td>4322.481039</td>\n",
       "      <td>20123.444196</td>\n",
       "      <td>0.0</td>\n",
       "      <td>0.0</td>\n",
       "      <td>0.0</td>\n",
       "      <td>0.0</td>\n",
       "      <td>937120.0</td>\n",
       "    </tr>\n",
       "    <tr>\n",
       "      <th>True</th>\n",
       "      <td>12187.0</td>\n",
       "      <td>26276.578649</td>\n",
       "      <td>41739.760086</td>\n",
       "      <td>0.0</td>\n",
       "      <td>0.0</td>\n",
       "      <td>0.0</td>\n",
       "      <td>42960.0</td>\n",
       "      <td>394800.0</td>\n",
       "    </tr>\n",
       "  </tbody>\n",
       "</table>\n",
       "</div>"
      ],
      "text/plain": [
       "                   count          mean           std  min  25%  50%      75%  \\\n",
       "next_day_return                                                                \n",
       "False            78293.0   4322.481039  20123.444196  0.0  0.0  0.0      0.0   \n",
       "True             12187.0  26276.578649  41739.760086  0.0  0.0  0.0  42960.0   \n",
       "\n",
       "                      max  \n",
       "next_day_return            \n",
       "False            937120.0  \n",
       "True             394800.0  "
      ]
     },
     "execution_count": 64,
     "metadata": {},
     "output_type": "execute_result"
    }
   ],
   "source": [
    "# groupby 사용해서 revenue_90에 대한 describe(…) 실행\n",
    "desc_ltv = user_revenue_90_full.groupby('next_day_return')['revenue_90'].describe()\n",
    "desc_ltv"
   ]
  },
  {
   "cell_type": "markdown",
   "id": "f1283c47",
   "metadata": {},
   "source": [
    "- 가설 설정\n",
    "    - H0: 두 세그먼트 간 평균 LTV 차이는 없다.\n",
    "    - H1: 두 세그먼트 간 평균 LTV 차이는 있다."
   ]
  },
  {
   "cell_type": "code",
   "execution_count": 65,
   "id": "90cd1011",
   "metadata": {},
   "outputs": [
    {
     "name": "stdout",
     "output_type": "stream",
     "text": [
      "90일 LTV Welch’s t-검정 t=-57.042, p-값=0.00000\n",
      "Reject H0, 두 세그먼트 간 90일 LTV 차이는 통계적으로 유의미하다.\n"
     ]
    }
   ],
   "source": [
    "# 두 그룹 요약 통계\n",
    "n1, mean1, std1 = 78293, 4322.481039, 20123.444196\n",
    "n2, mean2, std2 = 12187, 26276.578649, 41739.760086\n",
    "\n",
    "# Welch’s t-검정 (equal_var=False)\n",
    "stat_rev, p_rev = stats.ttest_ind_from_stats(\n",
    "    mean1=mean1, std1=std1, nobs1=n1,\n",
    "    mean2=mean2, std2=std2, nobs2=n2,\n",
    "    equal_var=False\n",
    ")\n",
    "\n",
    "print(f\"90일 LTV Welch’s t-검정 t={stat_rev:.3f}, p-값={p_rev:.5f}\")\n",
    "\n",
    "if p_rev < 0.05:\n",
    "    print('Reject H0, 두 세그먼트 간 90일 LTV 차이는 통계적으로 유의미하다.')\n",
    "else:\n",
    "    print('Do not reject H0, 두 세그먼트 간 90일 LTV 차이는 통계적으로 유의미하지 않다.')"
   ]
  },
  {
   "cell_type": "code",
   "execution_count": 66,
   "id": "3ef33882",
   "metadata": {},
   "outputs": [
    {
     "data": {
      "text/html": [
       "<div>\n",
       "<style scoped>\n",
       "    .dataframe tbody tr th:only-of-type {\n",
       "        vertical-align: middle;\n",
       "    }\n",
       "\n",
       "    .dataframe tbody tr th {\n",
       "        vertical-align: top;\n",
       "    }\n",
       "\n",
       "    .dataframe thead th {\n",
       "        text-align: right;\n",
       "    }\n",
       "</style>\n",
       "<table border=\"1\" class=\"dataframe\">\n",
       "  <thead>\n",
       "    <tr style=\"text-align: right;\">\n",
       "      <th></th>\n",
       "      <th>count</th>\n",
       "      <th>mean</th>\n",
       "      <th>std</th>\n",
       "      <th>min</th>\n",
       "      <th>25%</th>\n",
       "      <th>50%</th>\n",
       "      <th>75%</th>\n",
       "      <th>max</th>\n",
       "    </tr>\n",
       "    <tr>\n",
       "      <th>next_day_return</th>\n",
       "      <th></th>\n",
       "      <th></th>\n",
       "      <th></th>\n",
       "      <th></th>\n",
       "      <th></th>\n",
       "      <th></th>\n",
       "      <th></th>\n",
       "      <th></th>\n",
       "    </tr>\n",
       "  </thead>\n",
       "  <tbody>\n",
       "    <tr>\n",
       "      <th>False</th>\n",
       "      <td>132946.0</td>\n",
       "      <td>1.654454</td>\n",
       "      <td>2.889752</td>\n",
       "      <td>0.0</td>\n",
       "      <td>0.015383</td>\n",
       "      <td>0.561500</td>\n",
       "      <td>2.170977</td>\n",
       "      <td>72.348850</td>\n",
       "    </tr>\n",
       "    <tr>\n",
       "      <th>True</th>\n",
       "      <td>12187.0</td>\n",
       "      <td>3.693781</td>\n",
       "      <td>3.065202</td>\n",
       "      <td>0.0</td>\n",
       "      <td>1.642828</td>\n",
       "      <td>3.140478</td>\n",
       "      <td>4.940584</td>\n",
       "      <td>41.053517</td>\n",
       "    </tr>\n",
       "  </tbody>\n",
       "</table>\n",
       "</div>"
      ],
      "text/plain": [
       "                    count      mean       std  min       25%       50%  \\\n",
       "next_day_return                                                          \n",
       "False            132946.0  1.654454  2.889752  0.0  0.015383  0.561500   \n",
       "True              12187.0  3.693781  3.065202  0.0  1.642828  3.140478   \n",
       "\n",
       "                      75%        max  \n",
       "next_day_return                       \n",
       "False            2.170977  72.348850  \n",
       "True             4.940584  41.053517  "
      ]
     },
     "execution_count": 66,
     "metadata": {},
     "output_type": "execute_result"
    }
   ],
   "source": [
    "desc_session = session_stats.groupby('next_day_return')['avg_duration'].describe()\n",
    "desc_session"
   ]
  },
  {
   "cell_type": "markdown",
   "id": "bc79a00f",
   "metadata": {},
   "source": [
    "- 가설 설정\n",
    "    - H0: 두 세그먼트 간 평균 체류시간의 차이는 없다.\n",
    "    - H1: 두 세그먼트 간 평균 체류시간의 차이는 있다."
   ]
  },
  {
   "cell_type": "code",
   "execution_count": 67,
   "id": "62bca8b4",
   "metadata": {},
   "outputs": [
    {
     "name": "stdout",
     "output_type": "stream",
     "text": [
      "평균 체류시간 Welch’s t-검정 t=-70.627, p-값=0.00000\n",
      "Reject H0, 두 세그먼트 간 평균 체류시간 차이는 통계적으로 유의미하다.\n"
     ]
    }
   ],
   "source": [
    "n1, mean1, std1 = 132946, 1.654454, 2.889752\n",
    "n2, mean2, std2 = 12187, 3.693781, 3.065202  \n",
    "\n",
    "stat_avgdur, p_avgdur = stats.ttest_ind_from_stats(\n",
    "    mean1=mean1, std1=std1, nobs1=n1,\n",
    "    mean2=mean2, std2=std2, nobs2=n2,\n",
    "    equal_var=False\n",
    ")\n",
    "print(f\"평균 체류시간 Welch’s t-검정 t={stat_avgdur:.3f}, p-값={p_avgdur:.5f}\")\n",
    "\n",
    "if p_avgdur < 0.05:\n",
    "    print('Reject H0, 두 세그먼트 간 평균 체류시간 차이는 통계적으로 유의미하다.')\n",
    "else:\n",
    "    print('Do not reject H0, 두 세그먼트 간 평균 체류시간 차이는 통계적으로 유의미하지 않다.')"
   ]
  },
  {
   "cell_type": "markdown",
   "id": "6f06f71d",
   "metadata": {},
   "source": [
    "# 8. 액션 아이템 제시 및 A/B 테스트 제안"
   ]
  },
  {
   "cell_type": "markdown",
   "id": "68972b49",
   "metadata": {},
   "source": [
    "### 8.1 행동 기반 치장 아이템 지급 (게이미피케이션)"
   ]
  },
  {
   "cell_type": "markdown",
   "id": "40099a58",
   "metadata": {},
   "source": [
    "8.1.1. 목적\n",
    "- 초기 참여를 촉진하고, “아하 모먼트 다음날 재방문”과 같은 높은 참여 유저와 비슷한 패턴을 유도\n",
    "- 강의 수강률, 접속 빈도 등 행동 지표를 기반으로 유저에게 시각적·심리적 보상을 제공하여 동기 강화\n",
    "- 장기적으로 리텐션과 결제 전환율 개선"
   ]
  },
  {
   "cell_type": "markdown",
   "id": "4347f3ce",
   "metadata": {},
   "source": [
    "8.1.2 실행 방안\n",
    "\n",
    "- 치장 아이템(Decoration Items) 시스템 구축\n",
    "    - 유저가 프로필에 붙일 수 있는 “프레임·배지·아이콘”을 설계\n",
    "- 예시\n",
    "    - “첫 1일차 재방문 달성” 배지 → 프로필 닉네임 옆에 작은 새싹 모양 칭호 적용\n",
    "    - “7일 연속 강의 시청” 프레임 → 프로필 닉네임 옆에 \"7일 연속!\" 칭호 적용\n",
    "    - “건실왕” 칭호 → 30일 연속 강의 수강시 닉네임 옆에 “건실왕” 칭호 표시\n",
    "\n",
    "- 행동 지표 기준 보상 로직\n",
    "    - 접속 빈도: 가입 후 7일 내 5회 이상 로그인 시 → 특수 아이템 지급 (예시: 꽃 피우는 이펙트)\n",
    "    - 퀴즈·미션 수행: 강의별 퀴즈 80% 이상 정답 시 → “퀴즈 챔피언” 칭호\n",
    "    - 질문 등록/답변 활동: Q&A 섹션에 3회 이상 질문 또는 5회 이상 답변 시 → “질문왕”/“답변왕” 칭호\n",
    "\n",
    "- 치장 아이템 노출 위치\n",
    "    - 프로필 페이지\n",
    "    - 댓글 및 게시판 영역 닉네임 우측\n"
   ]
  },
  {
   "cell_type": "markdown",
   "id": "f7a0b096",
   "metadata": {},
   "source": [
    "8.1.3 기대 효과 및 KPI\n",
    "\n",
    "- 단기 KPI\n",
    "\n",
    "    - 신규 가입자 대비 “치장 아이템 획득 비율”(획득 성공률)\n",
    "\n",
    "    - 첫주(가입 후 7일차) 재방문율 변화\n",
    "\n",
    "    - 치장 아이템 획득 유무에 따른 평균 세션 수 증가율\n",
    "\n",
    "- 중장기 KPI\n",
    "\n",
    "    - 치장 아이템 획득자 vs 비획득자의 30/60/90일 Retention 차이\n",
    "\n",
    "    - 결제 전환율 변화(특히 첫 결제까지 소요일 감소)\n",
    "\n",
    "    - 치장 아이템 획득 후 평균 LTV(30/90일 기준) 상승"
   ]
  },
  {
   "cell_type": "code",
   "execution_count": null,
   "id": "6cba1b52",
   "metadata": {},
   "outputs": [],
   "source": []
  },
  {
   "cell_type": "markdown",
   "id": "fd582dec",
   "metadata": {},
   "source": [
    "8.1.4 A/B 테스트 설계\n",
    "\n",
    "- 테스트 그룹\n",
    "\n",
    "    - A 그룹 (Treatment): 행동 기반 치장 아이템 시스템 노출\n",
    "    - B 그룹 (Control): 기존 상태(치장 아이템 미노출)\n",
    "\n",
    "- 랜덤할당\n",
    "\n",
    "    - 신규 가입자 또는 유효 유저 중 일정 %를 랜덤으로 A/B 그룹에 배정\n",
    "    - 예) 전체 신규 가입자의 30% → A, 30% → B, 나머지는 추후 다른 캠페인\n",
    "\n",
    "- 테스트 기간\n",
    "\n",
    "    - 최소 4주 이상(최초 치장 아이템 취득까지 최소 1주, 후속 리텐션/결제 지표 관찰 포함)\n",
    "    - 전체 샘플이 충분히 확보될 때까지\n",
    "\n",
    "- 주요 지표\n",
    "\n",
    "    - 첫 주(7일) 재방문율 (7-day retention)\n",
    "    - 30일 Retention\n",
    "    - 세션 수(첫 30일): 평균 세션 수 비교\n",
    "    - 결제 전환율(30일 내): Treatment vs Control\n",
    "    - 첫 결제까지 소요일수: Treatment 그룹이 빠르게 결제로 전환되는지\n",
    "    - LTV(90일): Treatment vs Control 간 평균 revenue_90 비교\n",
    "\n",
    "- 통계 검정\n",
    "\n",
    "    - 이항 검정 (proportions_ztest) → 7-day retention, 결제 전환율\n",
    "    - Welch’s t-검정 → 세션 수, 결제까지 소요일수, revenue_90\n",
    "    - 효과 크기(Effect Size): Cohen’s d, risk difference 등"
   ]
  },
  {
   "cell_type": "markdown",
   "id": "f689d170",
   "metadata": {},
   "source": [
    "### 8.2 분기·시즌별 할인 프로모션"
   ]
  },
  {
   "cell_type": "markdown",
   "id": "0dfec5a3",
   "metadata": {},
   "source": [
    "8.2.1. 목적\n",
    "- 시즌성 수요(방학, 연말연초 등)를 활용해 단기 유입을 늘리고, 이후 연속 결제·리텐션을 유도  \n",
    "- 단발성 할인 프로모션뿐 아니라 **“연속 결제 시 반복 할인”** 로직을 넣어 장기 이용 유도  \n",
    "- 특히 0일차 이탈율이 높은 세그먼트(False)를 잠재고객으로 전환  \n",
    "\n",
    "8.2.2. 구체적 실행 방안\n",
    "1. **시즌별(분기별) 대규모 할인 캠페인**  \n",
    "   - 대학생 방학(7~8월), 연말연초(12월~1월) 주요 시기  \n",
    "   - **프로모션 코드 발급**:  \n",
    "     - **신년 프로모션**: `NY2025` → 전체 강의 25% 할인(유효기간 1월 31일까지)  \n",
    "     - **여름방학 프로모션**: `SUMMER25` → 25% 할인(유효기간 8월 31일까지)  \n",
    "\n",
    "2. **스파이럴 할인 구조**  \n",
    "   - **첫 결제**: 25% 할인 적용  \n",
    "   - **두 번째 결제(재구독)**: 15% 할인  \n",
    "   - **세 번째 결제 이후**: 10% 할인 지속  \n",
    "   - 할인 단계를 올리려면 **30일 이내 재구독** 원칙  \n",
    "   - 예: 1월 10일 첫 결제 → 2월 5일(재구독) → 두 번째 결제 시 15% 할인 코드 발급 → …\n",
    "     \n",
    "\n",
    "3. **개인별 리마인드 푸시/이메일**  \n",
    "   - 첫 결제 후 **만료 3일 전 푸시 알림**: “이번 달 프로모션 리필 할인 15% 적용 가능”  \n",
    "   - **만료 당일 푸시**: “오늘까지 스파이럴 할인 유효”  \n",
    "   - 특정 기간 내 재구독 시 **보너스 포인트 제공**  \n",
    "\n",
    "8.2.3. 기대 효과 및 KPI\n",
    "- **단기 KPI**  \n",
    "  - 시즌 프로모션 캠페인 클릭률(CTR), 랜딩 페이지 전환율  \n",
    "  - 첫 결제 전환율: False 세그먼트 유저 중 프로모션 코드 사용률  \n",
    "  - 재구독율(2차 결제율): 첫 결제 후 30일 이내 재구독 비율  \n",
    "\n",
    "- **중장기 KPI**  \n",
    "  - 30/60/90일 Retention: 스파이럴 할인 적용군 vs 비적용군 비교  \n",
    "  - 구독 지속 기간: 평균 구독 일수 비교  \n",
    "  - LTV(6개월, 1년 기준): 할인 프로모션 이후 평균 매출 기여도  \n",
    "\n",
    "8.2.4. A/B 테스트 설계 \n",
    "\n",
    "1. **테스트 그룹**  \n",
    "   - **A 그룹 (Treatment)**: 시즌 프로모션 + 스파이럴 할인 구조 적용  \n",
    "     - 첫 결제 25%, 재구독 15%, 이후 10%  \n",
    "   - **B 그룹 (Control)**: 단순 “첫 결제 25%만 할인”, 재구독 등 후속 할인 없음  \n",
    "\n",
    "2. **랜덤할당**  \n",
    "   - **시즌 기간(예: 1월 1일~1월 31일)**에 접속·가입하는 모든 신규 유저 중 50%를 A, 50%를 B에 무작위 할당  \n",
    "   - 이미 가입된 기존 유저는 제외(오직 신규 구독 유입에 집중)  \n",
    "\n",
    "3. **테스트 기간**  \n",
    "   - **첫 결제 유입**: 프로모션 기간(예: 1월)  \n",
    "   - **재구독 관찰**: 첫 결제 후 최소 60일 → 2월 말까지 재구독 여부  \n",
    "   - **최종 관찰**: 90일/180일 Retention & 구독 지속기간 분석  \n",
    "\n",
    "4. **주요 지표**  \n",
    "   - 첫 결제 전환율 (시즌 프로모션에 유입된 신규 사용자 중 실제 결제 비율)  \n",
    "   - 재구독율(30일 내)  \n",
    "   - 결제까지 소요일수 (첫 결제와 두 번째 결제 간 평균 소요일수 비교)  \n",
    "   - 구독 지속 기간(평균 X일)  \n",
    "   - LTV(180일 또는 1년 기준)  \n",
    "\n",
    "5. **통계 검정**  \n",
    "   - **이항 검정**(재구독율 비교): `proportions_ztest`  \n",
    "   - **Welch’s t-검정**(구독 지속 기간, LTV 평균 비교)  \n",
    "   - **Kaplan–Meier 생존 분석 + Log-rank test**(구독 유지 기간 비교)  \n",
    "\n"
   ]
  },
  {
   "cell_type": "markdown",
   "id": "f26663e4",
   "metadata": {},
   "source": [
    "### 8.3. 장기 충성 사용자 대상 특별 프로모션 (익스클루시브 콘텐츠 제공)\n",
    "\n",
    "8.3.1. 목적\n",
    "- 최상위 LTV 유저(소위 “파워 유저”)를 식별하여,  \n",
    "  - 이탈을 방지하고,  \n",
    "  - 추가 매출 기회를 창출  \n",
    "- 파워 유저에게만 제공되는 **독점적 경험**으로 충성도를 극대화  \n",
    "- 궁극적으로 파워 유저의 추천(refer-a-friend) 활동 유도 및 커뮤니티 확장  \n",
    "\n",
    "8.3.2. 구체적 실행 방안\n",
    "1. **파워 유저(Power User) 정의**  \n",
    "   - 기준 예시: “가입 6개월 내 누적 결제 금액 상위 5%”  \n",
    "   - 또는 “재결제 횟수 ≥ 6회 이상” 등의 정량적 트리거 설정  \n",
    "\n",
    "2. **익스클루시브 콘텐츠 제공**  \n",
    "   - **특별 강의/심화 코스**: 오직 파워 유저에게만 제공되는 고급 과정(예: 연간 구독자 전용 Masterclass)  \n",
    "   - **초청 이벤트**: 외부 전문가를 초청한 온라인 라이브 세션, AMA(Ask Me Anything)  \n",
    "   - **커뮤니티 혜택**: 전용 디스코드/슬랙 채널 초대, 정기 밋업 또는 웨비나 무료 참가권  \n",
    "\n",
    "3. **특별 프로모션**  \n",
    "   - **리퍼럴 보너스**: 파워 유저가 친구 초대 시, 양쪽 모두에게 소정의 크레딧 지급  \n",
    "   - **한정판 굿즈**: 스티커, 티셔츠 등 오프라인 이벤트 초대 및 기념품 제공  \n",
    "   - **VIP 전용 고객 지원**: 빠른 티켓 우선 처리, 전담 매니저 배정  \n",
    "\n",
    "8.3.3. 기대 효과 및 KPI\n",
    "- **단기 KPI**  \n",
    "  - 파워 유저 1:1 인터뷰 또는 서베이 만족도  \n",
    "  - 익스클루시브 콘텐츠 조회/참여율  \n",
    "  - 커뮤니티(디스코드/슬랙) 접속 활성도  \n",
    "\n",
    "- **중장기 KPI**  \n",
    "  - 파워 유저의 **리퍼럴 수** (친구 초대 건수)  \n",
    "  - **NPS(Net Promoter Score)**: “이 교육 서비스를 친구에게 추천할 의향”  \n",
    "  - 파워 유저의 **재결제율**, **구독 유지 기간**  \n",
    "  - 파워 유저가 유입시킨 신규 유저의 **LTV 비교**  \n",
    "\n",
    "8.3.4. A/B 테스트 설계 예시\n",
    "1. **테스트 그룹**  \n",
    "   - **A 그룹 (Treatment)**: 파워 유저에게 **엑스클루시브 콘텐츠 + VIP 지원** 제공  \n",
    "   - **B 그룹 (Control)**: 파워 유저임에도 불구하고 **기존 혜택**만 유지 (기존 수준의 서비스)  \n",
    "\n",
    "2. **랜덤할당**  \n",
    "   - 파워 유저 모집단이 충분히 크다면, 상위 5% 중 무작위로 절반(A)과 절반(B) 나눔  \n",
    "   - 또는 상위 10% 중 상위 5%(A)에게만 혜택, 나머지(상위 6~10%)는 B로 처리  \n",
    "\n",
    "3. **테스트 기간**  \n",
    "   - 최소 3~6개월(엑스클루시브 콘텐츠 정식 출시 후 활동 관찰 포함)  \n",
    "\n",
    "4. **주요 지표**  \n",
    "   - **리퍼럴 수**(Recruitment by Power User)  \n",
    "   - **재결제율**(renewal rate)  \n",
    "   - **구독 유지 기간**  \n",
    "   - **커뮤니티 활동 지표**: 게시글 작성 수, 댓글 수, 좋아요 수  \n",
    "   - **NPS** (파워 유저 대상 서베이)  \n",
    "\n",
    "5. **통계 검정**  \n",
    "   - **리퍼럴 수**: `poisson_test` (카운트 데이터 차이를 볼 때)  \n",
    "   - **재결제율**: 이항 Z-검정(`proportions_ztest`)  \n",
    "   - **구독 유지 기간**: Kaplan–Meier + Log-rank test  \n",
    "   - **NPS 점수**: Mann–Whitney U (설문 점수 비교)  "
   ]
  }
 ],
 "metadata": {
  "kernelspec": {
   "display_name": "Python 3",
   "language": "python",
   "name": "python3"
  },
  "language_info": {
   "codemirror_mode": {
    "name": "ipython",
    "version": 3
   },
   "file_extension": ".py",
   "mimetype": "text/x-python",
   "name": "python",
   "nbconvert_exporter": "python",
   "pygments_lexer": "ipython3",
   "version": "3.12.9"
  }
 },
 "nbformat": 4,
 "nbformat_minor": 5
}
